{
 "cells": [
  {
   "cell_type": "markdown",
   "metadata": {
    "id": "MqN_y29M6YR8"
   },
   "source": [
    "### Integration of SVM and MVO \n",
    "3 factor, 3 turnover, premium of 10% experiments\n",
    "\n",
    "This notebook only contains exact solves"
   ]
  },
  {
   "cell_type": "code",
   "execution_count": 1,
   "metadata": {
    "colab": {
     "base_uri": "https://localhost:8080/"
    },
    "executionInfo": {
     "elapsed": 117735,
     "status": "ok",
     "timestamp": 1665772772163,
     "user": {
      "displayName": "Ryan Islip",
      "userId": "09447671168486293026"
     },
     "user_tz": 240
    },
    "id": "l3fEvFDq6PgZ",
    "outputId": "cb2fa87c-22f8-40e6-bafa-2d10354be140",
    "ExecuteTime": {
     "end_time": "2023-10-31T16:14:15.544071900Z",
     "start_time": "2023-10-31T16:14:11.977193100Z"
    }
   },
   "outputs": [
    {
     "name": "stdout",
     "output_type": "stream",
     "text": [
      "Set parameter Username\n",
      "Academic license - for non-commercial use only - expires 2024-04-04\n"
     ]
    }
   ],
   "source": [
    "import gurobipy as gp\n",
    "from gurobipy import GRB\n",
    "pth = ''\n",
    "import sys\n",
    "import math \n",
    "import time\n",
    "\n",
    "from python.packages import *\n",
    "from python.svm_mvo import *\n",
    "from python.analysis_tools import *\n",
    "from itertools import product\n",
    "import os\n",
    "\n",
    "%matplotlib inline\n",
    "## Import Forecasts\n",
    "forecasts = pd.read_pickle(pth +'cache/Forecasts.pkl')\n",
    "## Import Returns\n",
    "rets = pd.read_pickle(pth + 'cache/RETS.pkl')\n",
    "## Import feature vectors\n",
    "wrds_svm = pd.read_pickle(pth + 'cache/WRDS_ASOF.pkl')\n",
    "## Import monthly prices\n",
    "prices = pd.read_pickle(pth + 'cache/PRICES.pkl')"
   ]
  },
  {
   "cell_type": "code",
   "execution_count": 2,
   "outputs": [
    {
     "data": {
      "text/plain": "Timestamp('2000-07-01 00:00:00')"
     },
     "execution_count": 2,
     "metadata": {},
     "output_type": "execute_result"
    }
   ],
   "source": [
    "mth = rets.index[0]\n",
    "mth"
   ],
   "metadata": {
    "collapsed": false,
    "ExecuteTime": {
     "end_time": "2023-10-31T16:14:15.567319400Z",
     "start_time": "2023-10-31T16:14:15.547469800Z"
    }
   }
  },
  {
   "cell_type": "code",
   "execution_count": 36,
   "outputs": [
    {
     "name": "stdout",
     "output_type": "stream",
     "text": [
      "valid tickers: ['AAPL', 'ABC', 'ABMD', 'ABT', 'ADBE', 'ADI', 'ADM', 'ADP', 'ADSK', 'AEE', 'AEP', 'AES', 'AJG', 'AKAM', 'ALB', 'ALK', 'AMAT', 'AMD', 'AME', 'AMGN', 'AMT', 'AMZN', 'ANSS', 'AON', 'AOS', 'APA', 'APD', 'APH', 'ATO', 'AVY', 'AZO', 'BA', 'BAX', 'BBY', 'BDX', 'BKNG', 'BLL', 'BMY', 'BSX', 'BWA', 'CAG', 'CAH', 'CAT', 'CCI', 'CCL', 'CDNS', 'CERN', 'CHD', 'CHRW', 'CI', 'CL', 'CLX', 'CMCSA', 'CMI', 'CMS', 'CNP', 'COO', 'COP', 'COST', 'CPB', 'CPRT', 'CSCO', 'CSX', 'CTAS', 'CTSH', 'CTXS', 'CVS', 'CVX', 'D', 'DD', 'DGX', 'DHR', 'DIS', 'DISH', 'DLTR', 'DOV', 'DRI', 'DTE', 'DUK', 'DVA', 'DVN', 'DXC', 'EA', 'EBAY', 'ECL', 'ED', 'EFX', 'EIX', 'EL', 'EMN', 'EMR', 'EOG', 'ES', 'ETN', 'ETR', 'EVRG', 'EXC', 'EXPD', 'F', 'FAST', 'FCX', 'FDX', 'FE', 'FFIV', 'FISV', 'FLS', 'FMC', 'GD', 'GIS', 'GLW', 'GPC', 'GPS', 'GWW', 'HAL', 'HAS', 'HD', 'HES', 'HFC', 'HOG', 'HOLX', 'HON', 'HP', 'HPQ', 'HRB', 'HRL', 'HSIC', 'HSY', 'HUM', 'IBM', 'IDXX', 'IEX', 'IFF', 'INCY', 'INTC', 'INTU', 'IP', 'IPG', 'IRM', 'IT', 'ITW', 'IVZ', 'J', 'JBHT', 'JCI', 'JKHY', 'JNJ', 'JNPR', 'JWN', 'K', 'KLAC', 'KMB', 'KMX', 'KO', 'KR', 'KSS', 'KSU', 'LEG', 'LH', 'LHX', 'LIN', 'LLY', 'LMT', 'LNT', 'LOW', 'LRCX', 'LUV', 'M', 'MAR', 'MAS', 'MCD', 'MCHP', 'MCK', 'MCO', 'MDT', 'MGM', 'MHK', 'MKC', 'MLM', 'MMC', 'MMM', 'MO', 'MRK', 'MRO', 'MSFT', 'MSI', 'MTD', 'MU', 'MXIM', 'NEE', 'NEM', 'NI', 'NKE', 'NLOK', 'NOC', 'NOV', 'NSC', 'NTAP', 'NUE', 'NVDA', 'NWL', 'OMC', 'ORCL', 'ORLY', 'OXY', 'PAYX', 'PEG', 'PEP', 'PFE', 'PG', 'PH', 'PKI', 'PNR', 'PNW', 'PPG', 'PPL', 'PRGO', 'PVH', 'PWR', 'PXD', 'QCOM', 'RCL', 'REGN', 'RHI', 'RL', 'RMD', 'ROK', 'ROL', 'ROP', 'ROST', 'RSG', 'RTX', 'SBAC', 'SBUX', 'SEE', 'SHW', 'SJM', 'SLB', 'SNA', 'SNPS', 'SO', 'SPGI', 'SRE', 'STE', 'STZ', 'SWK', 'SWKS', 'SYK', 'SYY', 'T', 'TAP', 'TFX', 'TGT', 'TJX', 'TMO', 'TSCO', 'TSN', 'TT', 'TXN', 'TXT', 'UHS', 'UNH', 'UNP', 'URI', 'VFC', 'VLO', 'VMC', 'VRSN', 'VRTX', 'VZ', 'WAB', 'WAT', 'WBA', 'WDC', 'WEC', 'WHR', 'WM', 'WMB', 'WMT', 'WY', 'XEL', 'XLNX', 'XOM', 'XRAY', 'XRX', 'YUM', 'ZBRA']\n"
     ]
    }
   ],
   "source": [
    "#convenient function\n",
    "sign = lambda a: int((a>0)) - int((a<0))\n",
    "\n",
    "#preprocessing\n",
    "cov_, mean_ = forecasts[mth]\n",
    "N = len(mean_)\n",
    "cov = cov_[:N,:N]\n",
    "mean = mean_[:N,:]\n",
    "tics = list(rets.columns[:N])\n",
    "print(\"valid tickers:\", tics)\n",
    "\n",
    "#get the wharton research data for the valid tickers for the month\n",
    "wrds_tics = wrds_svm[wrds_svm.index.get_level_values('tic').isin(tics)].xs(mth, level=\"MonthStart\")\n",
    "\n",
    "#restrict the wharton research data to the columns of interest\n",
    "#Y = wrds_tics.loc[:,\"ROC1\":\"Vol\"] # Y matrix in formulation as per the paper\n",
    "cols = ['Vol']\n",
    "Y = wrds_tics.loc[:,cols] # Y matrix in formulation\n",
    "\n",
    "def vol_data_treatment(Y):\n",
    "    Y.Vol = -1*Y.Vol/Y.Vol.std(axis=0) #for Vol Limit\n",
    "    return Y\n",
    "\n",
    "Y = vol_data_treatment(Y)\n",
    "\n",
    "ret_constr = 0.01 #no return constraint\n",
    "soft_margin = 100 #large preference for separation feasibility\n",
    "\n",
    "name = \"test4\"\n",
    "ratio = 0.7 #% of assets\n",
    "card_desc = \"Card07\"\n",
    "\n",
    "turnover_descs = [\"0_75\", \"1\", \"1_25\"]\n",
    "turnovers = [0.75/6, 1.00/6, 1.25/6] #divide by 6!\n",
    "\n",
    "# turnover_descs = [\"1000\"]\n",
    "# turnovers = [1000] #divide by 6!\n",
    "\n",
    "AssetLim = math.floor(N*ratio)\n",
    "epsilon = 1e-3 #epsilon hyper-parameter\n",
    "non_negativity_setting = True #set the hyperplane to have a normal in the non-negative orthant\n",
    "ratios = [0.1, 0.3, 0.5, 0.7, 0.9]\n",
    "            #SVM Heavy to not heavy\n",
    "epsilons = [1e-2, 1e-3, 1e-4] # is no SVM consideration\n",
    "epsilons_desc = {1e-2:\"eps negative 2\", 1e-3:\"eps negative 3\", 1e-4:\"eps negative 4\", 1e-5:\"eps negative 5\"}\n",
    "card_desc_list = {0.1:\"Card01\", 0.3:\"Card03\", 0.5:\"Card05\", 0.7:\"Card07\", 0.9:\"Card09\"}\n",
    "\n",
    "dpi_setting = 150"
   ],
   "metadata": {
    "collapsed": false,
    "ExecuteTime": {
     "end_time": "2023-10-31T21:12:24.736839100Z",
     "start_time": "2023-10-31T21:12:24.596157700Z"
    }
   }
  },
  {
   "cell_type": "code",
   "execution_count": 37,
   "metadata": {
    "id": "_wCkTgWbCJW7",
    "ExecuteTime": {
     "end_time": "2023-10-31T21:12:25.418389600Z",
     "start_time": "2023-10-31T21:12:25.402865300Z"
    }
   },
   "outputs": [],
   "source": [
    "import time\n",
    "def cb(model, where):\n",
    "    if where == GRB.Callback.MIPNODE:\n",
    "        # Get model objective\n",
    "        obj = model.cbGet(GRB.Callback.MIPNODE_OBJBST)\n",
    "\n",
    "        # Has objective changed?\n",
    "        if abs(obj - model._cur_obj) > 1e-8:\n",
    "            # If so, update incumbent and time\n",
    "            model._cur_obj = obj\n",
    "            model._time = time.time()\n",
    "\n",
    "    # Terminate if objective has not improved in 60s\n",
    "    if time.time() - model._time > 120:\n",
    "        model.terminate()"
   ]
  },
  {
   "cell_type": "markdown",
   "metadata": {
    "id": "W3ta3eSVfHCy"
   },
   "source": [
    "### Simple Min Variance Portfolio "
   ]
  },
  {
   "cell_type": "code",
   "execution_count": 38,
   "metadata": {
    "colab": {
     "base_uri": "https://localhost:8080/"
    },
    "executionInfo": {
     "elapsed": 625,
     "status": "ok",
     "timestamp": 1654025747333,
     "user": {
      "displayName": "Ryan Islip",
      "userId": "09447671168486293026"
     },
     "user_tz": 240
    },
    "id": "7kwcvWSsHzZ5",
    "outputId": "f266189a-15c0-411a-a0c2-60b2a9d809f9",
    "ExecuteTime": {
     "end_time": "2023-10-31T21:12:26.677388100Z",
     "start_time": "2023-10-31T21:12:26.432654400Z"
    }
   },
   "outputs": [
    {
     "name": "stdout",
     "output_type": "stream",
     "text": [
      "Set parameter TimeLimit to value 15\n",
      "Set parameter MIPGap to value 0.05\n",
      "Gurobi Optimizer version 9.5.2 build v9.5.2rc0 (win64)\n",
      "Thread count: 4 physical cores, 8 logical processors, using up to 8 threads\n",
      "Optimize a model with 2 rows, 572 columns and 572 nonzeros\n",
      "Model fingerprint: 0x000b6c30\n",
      "Model has 41041 quadratic objective terms\n",
      "Coefficient statistics:\n",
      "  Matrix range     [2e-04, 1e+00]\n",
      "  Objective range  [0e+00, 0e+00]\n",
      "  QObjective range [6e-07, 6e-01]\n",
      "  Bounds range     [0e+00, 0e+00]\n",
      "  RHS range        [1e-02, 1e+00]\n",
      "Presolve removed 0 rows and 286 columns\n",
      "Presolve time: 0.03s\n",
      "Presolved: 2 rows, 286 columns, 572 nonzeros\n",
      "Presolved model has 41041 quadratic objective terms\n",
      "Ordering time: 0.00s\n",
      "\n",
      "Barrier statistics:\n",
      " Free vars  : 285\n",
      " AA' NZ     : 4.104e+04\n",
      " Factor NZ  : 4.133e+04 (roughly 1 MB of memory)\n",
      " Factor Ops : 7.921e+06 (less than 1 second per iteration)\n",
      " Threads    : 4\n",
      "\n",
      "                  Objective                Residual\n",
      "Iter       Primal          Dual         Primal    Dual     Compl     Time\n",
      "   0   2.21401692e+05 -2.21401692e+05  1.16e+05 8.93e-05  1.00e+06     0s\n",
      "   1   1.17255029e+06 -1.17264996e+06  2.44e+04 7.09e+01  2.28e+05     0s\n",
      "   2   2.16742967e+05 -2.16901376e+05  1.92e+03 1.48e-06  2.05e+04     0s\n",
      "   3   7.40482320e+03 -7.59635202e+03  4.70e+01 3.63e-08  5.62e+02     0s\n",
      "   4   2.18337913e-01 -2.15275828e+02  9.76e-02 7.53e-11  1.92e+00     0s\n",
      "   5   3.69004677e-02 -8.28004313e+01  9.76e-08 7.53e-17  2.89e-01     0s\n",
      "   6   3.67774636e-02 -1.30289996e-01  9.93e-11 1.39e-17  5.82e-04     0s\n",
      "   7   1.19895008e-02 -1.77743291e-02  7.96e-12 1.39e-17  1.04e-04     0s\n",
      "   8   3.67148685e-03 -8.85624080e-03  8.33e-17 8.33e-17  4.37e-05     0s\n",
      "   9   1.67873697e-03 -6.93601778e-04  4.34e-17 6.94e-17  8.27e-06     0s\n",
      "  10   1.17089141e-03 -1.93669747e-04  8.33e-17 2.08e-17  4.75e-06     0s\n",
      "  11   8.29898475e-04  6.19866574e-04  6.25e-17 1.48e-17  7.32e-07     0s\n",
      "  12   7.25259426e-04  6.65385632e-04  2.36e-16 1.39e-17  2.09e-07     0s\n",
      "  13   6.89114550e-04  6.85441538e-04  1.53e-16 9.97e-18  1.28e-08     0s\n",
      "  14   6.86335302e-04  6.86204769e-04  5.27e-16 8.88e-18  4.55e-10     0s\n",
      "  15   6.86244876e-04  6.86241408e-04  6.58e-15 9.54e-18  1.21e-11     0s\n",
      "\n",
      "Barrier solved model in 15 iterations and 0.27 seconds (0.08 work units)\n",
      "Optimal objective 6.86244876e-04\n",
      "\n"
     ]
    },
    {
     "data": {
      "text/plain": "0.2940027713775635"
     },
     "execution_count": 38,
     "metadata": {},
     "output_type": "execute_result"
    }
   ],
   "source": [
    "MVO = SVMMVO(tics, mean, cov, ret_constr, soft_margin,Y , AssetLim,\\\n",
    "             svm_choice = (False, False), print_var_frntr= True,\n",
    "             cardinality = False)#define an instance of the class\n",
    "\n",
    "MVO.set_model() #set up the model\n",
    "MVO.model.Params.timelimit = 15\n",
    "MVO.model.Params.MIPGAP = 0.05\n",
    "MVO.optimize() #find optimal solution"
   ]
  },
  {
   "cell_type": "markdown",
   "metadata": {
    "id": "K7you9bPfMGK"
   },
   "source": [
    "### Mean Variance and SVM Joint Formulation"
   ]
  },
  {
   "cell_type": "code",
   "execution_count": 39,
   "metadata": {
    "colab": {
     "base_uri": "https://localhost:8080/"
    },
    "executionInfo": {
     "elapsed": 2107,
     "status": "ok",
     "timestamp": 1654025776094,
     "user": {
      "displayName": "Ryan Islip",
      "userId": "09447671168486293026"
     },
     "user_tz": 240
    },
    "id": "0lHbqvBLqfkO",
    "outputId": "9dfc3710-bf67-4564-db8a-7996bfe4502a",
    "ExecuteTime": {
     "end_time": "2023-10-31T16:14:21.291569200Z",
     "start_time": "2023-10-31T16:14:18.456747100Z"
    }
   },
   "outputs": [
    {
     "name": "stdout",
     "output_type": "stream",
     "text": [
      "Set parameter TimeLimit to value 15\n",
      "Gurobi Optimizer version 9.5.2 build v9.5.2rc0 (win64)\n",
      "Thread count: 4 physical cores, 8 logical processors, using up to 8 threads\n",
      "Optimize a model with 862 rows, 860 columns and 3432 nonzeros\n",
      "Model fingerprint: 0x3afbc337\n",
      "Model has 41042 quadratic objective terms\n",
      "Variable types: 574 continuous, 286 integer (286 binary)\n",
      "Coefficient statistics:\n",
      "  Matrix range     [2e-04, 1e+02]\n",
      "  Objective range  [0e+00, 0e+00]\n",
      "  QObjective range [6e-07, 1e+00]\n",
      "  Bounds range     [1e+00, 1e+00]\n",
      "  RHS range        [1e-03, 2e+02]\n",
      "Presolve removed 1 rows and 286 columns\n",
      "Presolve time: 0.03s\n",
      "Presolved: 861 rows, 574 columns, 3146 nonzeros\n",
      "Presolved model has 41042 quadratic objective terms\n",
      "Variable types: 288 continuous, 286 integer (286 binary)\n",
      "\n",
      "Root relaxation: objective 6.862430e-04, 689 iterations, 0.03 seconds (0.02 work units)\n",
      "\n",
      "    Nodes    |    Current Node    |     Objective Bounds      |     Work\n",
      " Expl Unexpl |  Obj  Depth IntInf | Incumbent    BestBd   Gap | It/Node Time\n",
      "\n",
      "     0     0    0.00069    0  286          -    0.00069      -     -    0s\n",
      "     0     0    0.00069    0  286          -    0.00069      -     -    0s\n",
      "     0     0    0.00069    0  286          -    0.00069      -     -    0s\n",
      "     0     0    0.00069    0  286          -    0.00069      -     -    0s\n",
      "     0     0    0.00069    0  286          -    0.00069      -     -    0s\n",
      "     0     0    0.00069    0  286          -    0.00069      -     -    1s\n",
      "H    0     0                       0.4278040    0.00069   100%     -    2s\n",
      "     0     2    0.00069    0  286    0.42780    0.00069   100%     -    3s\n",
      "H   32    15                       0.0061348    0.00069  88.8%  62.3    3s\n",
      "   775   346    0.00105   74   66    0.00613    0.00069  88.8%  14.0    5s\n",
      "H 4759   522                       0.0052044    0.00075  85.7%   8.9    9s\n",
      "  6149   315     cutoff   67         0.00520    0.00158  69.7%   8.3   10s\n",
      "H 6661   144                       0.0041067    0.00191  53.6%   8.1   10s\n",
      "\n",
      "Cutting planes:\n",
      "  Cover: 2\n",
      "  MIR: 4\n",
      "  Flow cover: 1\n",
      "  Inf proof: 1\n",
      "\n",
      "Explored 7028 nodes (55959 simplex iterations) in 10.34 seconds (6.82 work units)\n",
      "Thread count was 8 (of 8 available processors)\n",
      "\n",
      "Solution count 4: 0.00410675 0.00520437 0.00613483 0.427804 \n",
      "\n",
      "Optimal solution found (tolerance 1.00e-04)\n",
      "Best objective 4.106749504763e-03, best bound 4.106749504763e-03, gap 0.0000%\n"
     ]
    },
    {
     "data": {
      "text/plain": "10.365002155303955"
     },
     "execution_count": 39,
     "metadata": {},
     "output_type": "execute_result"
    }
   ],
   "source": [
    "SVM_MVO = SVMMVO(tics, mean, cov, ret_constr, soft_margin,Y , AssetLim,\n",
    "                 svm_choice = (True, False), print_var_frntr = False,\n",
    "                 indicator = False, non_neg = non_negativity_setting, epsilon = epsilon)#define an instance of the class )\n",
    "SVM_MVO.set_model()\n",
    "SVM_MVO.model.Params.timelimit = 15\n",
    "SVM_MVO.optimize()"
   ]
  },
  {
   "cell_type": "markdown",
   "metadata": {
    "id": "XxGCqUt7E3x1"
   },
   "source": [
    "### Mean Variance and SVM Joint Formulation with Slacks"
   ]
  },
  {
   "cell_type": "code",
   "execution_count": 40,
   "outputs": [
    {
     "data": {
      "text/plain": "array([0.69207812])"
     },
     "execution_count": 40,
     "metadata": {},
     "output_type": "execute_result"
    }
   ],
   "source": [
    "SVM_MVO.b.x/SVM_MVO.w.x"
   ],
   "metadata": {
    "collapsed": false,
    "ExecuteTime": {
     "end_time": "2023-10-31T16:14:23.563941100Z",
     "start_time": "2023-10-31T16:14:23.552429200Z"
    }
   }
  },
  {
   "cell_type": "code",
   "execution_count": 41,
   "outputs": [
    {
     "data": {
      "text/plain": "array([0.08200898])"
     },
     "execution_count": 41,
     "metadata": {},
     "output_type": "execute_result"
    }
   ],
   "source": [
    "SVM_MVO.w.x"
   ],
   "metadata": {
    "collapsed": false,
    "ExecuteTime": {
     "end_time": "2023-10-31T16:14:26.245494400Z",
     "start_time": "2023-10-31T16:14:26.218430500Z"
    }
   }
  },
  {
   "cell_type": "code",
   "execution_count": 42,
   "metadata": {
    "colab": {
     "base_uri": "https://localhost:8080/"
    },
    "executionInfo": {
     "elapsed": 112135,
     "status": "ok",
     "timestamp": 1653837413155,
     "user": {
      "displayName": "Ryan Islip",
      "userId": "09447671168486293026"
     },
     "user_tz": 240
    },
    "id": "4AbEMjyzSe1H",
    "outputId": "8dba6e0f-6495-4c1f-ab37-c9361e8b1afd",
    "ExecuteTime": {
     "end_time": "2023-10-31T16:14:31.216350800Z",
     "start_time": "2023-10-31T16:14:27.636518300Z"
    }
   },
   "outputs": [
    {
     "name": "stdout",
     "output_type": "stream",
     "text": [
      "Set parameter TimeLimit to value 15\n",
      "Gurobi Optimizer version 9.5.2 build v9.5.2rc0 (win64)\n",
      "Thread count: 4 physical cores, 8 logical processors, using up to 8 threads\n",
      "Optimize a model with 862 rows, 1146 columns and 4004 nonzeros\n",
      "Model fingerprint: 0x2f63337d\n",
      "Model has 41042 quadratic objective terms\n",
      "Variable types: 860 continuous, 286 integer (286 binary)\n",
      "Coefficient statistics:\n",
      "  Matrix range     [2e-04, 1e+02]\n",
      "  Objective range  [3e-01, 3e-01]\n",
      "  QObjective range [6e-07, 1e+00]\n",
      "  Bounds range     [1e+00, 1e+00]\n",
      "  RHS range        [1e-03, 2e+02]\n",
      "Found heuristic solution: objective 2.000000e+11\n",
      "Presolve removed 1 rows and 286 columns\n",
      "Presolve time: 0.01s\n",
      "Presolved: 861 rows, 860 columns, 3718 nonzeros\n",
      "Presolved model has 41042 quadratic objective terms\n",
      "Variable types: 574 continuous, 286 integer (286 binary)\n",
      "\n",
      "Root relaxation: objective 6.862430e-04, 689 iterations, 0.02 seconds (0.02 work units)\n",
      "\n",
      "    Nodes    |    Current Node    |     Objective Bounds      |     Work\n",
      " Expl Unexpl |  Obj  Depth IntInf | Incumbent    BestBd   Gap | It/Node Time\n",
      "\n",
      "     0     0    0.00069    0  286 2.0000e+11    0.00069   100%     -    0s\n",
      "H    0     0                       0.0827754    0.00069  99.2%     -    0s\n",
      "H    0     0                       0.0785833    0.00069  99.1%     -    0s\n",
      "H    0     0                       0.0685070    0.00069  99.0%     -    0s\n",
      "H    0     0                       0.0179282    0.00069  96.2%     -    0s\n",
      "     0     0    0.00069    0  286    0.01793    0.00069  96.2%     -    0s\n",
      "     0     0    0.00069    0  286    0.01793    0.00069  96.2%     -    0s\n",
      "     0     0    0.00069    0  286    0.01793    0.00069  96.2%     -    0s\n",
      "     0     0    0.00069    0  286    0.01793    0.00069  96.2%     -    0s\n",
      "     0     0    0.00069    0  286    0.01793    0.00069  96.2%     -    0s\n",
      "     0     0    0.00069    0  286    0.01793    0.00069  96.2%     -    0s\n",
      "     0     2    0.00069    0  286    0.01793    0.00069  96.2%     -    0s\n",
      "H   33    39                       0.0058379    0.00069  88.2%  95.8    0s\n",
      "H  223   237                       0.0056643    0.00069  87.9%  40.4    0s\n",
      "H  309   328                       0.0056058    0.00069  87.8%  36.1    1s\n",
      "H  385   385                       0.0050090    0.00069  86.3%  32.2    1s\n",
      "H  399   415                       0.0044859    0.00069  84.7%  31.5    1s\n",
      "H  595   556                       0.0033844    0.00069  79.7%  24.1    1s\n",
      "H  664   593                       0.0033834    0.00069  79.7%  23.3    1s\n",
      "H  694   593                       0.0033834    0.00069  79.7%  23.1    1s\n",
      "H 1106   863                       0.0033218    0.00069  79.3%  20.1    2s\n",
      "  1127   879    0.00071   11   50    0.00332    0.00069  79.3%  21.8    5s\n",
      "H 1537  1058                       0.0032887    0.00069  79.1%  21.6    7s\n",
      "H 2031  1276                       0.0031513    0.00069  78.2%  18.9    8s\n",
      "  2679  1608    0.00151   77   49    0.00315    0.00069  78.2%  18.4   11s\n",
      "H 3066  1609                       0.0028619    0.00069  76.0%  18.6   13s\n",
      "\n",
      "Cutting planes:\n",
      "  Cover: 1\n",
      "  MIR: 2\n",
      "  Flow cover: 1\n",
      "\n",
      "Explored 4324 nodes (65761 simplex iterations) in 15.04 seconds (9.44 work units)\n",
      "Thread count was 8 (of 8 available processors)\n",
      "\n",
      "Solution count 10: 0.00286188 0.00315126 0.00328867 ... 0.068507\n",
      "\n",
      "Time limit reached\n",
      "Best objective 2.861880981836e-03, best bound 6.862461359327e-04, gap 76.0212%\n",
      "\n",
      "User-callback calls 12086, time in user-callback 0.12 sec\n"
     ]
    },
    {
     "data": {
      "text/plain": "15.060999870300293"
     },
     "execution_count": 42,
     "metadata": {},
     "output_type": "execute_result"
    }
   ],
   "source": [
    "#SVM with slack\n",
    "SVM_MVO_Slck = SVMMVO(tics, mean, cov, ret_constr, soft_margin,Y , AssetLim,\n",
    "                      svm_choice = (True, True), print_var_frntr = False, non_neg = non_negativity_setting, epsilon = epsilon)\n",
    "SVM_MVO_Slck.set_model()\n",
    "SVM_MVO_Slck.model.Params.timelimit = 15\n",
    "\n",
    "SVM_MVO_Slck.optimize(cbb=cb)"
   ]
  },
  {
   "cell_type": "code",
   "execution_count": 43,
   "outputs": [
    {
     "data": {
      "text/plain": "array([0.03043323])"
     },
     "execution_count": 43,
     "metadata": {},
     "output_type": "execute_result"
    }
   ],
   "source": [
    "SVM_MVO_Slck.b.x"
   ],
   "metadata": {
    "collapsed": false,
    "ExecuteTime": {
     "end_time": "2023-10-31T16:14:36.023094500Z",
     "start_time": "2023-10-31T16:14:36.010074900Z"
    }
   }
  },
  {
   "cell_type": "code",
   "execution_count": 44,
   "outputs": [
    {
     "data": {
      "text/plain": "array([0.03980908])"
     },
     "execution_count": 44,
     "metadata": {},
     "output_type": "execute_result"
    }
   ],
   "source": [
    "SVM_MVO_Slck.w.x"
   ],
   "metadata": {
    "collapsed": false,
    "ExecuteTime": {
     "end_time": "2023-10-31T16:14:37.137299600Z",
     "start_time": "2023-10-31T16:14:37.089021300Z"
    }
   }
  },
  {
   "cell_type": "code",
   "execution_count": 45,
   "metadata": {
    "colab": {
     "base_uri": "https://localhost:8080/",
     "height": 284
    },
    "executionInfo": {
     "elapsed": 718,
     "status": "ok",
     "timestamp": 1653837413870,
     "user": {
      "displayName": "Ryan Islip",
      "userId": "09447671168486293026"
     },
     "user_tz": 240
    },
    "id": "lHelD-zuvtNA",
    "outputId": "dd0238a5-1898-4fc8-ebb2-45d5c7c3dd60",
    "ExecuteTime": {
     "end_time": "2023-10-31T16:15:50.523710700Z",
     "start_time": "2023-10-31T16:14:44.986936400Z"
    }
   },
   "outputs": [
    {
     "data": {
      "text/plain": "<Figure size 2000x400 with 1 Axes>",
      "image/png": "[encoded data removed]"
     },
     "metadata": {},
     "output_type": "display_data"
    }
   ],
   "source": [
    "#portfolio comparison\n",
    "#out = pd.concat([SVM_MVO_Slck.get_results(), SVM_MVO.get_results(), MVO.get_results()], axis = 0)\n",
    "out = pd.concat([SVM_MVO.get_results(), SVM_MVO_Slck.get_results(), MVO.get_results()], axis = 0)\n",
    "out[out.columns[(out > 0.001).any(axis = 0)]].transpose()[:-2].plot.bar(figsize = (20,4), width = 0.75);"
   ]
  },
  {
   "cell_type": "code",
   "execution_count": 46,
   "metadata": {
    "id": "GWQrF1xPT-8F"
   },
   "outputs": [],
   "source": [
    "return_premium = 0.1 #similiar to Costa and Kwon\n",
    "#Limit = 0.75/6 #1/6 because Costa and Kwon use 1 for 6 month period. \n",
    "T = len(rets.index)"
   ]
  },
  {
   "cell_type": "code",
   "execution_count": null,
   "metadata": {
    "colab": {
     "base_uri": "https://localhost:8080/"
    },
    "executionInfo": {
     "elapsed": 57325,
     "status": "ok",
     "timestamp": 1653867865102,
     "user": {
      "displayName": "Ryan Islip",
      "userId": "09447671168486293026"
     },
     "user_tz": 240
    },
    "id": "CkMsa5WE1HaA",
    "outputId": "e82d5495-bb6c-41ff-9fa7-7f83be0ce490"
   },
   "outputs": [
    {
     "name": "stdout",
     "output_type": "stream",
     "text": [
      "processing asset limit  28\n",
      "_________________________\n",
      "Iteration  0\n",
      "Percent Complete  0.0\n"
     ]
    },
    {
     "ename": "KeyboardInterrupt",
     "evalue": "",
     "output_type": "error",
     "traceback": [
      "\u001B[1;31m---------------------------------------------------------------------------\u001B[0m",
      "\u001B[1;31mKeyboardInterrupt\u001B[0m                         Traceback (most recent call last)",
      "File \u001B[1;32msrc\\gurobipy\\callback.pxi:209\u001B[0m, in \u001B[0;36mgurobipy.CallbackClass.callback\u001B[1;34m()\u001B[0m\n",
      "Cell \u001B[1;32mIn [37], line 2\u001B[0m, in \u001B[0;36mcb\u001B[1;34m(model, where)\u001B[0m\n\u001B[0;32m      1\u001B[0m \u001B[38;5;28;01mimport\u001B[39;00m \u001B[38;5;21;01mtime\u001B[39;00m\n\u001B[1;32m----> 2\u001B[0m \u001B[38;5;28;01mdef\u001B[39;00m \u001B[38;5;21mcb\u001B[39m(model, where):\n\u001B[0;32m      3\u001B[0m     \u001B[38;5;28;01mif\u001B[39;00m where \u001B[38;5;241m==\u001B[39m GRB\u001B[38;5;241m.\u001B[39mCallback\u001B[38;5;241m.\u001B[39mMIPNODE:\n\u001B[0;32m      4\u001B[0m         \u001B[38;5;66;03m# Get model objective\u001B[39;00m\n\u001B[0;32m      5\u001B[0m         obj \u001B[38;5;241m=\u001B[39m model\u001B[38;5;241m.\u001B[39mcbGet(GRB\u001B[38;5;241m.\u001B[39mCallback\u001B[38;5;241m.\u001B[39mMIPNODE_OBJBST)\n",
      "\u001B[1;31mKeyboardInterrupt\u001B[0m: "
     ]
    },
    {
     "name": "stderr",
     "output_type": "stream",
     "text": [
      "Exception ignored in: 'gurobipy.callbackstub'\n",
      "Traceback (most recent call last):\n",
      "  File \"src\\gurobipy\\callback.pxi\", line 209, in gurobipy.CallbackClass.callback\n",
      "  File \"C:\\Users\\david\\AppData\\Local\\Temp\\ipykernel_13988\\4246588540.py\", line 2, in cb\n",
      "KeyboardInterrupt: \n"
     ]
    },
    {
     "ename": "KeyboardInterrupt",
     "evalue": "",
     "output_type": "error",
     "traceback": [
      "\u001B[1;31m---------------------------------------------------------------------------\u001B[0m",
      "\u001B[1;31mKeyboardInterrupt\u001B[0m                         Traceback (most recent call last)",
      "File \u001B[1;32msrc\\gurobipy\\callback.pxi:209\u001B[0m, in \u001B[0;36mgurobipy.CallbackClass.callback\u001B[1;34m()\u001B[0m\n",
      "Cell \u001B[1;32mIn [37], line 2\u001B[0m, in \u001B[0;36mcb\u001B[1;34m(model, where)\u001B[0m\n\u001B[0;32m      1\u001B[0m \u001B[38;5;28;01mimport\u001B[39;00m \u001B[38;5;21;01mtime\u001B[39;00m\n\u001B[1;32m----> 2\u001B[0m \u001B[38;5;28;01mdef\u001B[39;00m \u001B[38;5;21mcb\u001B[39m(model, where):\n\u001B[0;32m      3\u001B[0m     \u001B[38;5;28;01mif\u001B[39;00m where \u001B[38;5;241m==\u001B[39m GRB\u001B[38;5;241m.\u001B[39mCallback\u001B[38;5;241m.\u001B[39mMIPNODE:\n\u001B[0;32m      4\u001B[0m         \u001B[38;5;66;03m# Get model objective\u001B[39;00m\n\u001B[0;32m      5\u001B[0m         obj \u001B[38;5;241m=\u001B[39m model\u001B[38;5;241m.\u001B[39mcbGet(GRB\u001B[38;5;241m.\u001B[39mCallback\u001B[38;5;241m.\u001B[39mMIPNODE_OBJBST)\n",
      "\u001B[1;31mKeyboardInterrupt\u001B[0m: "
     ]
    },
    {
     "name": "stderr",
     "output_type": "stream",
     "text": [
      "Exception ignored in: 'gurobipy.callbackstub'\n",
      "Traceback (most recent call last):\n",
      "  File \"src\\gurobipy\\callback.pxi\", line 209, in gurobipy.CallbackClass.callback\n",
      "  File \"C:\\Users\\david\\AppData\\Local\\Temp\\ipykernel_13988\\4246588540.py\", line 2, in cb\n",
      "KeyboardInterrupt: \n"
     ]
    },
    {
     "ename": "KeyboardInterrupt",
     "evalue": "",
     "output_type": "error",
     "traceback": [
      "\u001B[1;31m---------------------------------------------------------------------------\u001B[0m",
      "\u001B[1;31mKeyboardInterrupt\u001B[0m                         Traceback (most recent call last)",
      "File \u001B[1;32msrc\\gurobipy\\callback.pxi:209\u001B[0m, in \u001B[0;36mgurobipy.CallbackClass.callback\u001B[1;34m()\u001B[0m\n",
      "Cell \u001B[1;32mIn [37], line 2\u001B[0m, in \u001B[0;36mcb\u001B[1;34m(model, where)\u001B[0m\n\u001B[0;32m      1\u001B[0m \u001B[38;5;28;01mimport\u001B[39;00m \u001B[38;5;21;01mtime\u001B[39;00m\n\u001B[1;32m----> 2\u001B[0m \u001B[38;5;28;01mdef\u001B[39;00m \u001B[38;5;21mcb\u001B[39m(model, where):\n\u001B[0;32m      3\u001B[0m     \u001B[38;5;28;01mif\u001B[39;00m where \u001B[38;5;241m==\u001B[39m GRB\u001B[38;5;241m.\u001B[39mCallback\u001B[38;5;241m.\u001B[39mMIPNODE:\n\u001B[0;32m      4\u001B[0m         \u001B[38;5;66;03m# Get model objective\u001B[39;00m\n\u001B[0;32m      5\u001B[0m         obj \u001B[38;5;241m=\u001B[39m model\u001B[38;5;241m.\u001B[39mcbGet(GRB\u001B[38;5;241m.\u001B[39mCallback\u001B[38;5;241m.\u001B[39mMIPNODE_OBJBST)\n",
      "\u001B[1;31mKeyboardInterrupt\u001B[0m: "
     ]
    },
    {
     "name": "stderr",
     "output_type": "stream",
     "text": [
      "Exception ignored in: 'gurobipy.callbackstub'\n",
      "Traceback (most recent call last):\n",
      "  File \"src\\gurobipy\\callback.pxi\", line 209, in gurobipy.CallbackClass.callback\n",
      "  File \"C:\\Users\\david\\AppData\\Local\\Temp\\ipykernel_13988\\4246588540.py\", line 2, in cb\n",
      "KeyboardInterrupt: \n"
     ]
    },
    {
     "ename": "KeyboardInterrupt",
     "evalue": "",
     "output_type": "error",
     "traceback": [
      "\u001B[1;31m---------------------------------------------------------------------------\u001B[0m",
      "\u001B[1;31mKeyboardInterrupt\u001B[0m                         Traceback (most recent call last)",
      "File \u001B[1;32msrc\\gurobipy\\callback.pxi:209\u001B[0m, in \u001B[0;36mgurobipy.CallbackClass.callback\u001B[1;34m()\u001B[0m\n",
      "Cell \u001B[1;32mIn [37], line 2\u001B[0m, in \u001B[0;36mcb\u001B[1;34m(model, where)\u001B[0m\n\u001B[0;32m      1\u001B[0m \u001B[38;5;28;01mimport\u001B[39;00m \u001B[38;5;21;01mtime\u001B[39;00m\n\u001B[1;32m----> 2\u001B[0m \u001B[38;5;28;01mdef\u001B[39;00m \u001B[38;5;21mcb\u001B[39m(model, where):\n\u001B[0;32m      3\u001B[0m     \u001B[38;5;28;01mif\u001B[39;00m where \u001B[38;5;241m==\u001B[39m GRB\u001B[38;5;241m.\u001B[39mCallback\u001B[38;5;241m.\u001B[39mMIPNODE:\n\u001B[0;32m      4\u001B[0m         \u001B[38;5;66;03m# Get model objective\u001B[39;00m\n\u001B[0;32m      5\u001B[0m         obj \u001B[38;5;241m=\u001B[39m model\u001B[38;5;241m.\u001B[39mcbGet(GRB\u001B[38;5;241m.\u001B[39mCallback\u001B[38;5;241m.\u001B[39mMIPNODE_OBJBST)\n",
      "\u001B[1;31mKeyboardInterrupt\u001B[0m: "
     ]
    },
    {
     "name": "stderr",
     "output_type": "stream",
     "text": [
      "Exception ignored in: 'gurobipy.callbackstub'\n",
      "Traceback (most recent call last):\n",
      "  File \"src\\gurobipy\\callback.pxi\", line 209, in gurobipy.CallbackClass.callback\n",
      "  File \"C:\\Users\\david\\AppData\\Local\\Temp\\ipykernel_13988\\4246588540.py\", line 2, in cb\n",
      "KeyboardInterrupt: \n"
     ]
    },
    {
     "ename": "KeyboardInterrupt",
     "evalue": "",
     "output_type": "error",
     "traceback": [
      "\u001B[1;31m---------------------------------------------------------------------------\u001B[0m",
      "\u001B[1;31mKeyboardInterrupt\u001B[0m                         Traceback (most recent call last)",
      "File \u001B[1;32msrc\\gurobipy\\callback.pxi:209\u001B[0m, in \u001B[0;36mgurobipy.CallbackClass.callback\u001B[1;34m()\u001B[0m\n",
      "Cell \u001B[1;32mIn [37], line 2\u001B[0m, in \u001B[0;36mcb\u001B[1;34m(model, where)\u001B[0m\n\u001B[0;32m      1\u001B[0m \u001B[38;5;28;01mimport\u001B[39;00m \u001B[38;5;21;01mtime\u001B[39;00m\n\u001B[1;32m----> 2\u001B[0m \u001B[38;5;28;01mdef\u001B[39;00m \u001B[38;5;21mcb\u001B[39m(model, where):\n\u001B[0;32m      3\u001B[0m     \u001B[38;5;28;01mif\u001B[39;00m where \u001B[38;5;241m==\u001B[39m GRB\u001B[38;5;241m.\u001B[39mCallback\u001B[38;5;241m.\u001B[39mMIPNODE:\n\u001B[0;32m      4\u001B[0m         \u001B[38;5;66;03m# Get model objective\u001B[39;00m\n\u001B[0;32m      5\u001B[0m         obj \u001B[38;5;241m=\u001B[39m model\u001B[38;5;241m.\u001B[39mcbGet(GRB\u001B[38;5;241m.\u001B[39mCallback\u001B[38;5;241m.\u001B[39mMIPNODE_OBJBST)\n",
      "\u001B[1;31mKeyboardInterrupt\u001B[0m: "
     ]
    },
    {
     "name": "stderr",
     "output_type": "stream",
     "text": [
      "Exception ignored in: 'gurobipy.callbackstub'\n",
      "Traceback (most recent call last):\n",
      "  File \"src\\gurobipy\\callback.pxi\", line 209, in gurobipy.CallbackClass.callback\n",
      "  File \"C:\\Users\\david\\AppData\\Local\\Temp\\ipykernel_13988\\4246588540.py\", line 2, in cb\n",
      "KeyboardInterrupt: \n"
     ]
    },
    {
     "ename": "KeyboardInterrupt",
     "evalue": "",
     "output_type": "error",
     "traceback": [
      "\u001B[1;31m---------------------------------------------------------------------------\u001B[0m",
      "\u001B[1;31mKeyboardInterrupt\u001B[0m                         Traceback (most recent call last)",
      "File \u001B[1;32msrc\\gurobipy\\callback.pxi:209\u001B[0m, in \u001B[0;36mgurobipy.CallbackClass.callback\u001B[1;34m()\u001B[0m\n",
      "Cell \u001B[1;32mIn [37], line 2\u001B[0m, in \u001B[0;36mcb\u001B[1;34m(model, where)\u001B[0m\n\u001B[0;32m      1\u001B[0m \u001B[38;5;28;01mimport\u001B[39;00m \u001B[38;5;21;01mtime\u001B[39;00m\n\u001B[1;32m----> 2\u001B[0m \u001B[38;5;28;01mdef\u001B[39;00m \u001B[38;5;21mcb\u001B[39m(model, where):\n\u001B[0;32m      3\u001B[0m     \u001B[38;5;28;01mif\u001B[39;00m where \u001B[38;5;241m==\u001B[39m GRB\u001B[38;5;241m.\u001B[39mCallback\u001B[38;5;241m.\u001B[39mMIPNODE:\n\u001B[0;32m      4\u001B[0m         \u001B[38;5;66;03m# Get model objective\u001B[39;00m\n\u001B[0;32m      5\u001B[0m         obj \u001B[38;5;241m=\u001B[39m model\u001B[38;5;241m.\u001B[39mcbGet(GRB\u001B[38;5;241m.\u001B[39mCallback\u001B[38;5;241m.\u001B[39mMIPNODE_OBJBST)\n",
      "\u001B[1;31mKeyboardInterrupt\u001B[0m: "
     ]
    },
    {
     "name": "stderr",
     "output_type": "stream",
     "text": [
      "Exception ignored in: 'gurobipy.callbackstub'\n",
      "Traceback (most recent call last):\n",
      "  File \"src\\gurobipy\\callback.pxi\", line 209, in gurobipy.CallbackClass.callback\n",
      "  File \"C:\\Users\\david\\AppData\\Local\\Temp\\ipykernel_13988\\4246588540.py\", line 2, in cb\n",
      "KeyboardInterrupt: \n",
      "\n",
      "KeyboardInterrupt\n",
      "\n",
      "Exception ignored in: 'gurobipy.callbackstub'\n",
      "Traceback (most recent call last):\n",
      "  File \"src\\gurobipy\\callback.pxi\", line 209, in gurobipy.CallbackClass.callback\n",
      "  File \"C:\\Users\\david\\AppData\\Local\\Temp\\ipykernel_13988\\4246588540.py\", line 2, in cb\n",
      "KeyboardInterrupt: \n"
     ]
    },
    {
     "ename": "KeyboardInterrupt",
     "evalue": "",
     "output_type": "error",
     "traceback": [
      "\u001B[1;31m---------------------------------------------------------------------------\u001B[0m",
      "\u001B[1;31mKeyboardInterrupt\u001B[0m                         Traceback (most recent call last)",
      "File \u001B[1;32msrc\\gurobipy\\callback.pxi:209\u001B[0m, in \u001B[0;36mgurobipy.CallbackClass.callback\u001B[1;34m()\u001B[0m\n",
      "Cell \u001B[1;32mIn [37], line 2\u001B[0m, in \u001B[0;36mcb\u001B[1;34m(model, where)\u001B[0m\n\u001B[0;32m      1\u001B[0m \u001B[38;5;28;01mimport\u001B[39;00m \u001B[38;5;21;01mtime\u001B[39;00m\n\u001B[1;32m----> 2\u001B[0m \u001B[38;5;28;01mdef\u001B[39;00m \u001B[38;5;21mcb\u001B[39m(model, where):\n\u001B[0;32m      3\u001B[0m     \u001B[38;5;28;01mif\u001B[39;00m where \u001B[38;5;241m==\u001B[39m GRB\u001B[38;5;241m.\u001B[39mCallback\u001B[38;5;241m.\u001B[39mMIPNODE:\n\u001B[0;32m      4\u001B[0m         \u001B[38;5;66;03m# Get model objective\u001B[39;00m\n\u001B[0;32m      5\u001B[0m         obj \u001B[38;5;241m=\u001B[39m model\u001B[38;5;241m.\u001B[39mcbGet(GRB\u001B[38;5;241m.\u001B[39mCallback\u001B[38;5;241m.\u001B[39mMIPNODE_OBJBST)\n",
      "\u001B[1;31mKeyboardInterrupt\u001B[0m: "
     ]
    },
    {
     "name": "stderr",
     "output_type": "stream",
     "text": [
      "Exception ignored in: 'gurobipy.callbackstub'\n",
      "Traceback (most recent call last):\n",
      "  File \"src\\gurobipy\\callback.pxi\", line 209, in gurobipy.CallbackClass.callback\n",
      "  File \"C:\\Users\\david\\AppData\\Local\\Temp\\ipykernel_13988\\4246588540.py\", line 2, in cb\n",
      "KeyboardInterrupt: \n"
     ]
    },
    {
     "ename": "KeyboardInterrupt",
     "evalue": "",
     "output_type": "error",
     "traceback": [
      "\u001B[1;31m---------------------------------------------------------------------------\u001B[0m",
      "\u001B[1;31mKeyboardInterrupt\u001B[0m                         Traceback (most recent call last)",
      "File \u001B[1;32msrc\\gurobipy\\callback.pxi:209\u001B[0m, in \u001B[0;36mgurobipy.CallbackClass.callback\u001B[1;34m()\u001B[0m\n",
      "Cell \u001B[1;32mIn [37], line 2\u001B[0m, in \u001B[0;36mcb\u001B[1;34m(model, where)\u001B[0m\n\u001B[0;32m      1\u001B[0m \u001B[38;5;28;01mimport\u001B[39;00m \u001B[38;5;21;01mtime\u001B[39;00m\n\u001B[1;32m----> 2\u001B[0m \u001B[38;5;28;01mdef\u001B[39;00m \u001B[38;5;21mcb\u001B[39m(model, where):\n\u001B[0;32m      3\u001B[0m     \u001B[38;5;28;01mif\u001B[39;00m where \u001B[38;5;241m==\u001B[39m GRB\u001B[38;5;241m.\u001B[39mCallback\u001B[38;5;241m.\u001B[39mMIPNODE:\n\u001B[0;32m      4\u001B[0m         \u001B[38;5;66;03m# Get model objective\u001B[39;00m\n\u001B[0;32m      5\u001B[0m         obj \u001B[38;5;241m=\u001B[39m model\u001B[38;5;241m.\u001B[39mcbGet(GRB\u001B[38;5;241m.\u001B[39mCallback\u001B[38;5;241m.\u001B[39mMIPNODE_OBJBST)\n",
      "\u001B[1;31mKeyboardInterrupt\u001B[0m: "
     ]
    },
    {
     "name": "stderr",
     "output_type": "stream",
     "text": [
      "Exception ignored in: 'gurobipy.callbackstub'\n",
      "Traceback (most recent call last):\n",
      "  File \"src\\gurobipy\\callback.pxi\", line 209, in gurobipy.CallbackClass.callback\n",
      "  File \"C:\\Users\\david\\AppData\\Local\\Temp\\ipykernel_13988\\4246588540.py\", line 2, in cb\n",
      "KeyboardInterrupt: \n"
     ]
    },
    {
     "ename": "KeyboardInterrupt",
     "evalue": "",
     "output_type": "error",
     "traceback": [
      "\u001B[1;31m---------------------------------------------------------------------------\u001B[0m",
      "\u001B[1;31mKeyboardInterrupt\u001B[0m                         Traceback (most recent call last)",
      "File \u001B[1;32msrc\\gurobipy\\callback.pxi:209\u001B[0m, in \u001B[0;36mgurobipy.CallbackClass.callback\u001B[1;34m()\u001B[0m\n",
      "Cell \u001B[1;32mIn [37], line 2\u001B[0m, in \u001B[0;36mcb\u001B[1;34m(model, where)\u001B[0m\n\u001B[0;32m      1\u001B[0m \u001B[38;5;28;01mimport\u001B[39;00m \u001B[38;5;21;01mtime\u001B[39;00m\n\u001B[1;32m----> 2\u001B[0m \u001B[38;5;28;01mdef\u001B[39;00m \u001B[38;5;21mcb\u001B[39m(model, where):\n\u001B[0;32m      3\u001B[0m     \u001B[38;5;28;01mif\u001B[39;00m where \u001B[38;5;241m==\u001B[39m GRB\u001B[38;5;241m.\u001B[39mCallback\u001B[38;5;241m.\u001B[39mMIPNODE:\n\u001B[0;32m      4\u001B[0m         \u001B[38;5;66;03m# Get model objective\u001B[39;00m\n\u001B[0;32m      5\u001B[0m         obj \u001B[38;5;241m=\u001B[39m model\u001B[38;5;241m.\u001B[39mcbGet(GRB\u001B[38;5;241m.\u001B[39mCallback\u001B[38;5;241m.\u001B[39mMIPNODE_OBJBST)\n",
      "\u001B[1;31mKeyboardInterrupt\u001B[0m: "
     ]
    },
    {
     "name": "stderr",
     "output_type": "stream",
     "text": [
      "Exception ignored in: 'gurobipy.callbackstub'\n",
      "Traceback (most recent call last):\n",
      "  File \"src\\gurobipy\\callback.pxi\", line 209, in gurobipy.CallbackClass.callback\n",
      "  File \"C:\\Users\\david\\AppData\\Local\\Temp\\ipykernel_13988\\4246588540.py\", line 2, in cb\n",
      "KeyboardInterrupt: \n"
     ]
    },
    {
     "ename": "KeyboardInterrupt",
     "evalue": "",
     "output_type": "error",
     "traceback": [
      "\u001B[1;31m---------------------------------------------------------------------------\u001B[0m",
      "\u001B[1;31mKeyboardInterrupt\u001B[0m                         Traceback (most recent call last)",
      "File \u001B[1;32msrc\\gurobipy\\callback.pxi:209\u001B[0m, in \u001B[0;36mgurobipy.CallbackClass.callback\u001B[1;34m()\u001B[0m\n",
      "Cell \u001B[1;32mIn [37], line 2\u001B[0m, in \u001B[0;36mcb\u001B[1;34m(model, where)\u001B[0m\n\u001B[0;32m      1\u001B[0m \u001B[38;5;28;01mimport\u001B[39;00m \u001B[38;5;21;01mtime\u001B[39;00m\n\u001B[1;32m----> 2\u001B[0m \u001B[38;5;28;01mdef\u001B[39;00m \u001B[38;5;21mcb\u001B[39m(model, where):\n\u001B[0;32m      3\u001B[0m     \u001B[38;5;28;01mif\u001B[39;00m where \u001B[38;5;241m==\u001B[39m GRB\u001B[38;5;241m.\u001B[39mCallback\u001B[38;5;241m.\u001B[39mMIPNODE:\n\u001B[0;32m      4\u001B[0m         \u001B[38;5;66;03m# Get model objective\u001B[39;00m\n\u001B[0;32m      5\u001B[0m         obj \u001B[38;5;241m=\u001B[39m model\u001B[38;5;241m.\u001B[39mcbGet(GRB\u001B[38;5;241m.\u001B[39mCallback\u001B[38;5;241m.\u001B[39mMIPNODE_OBJBST)\n",
      "\u001B[1;31mKeyboardInterrupt\u001B[0m: "
     ]
    },
    {
     "name": "stderr",
     "output_type": "stream",
     "text": [
      "Exception ignored in: 'gurobipy.callbackstub'\n",
      "Traceback (most recent call last):\n",
      "  File \"src\\gurobipy\\callback.pxi\", line 209, in gurobipy.CallbackClass.callback\n",
      "  File \"C:\\Users\\david\\AppData\\Local\\Temp\\ipykernel_13988\\4246588540.py\", line 2, in cb\n",
      "KeyboardInterrupt: \n"
     ]
    },
    {
     "ename": "KeyboardInterrupt",
     "evalue": "",
     "output_type": "error",
     "traceback": [
      "\u001B[1;31m---------------------------------------------------------------------------\u001B[0m",
      "\u001B[1;31mKeyboardInterrupt\u001B[0m                         Traceback (most recent call last)",
      "File \u001B[1;32msrc\\gurobipy\\callback.pxi:209\u001B[0m, in \u001B[0;36mgurobipy.CallbackClass.callback\u001B[1;34m()\u001B[0m\n",
      "Cell \u001B[1;32mIn [37], line 2\u001B[0m, in \u001B[0;36mcb\u001B[1;34m(model, where)\u001B[0m\n\u001B[0;32m      1\u001B[0m \u001B[38;5;28;01mimport\u001B[39;00m \u001B[38;5;21;01mtime\u001B[39;00m\n\u001B[1;32m----> 2\u001B[0m \u001B[38;5;28;01mdef\u001B[39;00m \u001B[38;5;21mcb\u001B[39m(model, where):\n\u001B[0;32m      3\u001B[0m     \u001B[38;5;28;01mif\u001B[39;00m where \u001B[38;5;241m==\u001B[39m GRB\u001B[38;5;241m.\u001B[39mCallback\u001B[38;5;241m.\u001B[39mMIPNODE:\n\u001B[0;32m      4\u001B[0m         \u001B[38;5;66;03m# Get model objective\u001B[39;00m\n\u001B[0;32m      5\u001B[0m         obj \u001B[38;5;241m=\u001B[39m model\u001B[38;5;241m.\u001B[39mcbGet(GRB\u001B[38;5;241m.\u001B[39mCallback\u001B[38;5;241m.\u001B[39mMIPNODE_OBJBST)\n",
      "\u001B[1;31mKeyboardInterrupt\u001B[0m: "
     ]
    },
    {
     "name": "stderr",
     "output_type": "stream",
     "text": [
      "Exception ignored in: 'gurobipy.callbackstub'\n",
      "Traceback (most recent call last):\n",
      "  File \"src\\gurobipy\\callback.pxi\", line 209, in gurobipy.CallbackClass.callback\n",
      "  File \"C:\\Users\\david\\AppData\\Local\\Temp\\ipykernel_13988\\4246588540.py\", line 2, in cb\n",
      "KeyboardInterrupt: \n"
     ]
    }
   ],
   "source": [
    "for ratio, epsilon in product(ratios, epsilons):\n",
    "    AssetLim = math.floor(N*ratio)\n",
    "\n",
    "    SVM_MVO_Slck.AssetLim = AssetLim\n",
    "    SVM_MVO_Slck.epsilon = epsilon\n",
    "\n",
    "    card_desc = card_desc_list[ratio]\n",
    "    print(\"processing asset limit \", AssetLim)\n",
    "\n",
    "    isExist = os.path.exists(\"cache/Local Experiments/\"+epsilons_desc[epsilon])\n",
    "    if not isExist:\n",
    "        os.makedirs(\"cache/Local Experiments/\"+epsilons_desc[epsilon])\n",
    "        print(\"The new directory is created!\")\n",
    "    for i in range(len(turnovers)):\n",
    "        turnover = turnovers[i]\n",
    "        turnover_desc = turnover_descs[i]\n",
    "        svm_results = evaluate_model(rets, forecasts, wrds_svm, return_premium, SVM_MVO_Slck,\n",
    "                                     T, N, cols, turnover, cbb_fn=cb, data_treatment=vol_data_treatment)\n",
    "        col_string = \"\".join(map(str, cols))\n",
    "        out_pth = \"cache/Local Experiments/\"+epsilons_desc[epsilon] + \"/\" + card_desc + \"_\" +col_string + \"_\" +turnover_desc + name + \".pkl\"\n",
    "        with open(out_pth, 'wb') as fp:\n",
    "          pkl.dump(svm_results, fp)\n",
    "#end here for now - 1:32 AM 2022 - 10 22"
   ]
  },
  {
   "cell_type": "markdown",
   "metadata": {
    "id": "blgFx1mTsgfY"
   },
   "source": [
    "### Part 2 Cardinalty Constrained MVO"
   ]
  },
  {
   "cell_type": "code",
   "execution_count": 23,
   "outputs": [
    {
     "name": "stdout",
     "output_type": "stream",
     "text": [
      "what\n"
     ]
    }
   ],
   "source": [
    "print(\"what\")"
   ],
   "metadata": {
    "collapsed": false
   }
  },
  {
   "cell_type": "code",
   "execution_count": 31,
   "metadata": {
    "colab": {
     "base_uri": "https://localhost:8080/",
     "height": 1000
    },
    "executionInfo": {
     "elapsed": 2610,
     "status": "ok",
     "timestamp": 1654025854313,
     "user": {
      "displayName": "Ryan Islip",
      "userId": "09447671168486293026"
     },
     "user_tz": 240
    },
    "id": "pHLZ83AOAGzQ",
    "outputId": "74014ff8-ca7e-48d9-e0d6-604396b3c114"
   },
   "outputs": [
    {
     "data": {
      "text/plain": "<Figure size 1000x800 with 1 Axes>",
      "image/png": "[encoded data removed]"
     },
     "metadata": {},
     "output_type": "display_data"
    }
   ],
   "source": [
    "MVO2 = SVMMVO(tics, mean, cov, ret_constr, soft_margin, Y, AssetLim,\\\n",
    "             svm_choice = (False, False), print_var_frntr= False, cardinality = True) #define an instance of the class\n",
    "MVO2.set_model() #set up the model\n",
    "MVO2.model.params.outputflag = 0\n",
    "MVO2.model.params.timelimit = 15\n",
    "MVO2.model.params.MIPGap = 0.05\n",
    "MVO2.optimize() #find optimal solution\n",
    "mv_ef = MVO2.get_frontier()\n",
    "\n",
    "def do_nothing(Y):\n",
    "    return Y"
   ]
  },
  {
   "cell_type": "code",
   "execution_count": 32,
   "outputs": [
    {
     "name": "stdout",
     "output_type": "stream",
     "text": [
      "processing asset limit  28\n",
      "_________________________\n",
      "Iteration  0\n",
      "Percent Complete  0.0\n",
      "_________________________\n",
      "Iteration  12\n",
      "Percent Complete  0.04938271604938271\n",
      "_________________________\n",
      "Iteration  24\n",
      "Percent Complete  0.09876543209876543\n",
      "_________________________\n",
      "Iteration  36\n",
      "Percent Complete  0.14814814814814814\n",
      "_________________________\n",
      "Iteration  48\n",
      "Percent Complete  0.19753086419753085\n",
      "_________________________\n",
      "Iteration  60\n",
      "Percent Complete  0.24691358024691357\n",
      "_________________________\n",
      "Iteration  72\n",
      "Percent Complete  0.2962962962962963\n",
      "_________________________\n",
      "Iteration  84\n",
      "Percent Complete  0.345679012345679\n",
      "_________________________\n",
      "Iteration  96\n",
      "Percent Complete  0.3950617283950617\n",
      "_________________________\n",
      "Iteration  108\n",
      "Percent Complete  0.4444444444444444\n",
      "_________________________\n",
      "Iteration  120\n",
      "Percent Complete  0.49382716049382713\n",
      "_________________________\n",
      "Iteration  132\n",
      "Percent Complete  0.5432098765432098\n",
      "_________________________\n",
      "Iteration  144\n",
      "Percent Complete  0.5925925925925926\n",
      "_________________________\n",
      "Iteration  156\n",
      "Percent Complete  0.6419753086419753\n",
      "_________________________\n",
      "Iteration  168\n",
      "Percent Complete  0.691358024691358\n",
      "_________________________\n",
      "Iteration  180\n",
      "Percent Complete  0.7407407407407407\n",
      "_________________________\n",
      "Iteration  192\n",
      "Percent Complete  0.7901234567901234\n",
      "_________________________\n",
      "Iteration  204\n",
      "Percent Complete  0.8395061728395061\n",
      "_________________________\n",
      "Iteration  216\n",
      "Percent Complete  0.8888888888888888\n",
      "_________________________\n",
      "Iteration  228\n",
      "Percent Complete  0.9382716049382716\n",
      "_________________________\n",
      "Iteration  240\n",
      "Percent Complete  0.9876543209876543\n",
      "processing asset limit  85\n",
      "_________________________\n",
      "Iteration  0\n",
      "Percent Complete  0.0\n",
      "_________________________\n",
      "Iteration  12\n",
      "Percent Complete  0.04938271604938271\n",
      "_________________________\n",
      "Iteration  24\n",
      "Percent Complete  0.09876543209876543\n",
      "_________________________\n",
      "Iteration  36\n",
      "Percent Complete  0.14814814814814814\n",
      "_________________________\n",
      "Iteration  48\n",
      "Percent Complete  0.19753086419753085\n",
      "_________________________\n",
      "Iteration  60\n",
      "Percent Complete  0.24691358024691357\n",
      "_________________________\n",
      "Iteration  72\n",
      "Percent Complete  0.2962962962962963\n",
      "_________________________\n",
      "Iteration  84\n",
      "Percent Complete  0.345679012345679\n",
      "_________________________\n",
      "Iteration  96\n",
      "Percent Complete  0.3950617283950617\n",
      "_________________________\n",
      "Iteration  108\n",
      "Percent Complete  0.4444444444444444\n",
      "_________________________\n",
      "Iteration  120\n",
      "Percent Complete  0.49382716049382713\n",
      "_________________________\n",
      "Iteration  132\n",
      "Percent Complete  0.5432098765432098\n",
      "_________________________\n",
      "Iteration  144\n",
      "Percent Complete  0.5925925925925926\n",
      "_________________________\n",
      "Iteration  156\n",
      "Percent Complete  0.6419753086419753\n",
      "_________________________\n",
      "Iteration  168\n",
      "Percent Complete  0.691358024691358\n",
      "_________________________\n",
      "Iteration  180\n",
      "Percent Complete  0.7407407407407407\n",
      "_________________________\n",
      "Iteration  192\n",
      "Percent Complete  0.7901234567901234\n",
      "_________________________\n",
      "Iteration  204\n",
      "Percent Complete  0.8395061728395061\n",
      "_________________________\n",
      "Iteration  216\n",
      "Percent Complete  0.8888888888888888\n",
      "_________________________\n",
      "Iteration  228\n",
      "Percent Complete  0.9382716049382716\n",
      "_________________________\n",
      "Iteration  240\n",
      "Percent Complete  0.9876543209876543\n",
      "processing asset limit  143\n",
      "_________________________\n",
      "Iteration  0\n",
      "Percent Complete  0.0\n",
      "_________________________\n",
      "Iteration  12\n",
      "Percent Complete  0.04938271604938271\n",
      "_________________________\n",
      "Iteration  24\n",
      "Percent Complete  0.09876543209876543\n",
      "_________________________\n",
      "Iteration  36\n",
      "Percent Complete  0.14814814814814814\n",
      "_________________________\n",
      "Iteration  48\n",
      "Percent Complete  0.19753086419753085\n",
      "_________________________\n",
      "Iteration  60\n",
      "Percent Complete  0.24691358024691357\n",
      "_________________________\n",
      "Iteration  72\n",
      "Percent Complete  0.2962962962962963\n",
      "_________________________\n",
      "Iteration  84\n",
      "Percent Complete  0.345679012345679\n",
      "_________________________\n",
      "Iteration  96\n",
      "Percent Complete  0.3950617283950617\n",
      "_________________________\n",
      "Iteration  108\n",
      "Percent Complete  0.4444444444444444\n",
      "_________________________\n",
      "Iteration  120\n",
      "Percent Complete  0.49382716049382713\n",
      "_________________________\n",
      "Iteration  132\n",
      "Percent Complete  0.5432098765432098\n",
      "_________________________\n",
      "Iteration  144\n",
      "Percent Complete  0.5925925925925926\n",
      "_________________________\n",
      "Iteration  156\n",
      "Percent Complete  0.6419753086419753\n",
      "_________________________\n",
      "Iteration  168\n",
      "Percent Complete  0.691358024691358\n",
      "_________________________\n",
      "Iteration  180\n",
      "Percent Complete  0.7407407407407407\n",
      "_________________________\n",
      "Iteration  192\n",
      "Percent Complete  0.7901234567901234\n",
      "_________________________\n",
      "Iteration  204\n",
      "Percent Complete  0.8395061728395061\n",
      "_________________________\n",
      "Iteration  216\n",
      "Percent Complete  0.8888888888888888\n",
      "_________________________\n",
      "Iteration  228\n",
      "Percent Complete  0.9382716049382716\n",
      "_________________________\n",
      "Iteration  240\n",
      "Percent Complete  0.9876543209876543\n",
      "processing asset limit  200\n",
      "_________________________\n",
      "Iteration  0\n",
      "Percent Complete  0.0\n",
      "_________________________\n",
      "Iteration  12\n",
      "Percent Complete  0.04938271604938271\n",
      "_________________________\n",
      "Iteration  24\n",
      "Percent Complete  0.09876543209876543\n",
      "_________________________\n",
      "Iteration  36\n",
      "Percent Complete  0.14814814814814814\n",
      "_________________________\n",
      "Iteration  48\n",
      "Percent Complete  0.19753086419753085\n",
      "_________________________\n",
      "Iteration  60\n",
      "Percent Complete  0.24691358024691357\n",
      "_________________________\n",
      "Iteration  72\n",
      "Percent Complete  0.2962962962962963\n",
      "_________________________\n",
      "Iteration  84\n",
      "Percent Complete  0.345679012345679\n",
      "_________________________\n",
      "Iteration  96\n",
      "Percent Complete  0.3950617283950617\n",
      "_________________________\n",
      "Iteration  108\n",
      "Percent Complete  0.4444444444444444\n",
      "_________________________\n",
      "Iteration  120\n",
      "Percent Complete  0.49382716049382713\n",
      "_________________________\n",
      "Iteration  132\n",
      "Percent Complete  0.5432098765432098\n",
      "_________________________\n",
      "Iteration  144\n",
      "Percent Complete  0.5925925925925926\n",
      "_________________________\n",
      "Iteration  156\n",
      "Percent Complete  0.6419753086419753\n",
      "_________________________\n",
      "Iteration  168\n",
      "Percent Complete  0.691358024691358\n",
      "_________________________\n",
      "Iteration  180\n",
      "Percent Complete  0.7407407407407407\n",
      "_________________________\n",
      "Iteration  192\n",
      "Percent Complete  0.7901234567901234\n",
      "_________________________\n",
      "Iteration  204\n",
      "Percent Complete  0.8395061728395061\n",
      "_________________________\n",
      "Iteration  216\n",
      "Percent Complete  0.8888888888888888\n",
      "_________________________\n",
      "Iteration  228\n",
      "Percent Complete  0.9382716049382716\n",
      "_________________________\n",
      "Iteration  240\n",
      "Percent Complete  0.9876543209876543\n",
      "processing asset limit  257\n",
      "_________________________\n",
      "Iteration  0\n",
      "Percent Complete  0.0\n",
      "_________________________\n",
      "Iteration  12\n",
      "Percent Complete  0.04938271604938271\n",
      "_________________________\n",
      "Iteration  24\n",
      "Percent Complete  0.09876543209876543\n",
      "_________________________\n",
      "Iteration  36\n",
      "Percent Complete  0.14814814814814814\n",
      "_________________________\n",
      "Iteration  48\n",
      "Percent Complete  0.19753086419753085\n",
      "_________________________\n",
      "Iteration  60\n",
      "Percent Complete  0.24691358024691357\n",
      "_________________________\n",
      "Iteration  72\n",
      "Percent Complete  0.2962962962962963\n",
      "_________________________\n",
      "Iteration  84\n",
      "Percent Complete  0.345679012345679\n",
      "_________________________\n",
      "Iteration  96\n",
      "Percent Complete  0.3950617283950617\n",
      "_________________________\n",
      "Iteration  108\n",
      "Percent Complete  0.4444444444444444\n",
      "_________________________\n",
      "Iteration  120\n",
      "Percent Complete  0.49382716049382713\n",
      "_________________________\n",
      "Iteration  132\n",
      "Percent Complete  0.5432098765432098\n",
      "_________________________\n",
      "Iteration  144\n",
      "Percent Complete  0.5925925925925926\n",
      "_________________________\n",
      "Iteration  156\n",
      "Percent Complete  0.6419753086419753\n",
      "_________________________\n",
      "Iteration  168\n",
      "Percent Complete  0.691358024691358\n",
      "_________________________\n",
      "Iteration  180\n",
      "Percent Complete  0.7407407407407407\n",
      "_________________________\n",
      "Iteration  192\n",
      "Percent Complete  0.7901234567901234\n",
      "_________________________\n",
      "Iteration  204\n",
      "Percent Complete  0.8395061728395061\n",
      "_________________________\n",
      "Iteration  216\n",
      "Percent Complete  0.8888888888888888\n",
      "_________________________\n",
      "Iteration  228\n",
      "Percent Complete  0.9382716049382716\n",
      "_________________________\n",
      "Iteration  240\n",
      "Percent Complete  0.9876543209876543\n"
     ]
    }
   ],
   "source": [
    "isExist = os.path.exists(\"cache/Local Experiments/Cardinality Portfolios\")\n",
    "if not isExist:\n",
    "    os.makedirs(\"cache/Local Experiments/Cardinality Portfolios\")\n",
    "    print(\"The new directory is created!\")\n",
    "for ratio in ratios:\n",
    "    AssetLim = math.floor(N*ratio)\n",
    "\n",
    "    MVO2.AssetLim = AssetLim\n",
    "\n",
    "    card_desc = card_desc_list[ratio]\n",
    "    print(\"processing asset limit \", AssetLim)\n",
    "\n",
    "    for i in range(len(turnovers)):\n",
    "        turnover = turnovers[i]\n",
    "        turnover_desc = turnover_descs[i]\n",
    "        card_results = evaluate_model(rets, forecasts, wrds_svm, return_premium, MVO2,\n",
    "                                     T, N, cols, turnover, cbb_fn=cb, data_treatment=do_nothing)\n",
    "        out_pth = \"cache/Local Experiments/Cardinality Portfolios\" + \"/\" + card_desc + \"_\" +turnover_desc + name + \".pkl\"\n",
    "        with open(out_pth, 'wb') as fp:\n",
    "          pkl.dump(card_results, fp)\n",
    "#end here for now - 1:32 AM 2022 - 10 22"
   ],
   "metadata": {
    "collapsed": false
   }
  },
  {
   "cell_type": "code",
   "execution_count": null,
   "outputs": [],
   "source": [],
   "metadata": {
    "collapsed": false
   }
  }
 ],
 "metadata": {
  "colab": {
   "authorship_tag": "ABX9TyNLHzUCXYV8NuOP0wprCxWF",
   "background_execution": "on",
   "collapsed_sections": [],
   "mount_file_id": "1hDdRLz3mUB0Ldphf50Bl9ZWw8qHh1iP5",
   "provenance": []
  },
  "kernelspec": {
   "display_name": "Python 3 (ipykernel)",
   "language": "python",
   "name": "python3"
  },
  "language_info": {
   "codemirror_mode": {
    "name": "ipython",
    "version": 3
   },
   "file_extension": ".py",
   "mimetype": "text/x-python",
   "name": "python",
   "nbconvert_exporter": "python",
   "pygments_lexer": "ipython3",
   "version": "3.10.6"
  }
 },
 "nbformat": 4,
 "nbformat_minor": 4
}
