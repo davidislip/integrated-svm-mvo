{
 "cells": [
  {
   "cell_type": "markdown",
   "metadata": {
    "id": "MqN_y29M6YR8"
   },
   "source": [
    "# Integration of SVM and MVO \n",
    "\n",
    "This notebook computes and visualizes the results of the computational experiments"
   ]
  },
  {
   "cell_type": "code",
   "execution_count": 2,
   "metadata": {
    "colab": {
     "base_uri": "https://localhost:8080/"
    },
    "executionInfo": {
     "elapsed": 31968,
     "status": "ok",
     "timestamp": 1654092824857,
     "user": {
      "displayName": "Ryan Islip",
      "userId": "09447671168486293026"
     },
     "user_tz": 240
    },
    "id": "l3fEvFDq6PgZ",
    "outputId": "135c022e-b816-45cd-8958-7f229bd54334"
   },
   "outputs": [],
   "source": [
    "import numpy as np\n",
    "from pandas.tseries.offsets import Day, MonthBegin\n",
    "pth = 'cache/Experiments/'\n",
    "local_path = 'cache/Local Experiments/'\n",
    "cache_path = 'cache/'\n",
    "img_path = \"Images/\"\n",
    "from python.packages import *\n",
    "from python.analysis_tools import *\n",
    "import pickle\n",
    "%matplotlib inline\n",
    "dpi_setting = 150"
   ]
  },
  {
   "cell_type": "code",
   "execution_count": 3,
   "metadata": {
    "executionInfo": {
     "elapsed": 2068,
     "status": "ok",
     "timestamp": 1654092873174,
     "user": {
      "displayName": "Ryan Islip",
      "userId": "09447671168486293026"
     },
     "user_tz": 240
    },
    "id": "TOl22RUJ5Qg1"
   },
   "outputs": [],
   "source": [
    "## Import Monthly Returns\n",
    "rets = pd.read_pickle(cache_path + \"RETS.pkl\")\n",
    "## Import feature vectors\n",
    "wrds_svm = pd.read_pickle(cache_path + \"WRDS_ASOF.pkl\")\n",
    "## Import Daily Prices\n",
    "Prices = pd.read_pickle(cache_path + \"Daily_Prices.pkl\")\n",
    "## Get the trade dates\n",
    "StockDates = wrds_svm.reset_index().loc[:, ['Date', 'MonthStart', 'MonthEnd']].drop_duplicates()\n",
    "\n",
    "#risk free rate data\n",
    "FF_RiskFree = pd.read_csv(cache_path + \"F-F_Research_Data_Factors.CSV\")\n",
    "FF_RiskFree.Date = pd.to_datetime(FF_RiskFree['Date'], format='%Y%m', errors='coerce')\n",
    "FF_RiskFree.index = FF_RiskFree.Date\n",
    "FF_RiskFree.drop(FF_RiskFree.columns[0:4], axis=1, inplace = True)"
   ]
  },
  {
   "cell_type": "code",
   "execution_count": 4,
   "metadata": {
    "collapsed": false,
    "jupyter": {
     "outputs_hidden": false
    }
   },
   "outputs": [],
   "source": [
    "daily_rets = Prices.pct_change() + 1\n",
    "new_index = daily_rets.index[0:-1] #VERY IMPORTANT\n",
    "daily_rets.drop(daily_rets.head(1).index,inplace=True)\n",
    "daily_rets.index = new_index\n",
    "Prices['StartMonth'] = Prices.index + Day(1) + MonthBegin(-1)\n",
    "#this calculate the month of the stock returns\n",
    "daily_rets['StartMonth'] = daily_rets.index + Day(1) + MonthBegin(-1)\n",
    "# daily_rets[['AAPL', 'StartMonth']].head()\n",
    "# daily_rets.dropna(inplace = True)\n",
    "# daily_rets.head()"
   ]
  },
  {
   "cell_type": "code",
   "execution_count": 5,
   "metadata": {
    "colab": {
     "base_uri": "https://localhost:8080/",
     "height": 331
    },
    "executionInfo": {
     "elapsed": 21,
     "status": "ok",
     "timestamp": 1654092873175,
     "user": {
      "displayName": "Ryan Islip",
      "userId": "09447671168486293026"
     },
     "user_tz": 240
    },
    "id": "NKrSCAINJTdg",
    "outputId": "a8e69b28-376e-48db-83c3-0a10b6e72129"
   },
   "outputs": [
    {
     "data": {
      "text/html": [
       "<div>\n",
       "<style scoped>\n",
       "    .dataframe tbody tr th:only-of-type {\n",
       "        vertical-align: middle;\n",
       "    }\n",
       "\n",
       "    .dataframe tbody tr th {\n",
       "        vertical-align: top;\n",
       "    }\n",
       "\n",
       "    .dataframe thead th {\n",
       "        text-align: right;\n",
       "    }\n",
       "</style>\n",
       "<table border=\"1\" class=\"dataframe\">\n",
       "  <thead>\n",
       "    <tr style=\"text-align: right;\">\n",
       "      <th></th>\n",
       "      <th>AAPL</th>\n",
       "      <th>ABC</th>\n",
       "      <th>ABMD</th>\n",
       "      <th>ABT</th>\n",
       "      <th>ADBE</th>\n",
       "      <th>ADI</th>\n",
       "      <th>ADM</th>\n",
       "      <th>ADP</th>\n",
       "      <th>ADSK</th>\n",
       "      <th>AEE</th>\n",
       "      <th>...</th>\n",
       "      <th>WMB</th>\n",
       "      <th>WMT</th>\n",
       "      <th>WY</th>\n",
       "      <th>XEL</th>\n",
       "      <th>XLNX</th>\n",
       "      <th>XOM</th>\n",
       "      <th>XRAY</th>\n",
       "      <th>XRX</th>\n",
       "      <th>YUM</th>\n",
       "      <th>ZBRA</th>\n",
       "    </tr>\n",
       "    <tr>\n",
       "      <th>StartMonth</th>\n",
       "      <th></th>\n",
       "      <th></th>\n",
       "      <th></th>\n",
       "      <th></th>\n",
       "      <th></th>\n",
       "      <th></th>\n",
       "      <th></th>\n",
       "      <th></th>\n",
       "      <th></th>\n",
       "      <th></th>\n",
       "      <th></th>\n",
       "      <th></th>\n",
       "      <th></th>\n",
       "      <th></th>\n",
       "      <th></th>\n",
       "      <th></th>\n",
       "      <th></th>\n",
       "      <th></th>\n",
       "      <th></th>\n",
       "      <th></th>\n",
       "      <th></th>\n",
       "    </tr>\n",
       "  </thead>\n",
       "  <tbody>\n",
       "    <tr>\n",
       "      <th>2000-07-01</th>\n",
       "      <td>-0.075030</td>\n",
       "      <td>0.149590</td>\n",
       "      <td>0.194030</td>\n",
       "      <td>-0.043729</td>\n",
       "      <td>-0.105083</td>\n",
       "      <td>-0.184231</td>\n",
       "      <td>-0.018750</td>\n",
       "      <td>-0.034648</td>\n",
       "      <td>-0.424388</td>\n",
       "      <td>0.071684</td>\n",
       "      <td>...</td>\n",
       "      <td>0.040179</td>\n",
       "      <td>-0.041758</td>\n",
       "      <td>0.080448</td>\n",
       "      <td>0.132415</td>\n",
       "      <td>-0.166544</td>\n",
       "      <td>0.005695</td>\n",
       "      <td>0.142562</td>\n",
       "      <td>-0.245399</td>\n",
       "      <td>-0.098253</td>\n",
       "      <td>0.158960</td>\n",
       "    </tr>\n",
       "    <tr>\n",
       "      <th>2000-08-01</th>\n",
       "      <td>0.286440</td>\n",
       "      <td>-0.007130</td>\n",
       "      <td>0.565625</td>\n",
       "      <td>0.025185</td>\n",
       "      <td>0.182414</td>\n",
       "      <td>0.552152</td>\n",
       "      <td>-0.058899</td>\n",
       "      <td>0.194307</td>\n",
       "      <td>0.386707</td>\n",
       "      <td>0.076923</td>\n",
       "      <td>...</td>\n",
       "      <td>0.086912</td>\n",
       "      <td>-0.105505</td>\n",
       "      <td>-0.053455</td>\n",
       "      <td>0.119107</td>\n",
       "      <td>0.294014</td>\n",
       "      <td>0.036879</td>\n",
       "      <td>0.014466</td>\n",
       "      <td>0.069129</td>\n",
       "      <td>0.157385</td>\n",
       "      <td>0.062344</td>\n",
       "    </tr>\n",
       "    <tr>\n",
       "      <th>2000-09-01</th>\n",
       "      <td>-0.617734</td>\n",
       "      <td>0.412926</td>\n",
       "      <td>0.045908</td>\n",
       "      <td>0.108381</td>\n",
       "      <td>0.204822</td>\n",
       "      <td>-0.171393</td>\n",
       "      <td>0.042857</td>\n",
       "      <td>0.076122</td>\n",
       "      <td>-0.128540</td>\n",
       "      <td>0.072135</td>\n",
       "      <td>...</td>\n",
       "      <td>-0.088809</td>\n",
       "      <td>-0.050227</td>\n",
       "      <td>-0.165289</td>\n",
       "      <td>0.100985</td>\n",
       "      <td>-0.051700</td>\n",
       "      <td>0.108334</td>\n",
       "      <td>-0.003583</td>\n",
       "      <td>-0.057692</td>\n",
       "      <td>0.031381</td>\n",
       "      <td>-0.167840</td>\n",
       "    </tr>\n",
       "    <tr>\n",
       "      <th>2000-10-01</th>\n",
       "      <td>-0.154641</td>\n",
       "      <td>-0.102922</td>\n",
       "      <td>-0.125954</td>\n",
       "      <td>0.107287</td>\n",
       "      <td>-0.052148</td>\n",
       "      <td>-0.291667</td>\n",
       "      <td>0.219178</td>\n",
       "      <td>-0.000965</td>\n",
       "      <td>-0.157850</td>\n",
       "      <td>-0.044117</td>\n",
       "      <td>...</td>\n",
       "      <td>-0.005797</td>\n",
       "      <td>0.009461</td>\n",
       "      <td>0.193338</td>\n",
       "      <td>-0.050657</td>\n",
       "      <td>-0.225969</td>\n",
       "      <td>0.006835</td>\n",
       "      <td>-0.001792</td>\n",
       "      <td>-0.440816</td>\n",
       "      <td>-0.016227</td>\n",
       "      <td>-0.055007</td>\n",
       "    </tr>\n",
       "    <tr>\n",
       "      <th>2000-11-01</th>\n",
       "      <td>-0.167680</td>\n",
       "      <td>0.107649</td>\n",
       "      <td>-0.192140</td>\n",
       "      <td>0.000000</td>\n",
       "      <td>-0.128641</td>\n",
       "      <td>-0.119748</td>\n",
       "      <td>0.151331</td>\n",
       "      <td>0.002896</td>\n",
       "      <td>0.285714</td>\n",
       "      <td>0.096923</td>\n",
       "      <td>...</td>\n",
       "      <td>-0.185131</td>\n",
       "      <td>0.096384</td>\n",
       "      <td>0.013947</td>\n",
       "      <td>0.023752</td>\n",
       "      <td>-0.406858</td>\n",
       "      <td>-0.030599</td>\n",
       "      <td>0.086176</td>\n",
       "      <td>-0.264868</td>\n",
       "      <td>0.129897</td>\n",
       "      <td>0.007463</td>\n",
       "    </tr>\n",
       "  </tbody>\n",
       "</table>\n",
       "<p>5 rows × 286 columns</p>\n",
       "</div>"
      ],
      "text/plain": [
       "                AAPL       ABC      ABMD       ABT      ADBE       ADI  \\\n",
       "StartMonth                                                               \n",
       "2000-07-01 -0.075030  0.149590  0.194030 -0.043729 -0.105083 -0.184231   \n",
       "2000-08-01  0.286440 -0.007130  0.565625  0.025185  0.182414  0.552152   \n",
       "2000-09-01 -0.617734  0.412926  0.045908  0.108381  0.204822 -0.171393   \n",
       "2000-10-01 -0.154641 -0.102922 -0.125954  0.107287 -0.052148 -0.291667   \n",
       "2000-11-01 -0.167680  0.107649 -0.192140  0.000000 -0.128641 -0.119748   \n",
       "\n",
       "                 ADM       ADP      ADSK       AEE  ...       WMB       WMT  \\\n",
       "StartMonth                                          ...                       \n",
       "2000-07-01 -0.018750 -0.034648 -0.424388  0.071684  ...  0.040179 -0.041758   \n",
       "2000-08-01 -0.058899  0.194307  0.386707  0.076923  ...  0.086912 -0.105505   \n",
       "2000-09-01  0.042857  0.076122 -0.128540  0.072135  ... -0.088809 -0.050227   \n",
       "2000-10-01  0.219178 -0.000965 -0.157850 -0.044117  ... -0.005797  0.009461   \n",
       "2000-11-01  0.151331  0.002896  0.285714  0.096923  ... -0.185131  0.096384   \n",
       "\n",
       "                  WY       XEL      XLNX       XOM      XRAY       XRX  \\\n",
       "StartMonth                                                               \n",
       "2000-07-01  0.080448  0.132415 -0.166544  0.005695  0.142562 -0.245399   \n",
       "2000-08-01 -0.053455  0.119107  0.294014  0.036879  0.014466  0.069129   \n",
       "2000-09-01 -0.165289  0.100985 -0.051700  0.108334 -0.003583 -0.057692   \n",
       "2000-10-01  0.193338 -0.050657 -0.225969  0.006835 -0.001792 -0.440816   \n",
       "2000-11-01  0.013947  0.023752 -0.406858 -0.030599  0.086176 -0.264868   \n",
       "\n",
       "                 YUM      ZBRA  \n",
       "StartMonth                      \n",
       "2000-07-01 -0.098253  0.158960  \n",
       "2000-08-01  0.157385  0.062344  \n",
       "2000-09-01  0.031381 -0.167840  \n",
       "2000-10-01 -0.016227 -0.055007  \n",
       "2000-11-01  0.129897  0.007463  \n",
       "\n",
       "[5 rows x 286 columns]"
      ]
     },
     "execution_count": 5,
     "metadata": {},
     "output_type": "execute_result"
    }
   ],
   "source": [
    "# daily_portfolio = pd.merge(weights_mvo, daily_rets.reset_index()[['Date', 'StartMonth']], how='left', left_index = True, right_on = 'StartMonth')\n",
    "# daily_portfolio.index = daily_portfolio.Date\n",
    "#Rets.index.isin(StockDates.MonthStart.values)\n",
    "(daily_rets).groupby('StartMonth').prod().iloc[8:].head() - 1"
   ]
  },
  {
   "cell_type": "code",
   "execution_count": 9,
   "metadata": {
    "collapsed": false,
    "jupyter": {
     "outputs_hidden": false
    }
   },
   "outputs": [],
   "source": [
    "from itertools import product\n",
    "turnovers = [\"1\"] #[\"0_75\", \"1\", \"1_25\"]\n",
    "cardinalities  = [\"Card09\"] #[\"Card01\", \"Card03\", \"Card05\", \"Card07\", \"Card09\"]\n",
    "epsilon = 1e-3\n",
    "epsilons_desc = {1e-2:\"eps negative 2\", 1e-3:\"eps negative 3\", \n",
    "                 1e-4:\"eps negative 4\", 1e-5:\"eps negative 5\"}\n",
    "\n",
    "oot_returns_mvo_dict = {}\n",
    "oot_returns_svm_dict = {}\n",
    "oot_returns_adm_dict = {}\n",
    "oot_returns_adm_dict2 = {}\n",
    "T = 120 #len(rets.index)\n",
    "cols = \"_VolINV1_\"\n",
    "name = \"no_neg\"\n",
    "for (turnover, card) in product(turnovers, cardinalities):\n",
    "\n",
    "    with open(local_path + \"Standard MVO Portfolios/\"+turnover+\"no_tlim.pkl\",'rb') as fp:\n",
    "        mvo_results = pickle.load(fp)\n",
    "    # with open(pth + \"svm_oot_results_turnover0_75by6.pkl\", 'rb') as fp:\n",
    "    #   svm_results = pickle.load(fp)\n",
    "    with open(local_path + epsilons_desc[epsilon] + \"/\" + card + \"_Vol_\" +turnover + \"no_tlim.pkl\", 'rb') as fp:\n",
    "        svm_results = pickle.load(fp)\n",
    "    with open(local_path + epsilons_desc[epsilon] + \"/\" + \"padm\" +card+ cols +turnover + name + \".pkl\", 'rb') as fp:\n",
    "        adm_results = pickle.load(fp)\n",
    "    \n",
    "#     with open(local_path + epsilons_desc[epsilon] + \"/\" + \"padm\" +card+ \"_VolINV3_\" +turnover + \"no_neg.pkl\", 'rb') as fp:\n",
    "#         adm_results2 = pickle.load(fp)\n",
    "\n",
    "    weights_mvo, oot_returns_mvo, market_mvo, wis_mvo, bias_mvo, soln_mods_mvo = mvo_results\n",
    "    weights_svm, oot_returns_svm, market_svm, wis_svm, bias_svm, soln_mods_svm = svm_results\n",
    "    weights_adm, oot_returns_adm, market_adm, wis_adm, bias_adm, soln_mods_adm, times = adm_results\n",
    "    # weights_adm2, oot_returns_adm2, market_adm2, wis_adm2, bias_adm2, soln_mods_adm2, times2 = adm_results2\n",
    "\n",
    "    oot_returns_mvo_dict[(card, turnover)] = (weights_mvo.iloc[:-1]*rets).sum(axis = 1)\n",
    "    oot_returns_svm_dict[(card, turnover)] = (weights_svm.iloc[:-1]*rets).sum(axis = 1)\n",
    "    oot_returns_adm_dict[(card, turnover)] = (weights_adm.iloc[:-1]*rets).sum(axis = 1)\n",
    "    # oot_returns_adm_dict2[(card, turnover)] = (weights_adm2.iloc[:-1]*rets).sum(axis = 1)\n",
    "rf = FF_RiskFree[FF_RiskFree.index.isin(oot_returns_adm.index)]\n",
    "rf = rf.RF;"
   ]
  },
  {
   "cell_type": "code",
   "execution_count": 10,
   "metadata": {
    "collapsed": false,
    "jupyter": {
     "outputs_hidden": false
    }
   },
   "outputs": [
    {
     "data": {
      "text/plain": [
       "<matplotlib.legend.Legend at 0x17078a07670>"
      ]
     },
     "execution_count": 10,
     "metadata": {},
     "output_type": "execute_result"
    },
    {
     "data": {
      "image/png": "[encoded data removed]",
      "text/plain": [
       "<Figure size 640x480 with 1 Axes>"
      ]
     },
     "metadata": {},
     "output_type": "display_data"
    }
   ],
   "source": [
    "\n",
    "for (i ,j) in product(range(len(cardinalities)), range(len(turnovers))):\n",
    "    turnover = turnovers[j]\n",
    "    card = cardinalities[i]\n",
    "    svm_wealth = wealth(oot_returns_svm_dict[(card, turnover)])\n",
    "    mvo_wealth = wealth(oot_returns_mvo_dict[(card, turnover)])\n",
    "    adm_wealth = wealth(oot_returns_adm_dict[(card, turnover)])\n",
    "    # adm_wealth2 = wealth(oot_returns_adm_dict2[(card, turnover)])\n",
    "    (svm_wealth/mvo_wealth).iloc[:T].plot(label = 'SVM', fontsize = 8)\n",
    "    (adm_wealth/mvo_wealth).iloc[:T].plot(label = 'PADM - Fundamentals1', fontsize = 8)\n",
    "    # (adm_wealth2/mvo_wealth).plot(label = 'PADM - Fundamentals2', fontsize = 8)\n",
    "plt.legend()"
   ]
  },
  {
   "cell_type": "code",
   "execution_count": 8,
   "metadata": {
    "collapsed": false,
    "jupyter": {
     "outputs_hidden": false
    }
   },
   "outputs": [
    {
     "name": "stdout",
     "output_type": "stream",
     "text": [
      "40.19157578311368\n",
      "19.833340266817206\n",
      "40.33251609338862\n"
     ]
    }
   ],
   "source": [
    "print(weights_svm.diff().abs().sum().sum())\n",
    "print(weights_adm.diff().abs().sum().sum())\n",
    "print(weights_mvo.diff().abs().sum().sum())"
   ]
  },
  {
   "cell_type": "code",
   "execution_count": null,
   "metadata": {},
   "outputs": [],
   "source": []
  }
 ],
 "metadata": {
  "colab": {
   "authorship_tag": "ABX9TyOHzzQNNq3LHl1A/Khzu16Z",
   "collapsed_sections": [],
   "machine_shape": "hm",
   "mount_file_id": "1hDdRLz3mUB0Ldphf50Bl9ZWw8qHh1iP5",
   "name": "Results.ipynb",
   "provenance": []
  },
  "kernelspec": {
   "display_name": "Python 3 (ipykernel)",
   "language": "python",
   "name": "python3"
  },
  "language_info": {
   "codemirror_mode": {
    "name": "ipython",
    "version": 3
   },
   "file_extension": ".py",
   "mimetype": "text/x-python",
   "name": "python",
   "nbconvert_exporter": "python",
   "pygments_lexer": "ipython3",
   "version": "3.10.6"
  }
 },
 "nbformat": 4,
 "nbformat_minor": 4
}
