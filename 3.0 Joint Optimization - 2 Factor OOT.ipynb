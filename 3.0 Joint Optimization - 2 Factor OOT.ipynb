{
 "cells": [
  {
   "cell_type": "markdown",
   "metadata": {
    "id": "MqN_y29M6YR8"
   },
   "source": [
    "### Integration of SVM and MVO \n",
    "3 factor, 3 turnover, premium of 10% experiments\n",
    "\n",
    "This notebook only contains exact solves"
   ]
  },
  {
   "cell_type": "code",
   "execution_count": 2,
   "metadata": {
    "colab": {
     "base_uri": "https://localhost:8080/"
    },
    "executionInfo": {
     "elapsed": 117735,
     "status": "ok",
     "timestamp": 1665772772163,
     "user": {
      "displayName": "Ryan Islip",
      "userId": "09447671168486293026"
     },
     "user_tz": 240
    },
    "id": "l3fEvFDq6PgZ",
    "outputId": "cb2fa87c-22f8-40e6-bafa-2d10354be140"
   },
   "outputs": [
    {
     "name": "stdout",
     "output_type": "stream",
     "text": [
      "Set parameter Username\n",
      "Academic license - for non-commercial use only - expires 2023-08-09\n"
     ]
    }
   ],
   "source": [
    "import gurobipy as gp\n",
    "from gurobipy import GRB\n",
    "pth = ''\n",
    "import sys\n",
    "import math \n",
    "import time\n",
    "\n",
    "from python.packages import *\n",
    "from python.svm_mvo import *\n",
    "from python.analysis_tools import *\n",
    "from itertools import product\n",
    "import os\n",
    "\n",
    "%matplotlib inline\n",
    "## Import Forecasts\n",
    "forecasts = pd.read_pickle(pth +'cache/Forecasts.pkl')\n",
    "## Import Returns\n",
    "rets = pd.read_pickle(pth + 'cache/RETS.pkl')\n",
    "## Import feature vectors\n",
    "wrds_svm = pd.read_pickle(pth + 'cache/WRDS_ASOF.pkl')\n",
    "## Import monthly prices\n",
    "prices = pd.read_pickle(pth + 'cache/PRICES.pkl')"
   ]
  },
  {
   "cell_type": "code",
   "execution_count": 3,
   "outputs": [
    {
     "data": {
      "text/plain": "Timestamp('2000-07-01 00:00:00')"
     },
     "execution_count": 3,
     "metadata": {},
     "output_type": "execute_result"
    }
   ],
   "source": [
    "mth = rets.index[0]\n",
    "mth"
   ],
   "metadata": {
    "collapsed": false
   }
  },
  {
   "cell_type": "code",
   "execution_count": 4,
   "outputs": [
    {
     "name": "stdout",
     "output_type": "stream",
     "text": [
      "valid tickers: ['AAPL', 'ABC', 'ABMD', 'ABT', 'ADBE', 'ADI', 'ADM', 'ADP', 'ADSK', 'AEE', 'AEP', 'AES', 'AJG', 'AKAM', 'ALB', 'ALK', 'AMAT', 'AMD', 'AME', 'AMGN', 'AMT', 'AMZN', 'ANSS', 'AON', 'AOS', 'APA', 'APD', 'APH', 'ATO', 'AVY', 'AZO', 'BA', 'BAX', 'BBY', 'BDX', 'BKNG', 'BLL', 'BMY', 'BSX', 'BWA', 'CAG', 'CAH', 'CAT', 'CCI', 'CCL', 'CDNS', 'CERN', 'CHD', 'CHRW', 'CI', 'CL', 'CLX', 'CMCSA', 'CMI', 'CMS', 'CNP', 'COO', 'COP', 'COST', 'CPB', 'CPRT', 'CSCO', 'CSX', 'CTAS', 'CTSH', 'CTXS', 'CVS', 'CVX', 'D', 'DD', 'DGX', 'DHR', 'DIS', 'DISH', 'DLTR', 'DOV', 'DRI', 'DTE', 'DUK', 'DVA', 'DVN', 'DXC', 'EA', 'EBAY', 'ECL', 'ED', 'EFX', 'EIX', 'EL', 'EMN', 'EMR', 'EOG', 'ES', 'ETN', 'ETR', 'EVRG', 'EXC', 'EXPD', 'F', 'FAST', 'FCX', 'FDX', 'FE', 'FFIV', 'FISV', 'FLS', 'FMC', 'GD', 'GIS', 'GLW', 'GPC', 'GPS', 'GWW', 'HAL', 'HAS', 'HD', 'HES', 'HFC', 'HOG', 'HOLX', 'HON', 'HP', 'HPQ', 'HRB', 'HRL', 'HSIC', 'HSY', 'HUM', 'IBM', 'IDXX', 'IEX', 'IFF', 'INCY', 'INTC', 'INTU', 'IP', 'IPG', 'IRM', 'IT', 'ITW', 'IVZ', 'J', 'JBHT', 'JCI', 'JKHY', 'JNJ', 'JNPR', 'JWN', 'K', 'KLAC', 'KMB', 'KMX', 'KO', 'KR', 'KSS', 'KSU', 'LEG', 'LH', 'LHX', 'LIN', 'LLY', 'LMT', 'LNT', 'LOW', 'LRCX', 'LUV', 'M', 'MAR', 'MAS', 'MCD', 'MCHP', 'MCK', 'MCO', 'MDT', 'MGM', 'MHK', 'MKC', 'MLM', 'MMC', 'MMM', 'MO', 'MRK', 'MRO', 'MSFT', 'MSI', 'MTD', 'MU', 'MXIM', 'NEE', 'NEM', 'NI', 'NKE', 'NLOK', 'NOC', 'NOV', 'NSC', 'NTAP', 'NUE', 'NVDA', 'NWL', 'OMC', 'ORCL', 'ORLY', 'OXY', 'PAYX', 'PEG', 'PEP', 'PFE', 'PG', 'PH', 'PKI', 'PNR', 'PNW', 'PPG', 'PPL', 'PRGO', 'PVH', 'PWR', 'PXD', 'QCOM', 'RCL', 'REGN', 'RHI', 'RL', 'RMD', 'ROK', 'ROL', 'ROP', 'ROST', 'RSG', 'RTX', 'SBAC', 'SBUX', 'SEE', 'SHW', 'SJM', 'SLB', 'SNA', 'SNPS', 'SO', 'SPGI', 'SRE', 'STE', 'STZ', 'SWK', 'SWKS', 'SYK', 'SYY', 'T', 'TAP', 'TFX', 'TGT', 'TJX', 'TMO', 'TSCO', 'TSN', 'TT', 'TXN', 'TXT', 'UHS', 'UNH', 'UNP', 'URI', 'VFC', 'VLO', 'VMC', 'VRSN', 'VRTX', 'VZ', 'WAB', 'WAT', 'WBA', 'WDC', 'WEC', 'WHR', 'WM', 'WMB', 'WMT', 'WY', 'XEL', 'XLNX', 'XOM', 'XRAY', 'XRX', 'YUM', 'ZBRA']\n"
     ]
    }
   ],
   "source": [
    "#convenient function\n",
    "sign = lambda a: int((a>0)) - int((a<0))\n",
    "\n",
    "#preprocessing\n",
    "cov_, mean_ = forecasts[mth]\n",
    "N = len(mean_)\n",
    "cov = cov_[:N,:N]\n",
    "mean = mean_[:N,:]\n",
    "tics = list(rets.columns[:N])\n",
    "print(\"valid tickers:\", tics)\n",
    "\n",
    "#get the wharton research data for the valid tickers for the month\n",
    "wrds_tics = wrds_svm[wrds_svm.index.get_level_values('tic').isin(tics)].xs(mth, level=\"MonthStart\")\n",
    "\n",
    "#restrict the wharton research data to the columns of interest\n",
    "Y = wrds_tics.loc[:,\"ROC1\":\"Vol\"] # Y matrix in formulation as per the paper\n",
    "cols = ['Vol']\n",
    "\n",
    "def vol_data_treatment(Y):\n",
    "    Y.Vol = -1*Y.Vol/Y.Vol.std(axis=0) #for Vol Limit\n",
    "    return Y\n",
    "\n",
    "Y = vol_data_treatment(Y)\n",
    "\n",
    "ret_constr = 0.01 #no return constraint\n",
    "soft_margin = 5000 #large preference for separation feasibility\n",
    "\n",
    "name = \"no_tlim\"\n",
    "ratio = 0.7 #% of assets\n",
    "card_desc = \"Card07\"\n",
    "\n",
    "turnover_descs = [\"0_75\", \"1\", \"1_25\"]\n",
    "turnovers = [0.75/6, 1.00/6, 1.25/6] #divide by 6!\n",
    "AssetLim = math.floor(N*ratio)\n",
    "epsilon = 1e-3 #epsilon hyper-parameter\n",
    "non_negativity_setting = True #set the hyperplane to have a normal in the non-negative orthant\n",
    "ratios = [0.1, 0.3, 0.5, 0.7, 0.9]\n",
    "            #SVM Heavy to not heavy\n",
    "epsilons = [1e-2, 1e-3, 1e-4, 1e-5] # is no SVM consideration\n",
    "epsilons_desc = {1e-2:\"eps negative 2\", 1e-3:\"eps negative 3\", 1e-4:\"eps negative 4\", 1e-5:\"eps negative 5\"}\n",
    "card_desc_list = {0.1:\"Card01\", 0.3:\"Card03\", 0.5:\"Card05\", 0.7:\"Card07\", 0.9:\"Card09\"}\n",
    "\n",
    "dpi_setting = 150"
   ],
   "metadata": {
    "collapsed": false
   }
  },
  {
   "cell_type": "code",
   "execution_count": 5,
   "metadata": {
    "id": "_wCkTgWbCJW7"
   },
   "outputs": [],
   "source": [
    "import time\n",
    "def cb(model, where):\n",
    "    if where == GRB.Callback.MIPNODE:\n",
    "        # Get model objective\n",
    "        obj = model.cbGet(GRB.Callback.MIPNODE_OBJBST)\n",
    "\n",
    "        # Has objective changed?\n",
    "        if abs(obj - model._cur_obj) > 1e-8:\n",
    "            # If so, update incumbent and time\n",
    "            model._cur_obj = obj\n",
    "            model._time = time.time()\n",
    "\n",
    "    # Terminate if objective has not improved in 60s\n",
    "    if time.time() - model._time > 120:\n",
    "        model.terminate()"
   ]
  },
  {
   "cell_type": "markdown",
   "metadata": {
    "id": "W3ta3eSVfHCy"
   },
   "source": [
    "### Simple Min Variance Portfolio "
   ]
  },
  {
   "cell_type": "code",
   "execution_count": 6,
   "metadata": {
    "colab": {
     "base_uri": "https://localhost:8080/"
    },
    "executionInfo": {
     "elapsed": 625,
     "status": "ok",
     "timestamp": 1654025747333,
     "user": {
      "displayName": "Ryan Islip",
      "userId": "09447671168486293026"
     },
     "user_tz": 240
    },
    "id": "7kwcvWSsHzZ5",
    "outputId": "f266189a-15c0-411a-a0c2-60b2a9d809f9"
   },
   "outputs": [
    {
     "name": "stdout",
     "output_type": "stream",
     "text": [
      "Set parameter TimeLimit to value 15\n",
      "Set parameter MIPGap to value 0.05\n",
      "Gurobi Optimizer version 9.5.2 build v9.5.2rc0 (win64)\n",
      "Thread count: 4 physical cores, 8 logical processors, using up to 8 threads\n",
      "Optimize a model with 2 rows, 572 columns and 572 nonzeros\n",
      "Model fingerprint: 0x000b6c30\n",
      "Model has 41041 quadratic objective terms\n",
      "Coefficient statistics:\n",
      "  Matrix range     [2e-04, 1e+00]\n",
      "  Objective range  [0e+00, 0e+00]\n",
      "  QObjective range [6e-07, 6e-01]\n",
      "  Bounds range     [0e+00, 0e+00]\n",
      "  RHS range        [1e-02, 1e+00]\n",
      "Presolve removed 0 rows and 286 columns\n",
      "Presolve time: 0.02s\n",
      "Presolved: 2 rows, 286 columns, 572 nonzeros\n",
      "Presolved model has 41041 quadratic objective terms\n",
      "Ordering time: 0.02s\n",
      "\n",
      "Barrier statistics:\n",
      " Free vars  : 285\n",
      " AA' NZ     : 4.104e+04\n",
      " Factor NZ  : 4.133e+04 (roughly 1 MB of memory)\n",
      " Factor Ops : 7.921e+06 (less than 1 second per iteration)\n",
      " Threads    : 4\n",
      "\n",
      "                  Objective                Residual\n",
      "Iter       Primal          Dual         Primal    Dual     Compl     Time\n",
      "   0   2.21401692e+05 -2.21401692e+05  1.16e+05 8.93e-05  1.00e+06     0s\n",
      "   1   1.17255029e+06 -1.17264996e+06  2.44e+04 7.09e+01  2.28e+05     0s\n",
      "   2   2.16742967e+05 -2.16901376e+05  1.92e+03 1.48e-06  2.05e+04     0s\n",
      "   3   7.40482320e+03 -7.59635202e+03  4.70e+01 3.63e-08  5.62e+02     0s\n",
      "   4   2.18337913e-01 -2.15275828e+02  9.76e-02 7.53e-11  1.92e+00     0s\n",
      "   5   3.69004677e-02 -8.28004313e+01  9.76e-08 7.53e-17  2.89e-01     0s\n",
      "   6   3.67774636e-02 -1.30289996e-01  9.93e-11 1.39e-17  5.82e-04     0s\n",
      "   7   1.19895008e-02 -1.77743291e-02  7.96e-12 1.39e-17  1.04e-04     0s\n",
      "   8   3.67148685e-03 -8.85624080e-03  8.33e-17 8.33e-17  4.37e-05     0s\n",
      "   9   1.67873697e-03 -6.93601778e-04  4.34e-17 6.94e-17  8.27e-06     0s\n",
      "  10   1.17089141e-03 -1.93669747e-04  8.33e-17 2.08e-17  4.75e-06     0s\n",
      "  11   8.29898475e-04  6.19866574e-04  6.25e-17 1.48e-17  7.32e-07     0s\n",
      "  12   7.25259426e-04  6.65385632e-04  2.36e-16 1.39e-17  2.09e-07     0s\n",
      "  13   6.89114550e-04  6.85441538e-04  1.53e-16 9.97e-18  1.28e-08     0s\n",
      "  14   6.86335302e-04  6.86204769e-04  5.27e-16 8.88e-18  4.55e-10     0s\n",
      "  15   6.86244876e-04  6.86241408e-04  6.58e-15 9.54e-18  1.21e-11     0s\n",
      "\n",
      "Barrier solved model in 15 iterations and 0.15 seconds (0.08 work units)\n",
      "Optimal objective 6.86244876e-04\n",
      "\n"
     ]
    },
    {
     "data": {
      "text/plain": "0.1624431610107422"
     },
     "execution_count": 6,
     "metadata": {},
     "output_type": "execute_result"
    }
   ],
   "source": [
    "MVO = SVMMVO(tics, mean, cov, ret_constr, soft_margin,Y , AssetLim,\\\n",
    "             svm_choice = (False, False), print_var_frntr= True,\n",
    "             cardinality = False)#define an instance of the class\n",
    "\n",
    "MVO.set_model() #set up the model\n",
    "MVO.model.Params.timelimit = 15\n",
    "MVO.model.Params.MIPGAP = 0.05\n",
    "MVO.optimize() #find optimal solution"
   ]
  },
  {
   "cell_type": "markdown",
   "metadata": {
    "id": "K7you9bPfMGK"
   },
   "source": [
    "### Mean Variance and SVM Joint Formulation"
   ]
  },
  {
   "cell_type": "code",
   "execution_count": 7,
   "metadata": {
    "colab": {
     "base_uri": "https://localhost:8080/"
    },
    "executionInfo": {
     "elapsed": 2107,
     "status": "ok",
     "timestamp": 1654025776094,
     "user": {
      "displayName": "Ryan Islip",
      "userId": "09447671168486293026"
     },
     "user_tz": 240
    },
    "id": "0lHbqvBLqfkO",
    "outputId": "9dfc3710-bf67-4564-db8a-7996bfe4502a"
   },
   "outputs": [
    {
     "name": "stdout",
     "output_type": "stream",
     "text": [
      "Set parameter TimeLimit to value 15\n",
      "Gurobi Optimizer version 9.5.2 build v9.5.2rc0 (win64)\n",
      "Thread count: 4 physical cores, 8 logical processors, using up to 8 threads\n",
      "Optimize a model with 862 rows, 860 columns and 3432 nonzeros\n",
      "Model fingerprint: 0x3afbc337\n",
      "Model has 41042 quadratic objective terms\n",
      "Variable types: 574 continuous, 286 integer (286 binary)\n",
      "Coefficient statistics:\n",
      "  Matrix range     [2e-04, 1e+02]\n",
      "  Objective range  [0e+00, 0e+00]\n",
      "  QObjective range [6e-07, 1e+00]\n",
      "  Bounds range     [1e+00, 1e+00]\n",
      "  RHS range        [1e-03, 2e+02]\n",
      "Presolve removed 1 rows and 286 columns\n",
      "Presolve time: 0.03s\n",
      "Presolved: 861 rows, 574 columns, 3146 nonzeros\n",
      "Presolved model has 41042 quadratic objective terms\n",
      "Variable types: 288 continuous, 286 integer (286 binary)\n",
      "\n",
      "Root relaxation: objective 6.862430e-04, 689 iterations, 0.03 seconds (0.02 work units)\n",
      "\n",
      "    Nodes    |    Current Node    |     Objective Bounds      |     Work\n",
      " Expl Unexpl |  Obj  Depth IntInf | Incumbent    BestBd   Gap | It/Node Time\n",
      "\n",
      "     0     0    0.00069    0  286          -    0.00069      -     -    0s\n",
      "     0     0    0.00069    0  286          -    0.00069      -     -    0s\n",
      "     0     0    0.00069    0  286          -    0.00069      -     -    0s\n",
      "     0     0    0.00069    0  286          -    0.00069      -     -    0s\n",
      "     0     0    0.00069    0  286          -    0.00069      -     -    0s\n",
      "     0     0    0.00069    0  286          -    0.00069      -     -    0s\n",
      "H    0     0                       0.4278040    0.00069   100%     -    1s\n",
      "     0     2    0.00069    0  286    0.42780    0.00069   100%     -    1s\n",
      "H   32    15                       0.0061348    0.00069  88.8%  62.3    2s\n",
      "  1017   449    0.00105  118   66    0.00613    0.00069  88.8%  12.0    5s\n",
      "H 4759   522                       0.0052044    0.00075  85.7%   8.9    8s\n",
      "H 6661   144                       0.0041067    0.00191  53.6%   8.1    9s\n",
      "\n",
      "Cutting planes:\n",
      "  Cover: 2\n",
      "  MIR: 4\n",
      "  Flow cover: 1\n",
      "  Inf proof: 1\n",
      "\n",
      "Explored 7028 nodes (55959 simplex iterations) in 9.30 seconds (6.82 work units)\n",
      "Thread count was 8 (of 8 available processors)\n",
      "\n",
      "Solution count 4: 0.00410675 0.00520437 0.00613483 0.427804 \n",
      "\n",
      "Optimal solution found (tolerance 1.00e-04)\n",
      "Best objective 4.106749504763e-03, best bound 4.106749504763e-03, gap 0.0000%\n"
     ]
    },
    {
     "data": {
      "text/plain": "9.329141855239868"
     },
     "execution_count": 7,
     "metadata": {},
     "output_type": "execute_result"
    }
   ],
   "source": [
    "SVM_MVO = SVMMVO(tics, mean, cov, ret_constr, soft_margin,Y , AssetLim,\n",
    "                 svm_choice = (True, False), print_var_frntr = False,\n",
    "                 indicator = False, non_neg = non_negativity_setting, epsilon = epsilon)#define an instance of the class )\n",
    "SVM_MVO.set_model()\n",
    "SVM_MVO.model.Params.timelimit = 15\n",
    "SVM_MVO.optimize()"
   ]
  },
  {
   "cell_type": "markdown",
   "metadata": {
    "id": "XxGCqUt7E3x1"
   },
   "source": [
    "### Mean Variance and SVM Joint Formulation with Slacks"
   ]
  },
  {
   "cell_type": "code",
   "execution_count": 8,
   "outputs": [
    {
     "data": {
      "text/plain": "array([0.69207812])"
     },
     "execution_count": 8,
     "metadata": {},
     "output_type": "execute_result"
    }
   ],
   "source": [
    "SVM_MVO.b.x/SVM_MVO.w.x"
   ],
   "metadata": {
    "collapsed": false
   }
  },
  {
   "cell_type": "code",
   "execution_count": 9,
   "outputs": [
    {
     "data": {
      "text/plain": "array([0.08200898])"
     },
     "execution_count": 9,
     "metadata": {},
     "output_type": "execute_result"
    }
   ],
   "source": [
    "SVM_MVO.w.x"
   ],
   "metadata": {
    "collapsed": false
   }
  },
  {
   "cell_type": "code",
   "execution_count": 13,
   "metadata": {
    "colab": {
     "base_uri": "https://localhost:8080/"
    },
    "executionInfo": {
     "elapsed": 112135,
     "status": "ok",
     "timestamp": 1653837413155,
     "user": {
      "displayName": "Ryan Islip",
      "userId": "09447671168486293026"
     },
     "user_tz": 240
    },
    "id": "4AbEMjyzSe1H",
    "outputId": "8dba6e0f-6495-4c1f-ab37-c9361e8b1afd"
   },
   "outputs": [
    {
     "name": "stdout",
     "output_type": "stream",
     "text": [
      "Set parameter TimeLimit to value 15\n",
      "Gurobi Optimizer version 9.5.2 build v9.5.2rc0 (win64)\n",
      "Thread count: 4 physical cores, 8 logical processors, using up to 8 threads\n",
      "Optimize a model with 862 rows, 1146 columns and 4004 nonzeros\n",
      "Model fingerprint: 0xc95a69c2\n",
      "Model has 41042 quadratic objective terms\n",
      "Variable types: 860 continuous, 286 integer (286 binary)\n",
      "Coefficient statistics:\n",
      "  Matrix range     [2e-04, 1e+02]\n",
      "  Objective range  [2e+01, 2e+01]\n",
      "  QObjective range [6e-07, 1e+00]\n",
      "  Bounds range     [1e+00, 1e+00]\n",
      "  RHS range        [1e-03, 2e+02]\n",
      "Found heuristic solution: objective 1.000000e+13\n",
      "Presolve removed 1 rows and 286 columns\n",
      "Presolve time: 0.02s\n",
      "Presolved: 861 rows, 860 columns, 3718 nonzeros\n",
      "Presolved model has 41042 quadratic objective terms\n",
      "Variable types: 574 continuous, 286 integer (286 binary)\n",
      "\n",
      "Root relaxation: objective 6.862430e-04, 689 iterations, 0.02 seconds (0.02 work units)\n",
      "\n",
      "    Nodes    |    Current Node    |     Objective Bounds      |     Work\n",
      " Expl Unexpl |  Obj  Depth IntInf | Incumbent    BestBd   Gap | It/Node Time\n",
      "\n",
      "     0     0    0.00069    0  286 1.0000e+13    0.00069   100%     -    0s\n",
      "H    0     0                       4.1050768    0.00069   100%     -    0s\n",
      "H    0     0                       3.8954725    0.00069   100%     -    0s\n",
      "H    0     0                       3.3916680    0.00069   100%     -    0s\n",
      "H    0     0                       0.0899231    0.00069  99.2%     -    0s\n",
      "     0     0    0.00069    0  286    0.08992    0.00069  99.2%     -    0s\n",
      "     0     0    0.00069    0  286    0.08992    0.00069  99.2%     -    0s\n",
      "     0     0    0.00069    0  286    0.08992    0.00069  99.2%     -    0s\n",
      "     0     0    0.00069    0  286    0.08992    0.00069  99.2%     -    0s\n",
      "     0     0    0.00069    0  286    0.08992    0.00069  99.2%     -    0s\n",
      "     0     0    0.00069    0  286    0.08992    0.00069  99.2%     -    0s\n",
      "     0     2    0.00069    0  286    0.08992    0.00069  99.2%     -    0s\n",
      "H  112   105                       0.0473059    0.00069  98.5%  70.1    0s\n",
      "H  296   182                       0.0466894    0.00069  98.5%  44.9    0s\n",
      "H  338   195                       0.0410191    0.00069  98.3%  41.6    0s\n",
      "H  374   207                       0.0061348    0.00069  88.8%  39.4    1s\n",
      "  3236   293    0.00069  110  170    0.00613    0.00069  88.8%  11.2    5s\n",
      "H 3568   238                       0.0042526    0.00069  83.9%  10.8    5s\n",
      "  4414   357    0.00190   12   22    0.00425    0.00069  83.7%  13.0   10s\n",
      "\n",
      "Cutting planes:\n",
      "  Cover: 4\n",
      "  Implied bound: 3\n",
      "  Flow cover: 5\n",
      "\n",
      "Explored 4772 nodes (64145 simplex iterations) in 11.49 seconds (9.27 work units)\n",
      "Thread count was 8 (of 8 available processors)\n",
      "\n",
      "Solution count 9: 0.00425262 0.00613483 0.0410191 ... 1e+13\n",
      "\n",
      "Optimal solution found (tolerance 1.00e-04)\n",
      "Best objective 4.252621386331e-03, best bound 4.252621386331e-03, gap 0.0000%\n",
      "\n",
      "User-callback calls 10161, time in user-callback 0.03 sec\n"
     ]
    },
    {
     "data": {
      "text/plain": "11.505386352539062"
     },
     "execution_count": 13,
     "metadata": {},
     "output_type": "execute_result"
    }
   ],
   "source": [
    "#SVM with slack\n",
    "SVM_MVO_Slck = SVMMVO(tics, mean, cov, ret_constr, soft_margin,Y , AssetLim,\n",
    "                      svm_choice = (True, True), print_var_frntr = False, non_neg = non_negativity_setting, epsilon = epsilon)\n",
    "SVM_MVO_Slck.set_model()\n",
    "SVM_MVO_Slck.model.Params.timelimit = 15\n",
    "\n",
    "SVM_MVO_Slck.optimize(cbb=cb)"
   ]
  },
  {
   "cell_type": "code",
   "execution_count": 16,
   "outputs": [
    {
     "data": {
      "text/plain": "array([0.05811161])"
     },
     "execution_count": 16,
     "metadata": {},
     "output_type": "execute_result"
    }
   ],
   "source": [
    "SVM_MVO_Slck.b.x"
   ],
   "metadata": {
    "collapsed": false
   }
  },
  {
   "cell_type": "code",
   "execution_count": 17,
   "outputs": [
    {
     "data": {
      "text/plain": "array([0.08376883])"
     },
     "execution_count": 17,
     "metadata": {},
     "output_type": "execute_result"
    }
   ],
   "source": [
    "SVM_MVO_Slck.w.x"
   ],
   "metadata": {
    "collapsed": false
   }
  },
  {
   "cell_type": "code",
   "execution_count": 18,
   "metadata": {
    "colab": {
     "base_uri": "https://localhost:8080/",
     "height": 284
    },
    "executionInfo": {
     "elapsed": 718,
     "status": "ok",
     "timestamp": 1653837413870,
     "user": {
      "displayName": "Ryan Islip",
      "userId": "09447671168486293026"
     },
     "user_tz": 240
    },
    "id": "lHelD-zuvtNA",
    "outputId": "dd0238a5-1898-4fc8-ebb2-45d5c7c3dd60"
   },
   "outputs": [
    {
     "data": {
      "text/plain": "<Figure size 2000x400 with 1 Axes>",
      "image/png": "[encoded data removed]"
     },
     "metadata": {},
     "output_type": "display_data"
    }
   ],
   "source": [
    "#portfolio comparison\n",
    "#out = pd.concat([SVM_MVO_Slck.get_results(), SVM_MVO.get_results(), MVO.get_results()], axis = 0)\n",
    "out = pd.concat([SVM_MVO.get_results(), SVM_MVO_Slck.get_results(), MVO.get_results()], axis = 0)\n",
    "out[out.columns[(out > 0.001).any(axis = 0)]].transpose()[:-2].plot.bar(figsize = (20,4), width = 0.75);"
   ]
  },
  {
   "cell_type": "code",
   "execution_count": 19,
   "metadata": {
    "id": "GWQrF1xPT-8F"
   },
   "outputs": [],
   "source": [
    "return_premium = 0.1 #similiar to Costa and Kwon \n",
    "#Limit = 0.75/6 #1/6 because Costa and Kwon use 1 for 6 month period. \n",
    "T = len(rets.index)"
   ]
  },
  {
   "cell_type": "code",
   "execution_count": null,
   "metadata": {
    "colab": {
     "base_uri": "https://localhost:8080/"
    },
    "executionInfo": {
     "elapsed": 57325,
     "status": "ok",
     "timestamp": 1653867865102,
     "user": {
      "displayName": "Ryan Islip",
      "userId": "09447671168486293026"
     },
     "user_tz": 240
    },
    "id": "CkMsa5WE1HaA",
    "outputId": "e82d5495-bb6c-41ff-9fa7-7f83be0ce490",
    "pycharm": {
     "is_executing": true
    }
   },
   "outputs": [
    {
     "name": "stdout",
     "output_type": "stream",
     "text": [
      "processing asset limit  28\n",
      "_________________________\n",
      "Iteration  0\n",
      "Percent Complete  0.0\n",
      "_________________________\n",
      "Iteration  12\n",
      "Percent Complete  0.04938271604938271\n",
      "_________________________\n",
      "Iteration  24\n",
      "Percent Complete  0.09876543209876543\n",
      "_________________________\n",
      "Iteration  36\n",
      "Percent Complete  0.14814814814814814\n",
      "_________________________\n",
      "Iteration  48\n",
      "Percent Complete  0.19753086419753085\n",
      "_________________________\n",
      "Iteration  60\n",
      "Percent Complete  0.24691358024691357\n",
      "_________________________\n",
      "Iteration  72\n",
      "Percent Complete  0.2962962962962963\n",
      "_________________________\n",
      "Iteration  84\n",
      "Percent Complete  0.345679012345679\n",
      "_________________________\n",
      "Iteration  96\n",
      "Percent Complete  0.3950617283950617\n",
      "_________________________\n",
      "Iteration  108\n",
      "Percent Complete  0.4444444444444444\n",
      "_________________________\n",
      "Iteration  120\n",
      "Percent Complete  0.49382716049382713\n",
      "_________________________\n",
      "Iteration  132\n",
      "Percent Complete  0.5432098765432098\n",
      "_________________________\n",
      "Iteration  144\n",
      "Percent Complete  0.5925925925925926\n",
      "_________________________\n",
      "Iteration  156\n",
      "Percent Complete  0.6419753086419753\n",
      "_________________________\n",
      "Iteration  168\n",
      "Percent Complete  0.691358024691358\n",
      "_________________________\n",
      "Iteration  180\n",
      "Percent Complete  0.7407407407407407\n",
      "_________________________\n",
      "Iteration  192\n",
      "Percent Complete  0.7901234567901234\n",
      "_________________________\n",
      "Iteration  204\n",
      "Percent Complete  0.8395061728395061\n",
      "_________________________\n",
      "Iteration  216\n",
      "Percent Complete  0.8888888888888888\n",
      "_________________________\n",
      "Iteration  228\n",
      "Percent Complete  0.9382716049382716\n",
      "_________________________\n",
      "Iteration  240\n",
      "Percent Complete  0.9876543209876543\n",
      "_________________________\n",
      "Iteration  0\n",
      "Percent Complete  0.0\n",
      "_________________________\n",
      "Iteration  12\n",
      "Percent Complete  0.04938271604938271\n",
      "_________________________\n",
      "Iteration  24\n",
      "Percent Complete  0.09876543209876543\n",
      "_________________________\n",
      "Iteration  36\n",
      "Percent Complete  0.14814814814814814\n",
      "_________________________\n",
      "Iteration  48\n",
      "Percent Complete  0.19753086419753085\n",
      "_________________________\n",
      "Iteration  60\n",
      "Percent Complete  0.24691358024691357\n",
      "_________________________\n",
      "Iteration  72\n",
      "Percent Complete  0.2962962962962963\n",
      "_________________________\n",
      "Iteration  84\n",
      "Percent Complete  0.345679012345679\n",
      "_________________________\n",
      "Iteration  96\n",
      "Percent Complete  0.3950617283950617\n",
      "_________________________\n",
      "Iteration  108\n",
      "Percent Complete  0.4444444444444444\n",
      "_________________________\n",
      "Iteration  120\n",
      "Percent Complete  0.49382716049382713\n",
      "_________________________\n",
      "Iteration  132\n",
      "Percent Complete  0.5432098765432098\n",
      "_________________________\n",
      "Iteration  144\n",
      "Percent Complete  0.5925925925925926\n",
      "_________________________\n",
      "Iteration  156\n",
      "Percent Complete  0.6419753086419753\n",
      "_________________________\n",
      "Iteration  168\n",
      "Percent Complete  0.691358024691358\n",
      "_________________________\n",
      "Iteration  180\n",
      "Percent Complete  0.7407407407407407\n",
      "_________________________\n",
      "Iteration  192\n",
      "Percent Complete  0.7901234567901234\n",
      "_________________________\n",
      "Iteration  204\n",
      "Percent Complete  0.8395061728395061\n",
      "_________________________\n",
      "Iteration  216\n",
      "Percent Complete  0.8888888888888888\n",
      "_________________________\n",
      "Iteration  228\n",
      "Percent Complete  0.9382716049382716\n",
      "_________________________\n",
      "Iteration  240\n",
      "Percent Complete  0.9876543209876543\n",
      "_________________________\n",
      "Iteration  0\n",
      "Percent Complete  0.0\n",
      "_________________________\n",
      "Iteration  12\n",
      "Percent Complete  0.04938271604938271\n",
      "_________________________\n",
      "Iteration  24\n",
      "Percent Complete  0.09876543209876543\n",
      "_________________________\n",
      "Iteration  36\n",
      "Percent Complete  0.14814814814814814\n",
      "_________________________\n",
      "Iteration  48\n",
      "Percent Complete  0.19753086419753085\n",
      "_________________________\n",
      "Iteration  60\n",
      "Percent Complete  0.24691358024691357\n",
      "_________________________\n",
      "Iteration  72\n",
      "Percent Complete  0.2962962962962963\n",
      "_________________________\n",
      "Iteration  84\n",
      "Percent Complete  0.345679012345679\n",
      "_________________________\n",
      "Iteration  96\n",
      "Percent Complete  0.3950617283950617\n",
      "_________________________\n",
      "Iteration  108\n",
      "Percent Complete  0.4444444444444444\n",
      "_________________________\n",
      "Iteration  120\n",
      "Percent Complete  0.49382716049382713\n",
      "_________________________\n",
      "Iteration  132\n",
      "Percent Complete  0.5432098765432098\n",
      "_________________________\n",
      "Iteration  144\n",
      "Percent Complete  0.5925925925925926\n",
      "_________________________\n",
      "Iteration  156\n",
      "Percent Complete  0.6419753086419753\n",
      "_________________________\n",
      "Iteration  168\n",
      "Percent Complete  0.691358024691358\n",
      "_________________________\n",
      "Iteration  180\n",
      "Percent Complete  0.7407407407407407\n",
      "_________________________\n",
      "Iteration  192\n",
      "Percent Complete  0.7901234567901234\n",
      "_________________________\n",
      "Iteration  204\n",
      "Percent Complete  0.8395061728395061\n",
      "_________________________\n",
      "Iteration  216\n",
      "Percent Complete  0.8888888888888888\n",
      "_________________________\n",
      "Iteration  228\n",
      "Percent Complete  0.9382716049382716\n",
      "_________________________\n",
      "Iteration  240\n",
      "Percent Complete  0.9876543209876543\n",
      "processing asset limit  28\n",
      "_________________________\n",
      "Iteration  0\n",
      "Percent Complete  0.0\n",
      "_________________________\n",
      "Iteration  12\n",
      "Percent Complete  0.04938271604938271\n",
      "_________________________\n",
      "Iteration  24\n",
      "Percent Complete  0.09876543209876543\n",
      "_________________________\n",
      "Iteration  36\n",
      "Percent Complete  0.14814814814814814\n",
      "_________________________\n",
      "Iteration  48\n",
      "Percent Complete  0.19753086419753085\n",
      "_________________________\n",
      "Iteration  60\n",
      "Percent Complete  0.24691358024691357\n",
      "_________________________\n",
      "Iteration  72\n",
      "Percent Complete  0.2962962962962963\n",
      "_________________________\n",
      "Iteration  84\n",
      "Percent Complete  0.345679012345679\n",
      "_________________________\n",
      "Iteration  96\n",
      "Percent Complete  0.3950617283950617\n",
      "_________________________\n",
      "Iteration  108\n",
      "Percent Complete  0.4444444444444444\n",
      "_________________________\n",
      "Iteration  120\n",
      "Percent Complete  0.49382716049382713\n",
      "_________________________\n",
      "Iteration  132\n",
      "Percent Complete  0.5432098765432098\n",
      "_________________________\n",
      "Iteration  144\n",
      "Percent Complete  0.5925925925925926\n",
      "_________________________\n",
      "Iteration  156\n",
      "Percent Complete  0.6419753086419753\n",
      "_________________________\n",
      "Iteration  168\n",
      "Percent Complete  0.691358024691358\n",
      "_________________________\n",
      "Iteration  180\n",
      "Percent Complete  0.7407407407407407\n",
      "_________________________\n",
      "Iteration  192\n",
      "Percent Complete  0.7901234567901234\n",
      "_________________________\n",
      "Iteration  204\n",
      "Percent Complete  0.8395061728395061\n",
      "_________________________\n",
      "Iteration  216\n",
      "Percent Complete  0.8888888888888888\n",
      "_________________________\n",
      "Iteration  228\n",
      "Percent Complete  0.9382716049382716\n",
      "_________________________\n",
      "Iteration  240\n",
      "Percent Complete  0.9876543209876543\n",
      "_________________________\n",
      "Iteration  0\n",
      "Percent Complete  0.0\n",
      "_________________________\n",
      "Iteration  12\n",
      "Percent Complete  0.04938271604938271\n",
      "_________________________\n",
      "Iteration  24\n",
      "Percent Complete  0.09876543209876543\n",
      "_________________________\n",
      "Iteration  36\n",
      "Percent Complete  0.14814814814814814\n",
      "_________________________\n",
      "Iteration  48\n",
      "Percent Complete  0.19753086419753085\n",
      "_________________________\n",
      "Iteration  60\n",
      "Percent Complete  0.24691358024691357\n",
      "_________________________\n",
      "Iteration  72\n",
      "Percent Complete  0.2962962962962963\n"
     ]
    }
   ],
   "source": [
    "for ratio, epsilon in product(ratios, epsilons):\n",
    "    AssetLim = math.floor(N*ratio)\n",
    "\n",
    "    SVM_MVO_Slck.AssetLim = AssetLim\n",
    "    SVM_MVO_Slck.epsilon = epsilon\n",
    "\n",
    "    card_desc = card_desc_list[ratio]\n",
    "    print(\"processing asset limit \", AssetLim)\n",
    "\n",
    "    isExist = os.path.exists(\"cache/Local Experiments/\"+epsilons_desc[epsilon])\n",
    "    if not isExist:\n",
    "        os.makedirs(\"cache/Local Experiments/\"+epsilons_desc[epsilon])\n",
    "        print(\"The new directory is created!\")\n",
    "    for i in range(len(turnovers)):\n",
    "        turnover = turnovers[i]\n",
    "        turnover_desc = turnover_descs[i]\n",
    "        svm_results = evaluate_model(rets, forecasts, wrds_svm, return_premium, SVM_MVO_Slck,\n",
    "                                     T, N, cols, turnover, cbb_fn=cb, lr=None, data_treatment=vol_data_treatment)\n",
    "        col_string = \"\".join(map(str, cols))\n",
    "        out_pth = \"cache/Local Experiments/\"+epsilons_desc[epsilon] + \"/\" + card_desc + \"_\" +col_string + \"_\" +turnover_desc + name + \".pkl\"\n",
    "        with open(out_pth, 'wb') as fp:\n",
    "          pkl.dump(svm_results, fp)\n",
    "#end here for now - 1:32 AM 2022 - 10 22"
   ]
  },
  {
   "cell_type": "code",
   "execution_count": null,
   "metadata": {
    "colab": {
     "base_uri": "https://localhost:8080/"
    },
    "executionInfo": {
     "elapsed": 327,
     "status": "ok",
     "timestamp": 1653887790768,
     "user": {
      "displayName": "Ryan Islip",
      "userId": "09447671168486293026"
     },
     "user_tz": 240
    },
    "id": "nrbDko_mnhjL",
    "outputId": "dc5181c6-985f-40fa-c0a1-bd563bfd1255"
   },
   "outputs": [
    {
     "name": "stdout",
     "output_type": "stream",
     "text": [
      "svm turnover proxy 50.32524136739624\n"
     ]
    }
   ],
   "source": [
    "weights_svm, oot_returns_svm, market_svm, wis_svm, bias_svm, soln_mods_svm = svm_results\n",
    "print('svm turnover proxy', weights_svm.diff().abs().sum(axis = 1).sum())"
   ]
  },
  {
   "cell_type": "code",
   "execution_count": null,
   "metadata": {
    "colab": {
     "base_uri": "https://localhost:8080/",
     "height": 265
    },
    "executionInfo": {
     "elapsed": 392,
     "status": "ok",
     "timestamp": 1653887792395,
     "user": {
      "displayName": "Ryan Islip",
      "userId": "09447671168486293026"
     },
     "user_tz": 240
    },
    "id": "3FAvE1WEN18V",
    "outputId": "5ff96c04-04e6-42fe-e2ce-62aa04e37753"
   },
   "outputs": [
    {
     "data": {
      "image/png": "[encoded data removed]",
      "text/plain": [
       "<Figure size 432x288 with 1 Axes>"
      ]
     },
     "metadata": {},
     "output_type": "display_data"
    }
   ],
   "source": [
    "plt.plot(rets.index[:T], wis_svm);\n",
    "plt.legend(cols);"
   ]
  },
  {
   "cell_type": "markdown",
   "metadata": {
    "id": "blgFx1mTsgfY"
   },
   "source": [
    "### Part 2 Cardinalty Constrined MVO "
   ]
  },
  {
   "cell_type": "code",
   "execution_count": null,
   "metadata": {
    "colab": {
     "base_uri": "https://localhost:8080/",
     "height": 1000
    },
    "executionInfo": {
     "elapsed": 2610,
     "status": "ok",
     "timestamp": 1654025854313,
     "user": {
      "displayName": "Ryan Islip",
      "userId": "09447671168486293026"
     },
     "user_tz": 240
    },
    "id": "pHLZ83AOAGzQ",
    "outputId": "74014ff8-ca7e-48d9-e0d6-604396b3c114"
   },
   "outputs": [
    {
     "name": "stdout",
     "output_type": "stream",
     "text": [
      "Gurobi Optimizer version 9.1.2 build v9.1.2rc0 (linux64)\n",
      "Thread count: 1 physical cores, 2 logical processors, using up to 2 threads\n",
      "Optimize a model with 290 rows, 858 columns and 1716 nonzeros\n",
      "Model fingerprint: 0xf53e1047\n",
      "Model has 41041 quadratic objective terms\n",
      "Model has 286 general constraints\n",
      "Variable types: 572 continuous, 286 integer (286 binary)\n",
      "Coefficient statistics:\n",
      "  Matrix range     [2e-04, 1e+00]\n",
      "  Objective range  [0e+00, 0e+00]\n",
      "  QObjective range [6e-07, 6e-01]\n",
      "  Bounds range     [1e+00, 1e+00]\n",
      "  RHS range        [1e+00, 1e+02]\n",
      "Presolve added 284 rows and 0 columns\n",
      "Presolve removed 0 rows and 286 columns\n",
      "Presolve time: 0.04s\n",
      "Presolved: 574 rows, 572 columns, 1716 nonzeros\n",
      "Presolved model has 41041 quadratic objective terms\n",
      "Variable types: 286 continuous, 286 integer (286 binary)\n",
      "Found heuristic solution: objective 0.0391937\n",
      "\n",
      "Root relaxation: objective 6.860883e-04, 182 iterations, 0.03 seconds\n",
      "\n",
      "    Nodes    |    Current Node    |     Objective Bounds      |     Work\n",
      " Expl Unexpl |  Obj  Depth IntInf | Incumbent    BestBd   Gap | It/Node Time\n",
      "\n",
      "     0     0    0.00069    0   48    0.03919    0.00069  98.2%     -    0s\n",
      "H    0     0                       0.0006861    0.00069  0.00%     -    0s\n",
      "     0     0    0.00069    0   48    0.00069    0.00069  0.00%     -    0s\n",
      "\n",
      "Explored 1 nodes (182 simplex iterations) in 0.26 seconds\n",
      "Thread count was 2 (of 2 available processors)\n",
      "\n",
      "Solution count 2: 0.000686088 0.0391937 \n",
      "\n",
      "Optimal solution found (tolerance 1.00e-04)\n",
      "Best objective 6.860882954874e-04, best bound 6.860882954874e-04, gap 0.0000%\n"
     ]
    },
    {
     "data": {
      "image/png": "[encoded data removed]",
      "text/plain": [
       "<Figure size 720x576 with 1 Axes>"
      ]
     },
     "metadata": {},
     "output_type": "display_data"
    }
   ],
   "source": [
    "MVO2 = SVMMVO(tics, mean, cov, ret_constr, soft_margin, Y_normalized, AssetLim,\\\n",
    "             svm_choice = (False, False), print_var_frntr= False, cardinality = True) #define an instance of the class\n",
    "MVO2.set_model() #set up the model\n",
    "MVO2.optimize() #find optimal solution\n",
    "MVO2.model.params.outputflag = 0\n",
    "mv_ef = MVO2.get_frontier()"
   ]
  },
  {
   "cell_type": "code",
   "execution_count": null,
   "metadata": {
    "id": "zygLHdw58mc2"
   },
   "outputs": [],
   "source": [
    "\n",
    "def evaluate_model(rets, forecasts, wrds_svm, return_premium, model_instance, T, N, cols, Limit):\n",
    "  lr = 0.1 #learning rate for the SVM support vector\n",
    "  weights = np.zeros([T,N])\n",
    "  oot_returns = np.zeros(T)\n",
    "  market = np.zeros(T)\n",
    "  M = len(cols)\n",
    "  wis = np.zeros([T,M])\n",
    "  bias = []\n",
    "  i = 0 #index for dates\n",
    "  w_mabs = 0 #initialize\n",
    "  soln_mods = {}\n",
    "  for prd in rets.index.to_list()[:T]:\n",
    "    ret_ = rets.loc[prd][:N]\n",
    "    cov_, mean_ = forecasts[prd]\n",
    "    cov = cov_[:N,:N]\n",
    "    mean = mean_[:N,:]\n",
    "    tics = list(rets.columns[:N])\n",
    "    return_premium_temp = return_premium \n",
    "    #get the wharton research data for the valid tickers for the month\n",
    "    wrds_tics = wrds_svm[wrds_svm.index.get_level_values('tic').isin(tics)].xs(prd, level=\"MonthStart\")\n",
    "    #restrict the wharton research data to the columns of interest\n",
    "    #modifying WRDS dataset here if required\n",
    "    Y = wrds_tics.loc[:,cols] # Y matrix in formulation \n",
    "    Y_normalized =  (Y - Y.mean(axis=0))/(Y.std(axis=0))\n",
    "    ret_constr = mean.mean()*(1 + sign(mean.mean())*return_premium)\n",
    "    model_instance.tics = tics\n",
    "    model_instance.ret_constr = ret_constr\n",
    "    model_instance.mean_ret = mean\n",
    "    model_instance.cov = cov\n",
    "    model_instance.exogenous = Y_normalized\n",
    "\n",
    "    if i > 0: #not the first trade gets a constraint on turnover\n",
    "      x_prev = model_instance.x.X\n",
    "\n",
    "      if model_instance.svm_constr:\n",
    "        w_mabs = (i/(i+1))*w_mabs + (1/(i+1))*np.abs(model_instance.w.x).mean()\n",
    "        w_prev = model_instance.w.x\n",
    "\n",
    "    model_instance.set_model()\n",
    "\n",
    "    if i > 0: #not the first trade gets a constraint on turnover\n",
    "      model_instance.define_turnover(x_prev, np.ones_like(x_prev), Limit, 1)\n",
    "\n",
    "      if model_instance.svm_constr:\n",
    "        u = model_instance.model.addMVar(M, lb = np.zeros(M), ub = np.ones(M))\n",
    "        wcon1 = model_instance.model.addConstr(model_instance.w <= w_prev + lr*w_mabs*u + model_instance.epsilon, 'iter constraint 1')\n",
    "        wcon2 = model_instance.model.addConstr(model_instance.w >= w_prev - lr*w_mabs*u - model_instance.epsilon, 'iter constraint 2')\n",
    "\n",
    "    model_instance.model.Params.LogToConsole = 0\n",
    "    \n",
    "    model_instance.optimize(cbb = cb)\n",
    "    k = 1\n",
    "    while model_instance.model.status == 4:\n",
    "      #if the model is infeasible the decrease the return constraint\n",
    "      #we do not have enough turnover the modify the portfolio to achieve the\n",
    "      #return target... not a great place to be\n",
    "      return_premium_temp = return_premium - 0.05*k\n",
    "      ret_constr = mean.mean()*(1 + sign(mean.mean())*return_premium_temp)\n",
    "      model_instance.ret_constr = ret_constr\n",
    "      model_instance.ret_target[0].rhs = ret_constr\n",
    "      model_instance.optimize(cbb = cb)\n",
    "      k = k+1\n",
    "      #relax the return target bc the turnover constraint isnt allowing it to solve\n",
    "    #oot_returns[i] = model_instance.evaluate(ret_) #noneed for this\n",
    "    market[i] = ret_.mean()\n",
    "    weights[i, :] = model_instance.x.x\n",
    "    if model_instance.model.IsMIP:\n",
    "      soln_mods[prd] = [model_instance.model.MIPGap, return_premium_temp]\n",
    "    else:\n",
    "      soln_mods[prd] = return_premium_temp\n",
    "    if model_instance.svm_constr:\n",
    "      wis[i,:] = model_instance.w.x\n",
    "      bias.append(model_instance.b.x)\n",
    "      # if model_instance.w.x >= w_prev + lr*w_mabs  and wcon2.Pi < 10**(-7):\n",
    "      #   lr = lr/2\n",
    "    if i + 1 >= T:\n",
    "      break\n",
    "    if i%12 == 0:\n",
    "      print(\"_\"*25)\n",
    "      print(\"Iteration \", i)\n",
    "      print(\"Percent Complete \", i/T)\n",
    "    i = i+1\n",
    "  \n",
    "  weights = pd.DataFrame(weights, index = rets.index[:T], columns = model_instance.tics)\n",
    "  oot_returns = pd.Series(oot_returns, index = rets.index[:T])\n",
    "  market = pd.Series(market, index = rets.index[:T])\n",
    "  return weights, oot_returns, market, wis, bias, soln_mods\n"
   ]
  },
  {
   "cell_type": "code",
   "execution_count": null,
   "metadata": {
    "colab": {
     "background_save": true,
     "base_uri": "https://localhost:8080/"
    },
    "id": "w3aM74IjexPq",
    "outputId": "2248bf21-0438-4c77-eb5f-a69a1a05f0b1"
   },
   "outputs": [
    {
     "name": "stdout",
     "output_type": "stream",
     "text": [
      "_________________________\n",
      "Iteration  0\n",
      "Percent Complete  0.0\n",
      "_________________________\n",
      "Iteration  12\n",
      "Percent Complete  0.04938271604938271\n",
      "_________________________\n",
      "Iteration  24\n",
      "Percent Complete  0.09876543209876543\n",
      "_________________________\n",
      "Iteration  36\n",
      "Percent Complete  0.14814814814814814\n",
      "_________________________\n",
      "Iteration  48\n",
      "Percent Complete  0.19753086419753085\n",
      "_________________________\n",
      "Iteration  60\n",
      "Percent Complete  0.24691358024691357\n",
      "_________________________\n",
      "Iteration  72\n",
      "Percent Complete  0.2962962962962963\n",
      "_________________________\n",
      "Iteration  84\n",
      "Percent Complete  0.345679012345679\n",
      "_________________________\n",
      "Iteration  96\n",
      "Percent Complete  0.3950617283950617\n",
      "_________________________\n",
      "Iteration  108\n",
      "Percent Complete  0.4444444444444444\n",
      "_________________________\n",
      "Iteration  120\n",
      "Percent Complete  0.49382716049382713\n",
      "_________________________\n",
      "Iteration  132\n",
      "Percent Complete  0.5432098765432098\n",
      "_________________________\n",
      "Iteration  144\n",
      "Percent Complete  0.5925925925925926\n",
      "_________________________\n",
      "Iteration  156\n",
      "Percent Complete  0.6419753086419753\n",
      "_________________________\n",
      "Iteration  168\n",
      "Percent Complete  0.691358024691358\n",
      "_________________________\n",
      "Iteration  180\n",
      "Percent Complete  0.7407407407407407\n",
      "_________________________\n",
      "Iteration  192\n",
      "Percent Complete  0.7901234567901234\n",
      "_________________________\n",
      "Iteration  204\n",
      "Percent Complete  0.8395061728395061\n",
      "_________________________\n",
      "Iteration  216\n",
      "Percent Complete  0.8888888888888888\n",
      "_________________________\n",
      "Iteration  228\n",
      "Percent Complete  0.9382716049382716\n",
      "_________________________\n",
      "Iteration  240\n",
      "Percent Complete  0.9876543209876543\n"
     ]
    }
   ],
   "source": [
    "import time\n",
    "def cb(model, where):\n",
    "    if where == GRB.Callback.MIPNODE:\n",
    "        # Get model objective\n",
    "        obj = model.cbGet(GRB.Callback.MIPNODE_OBJBST)\n",
    "\n",
    "        # Has objective changed?\n",
    "        if abs(obj - model._cur_obj) > 1e-8:\n",
    "            # If so, update incumbent and time\n",
    "            model._cur_obj = obj\n",
    "            model._time = time.time()\n",
    "\n",
    "    # Terminate if objective has not improved in 60s\n",
    "    if time.time() - model._time > 120:\n",
    "        model.terminate()\n",
    "mvo_results = evaluate_model(rets, forecasts, wrds_svm, return_premium, MVO2, T, N, cols, 0.75/6)\n",
    "with open(\"gdrive/My Drive/Colab Notebooks/SVM MVO/DATA/Card05__oot_results__turnover0_75by6.pkl\", 'wb') as fp:\n",
    "  pkl.dump(mvo_results, fp);"
   ]
  },
  {
   "cell_type": "code",
   "execution_count": null,
   "metadata": {
    "colab": {
     "background_save": true
    },
    "id": "lOkw9uDlvI-g",
    "outputId": "518377c3-241a-462d-fd2b-58a339b6c00d"
   },
   "outputs": [
    {
     "name": "stdout",
     "output_type": "stream",
     "text": [
      "_________________________\n",
      "Iteration  0\n",
      "Percent Complete  0.0\n",
      "_________________________\n",
      "Iteration  12\n",
      "Percent Complete  0.04938271604938271\n",
      "_________________________\n",
      "Iteration  24\n",
      "Percent Complete  0.09876543209876543\n",
      "_________________________\n",
      "Iteration  36\n",
      "Percent Complete  0.14814814814814814\n",
      "_________________________\n",
      "Iteration  48\n",
      "Percent Complete  0.19753086419753085\n",
      "_________________________\n",
      "Iteration  60\n",
      "Percent Complete  0.24691358024691357\n",
      "_________________________\n",
      "Iteration  72\n",
      "Percent Complete  0.2962962962962963\n",
      "_________________________\n",
      "Iteration  84\n",
      "Percent Complete  0.345679012345679\n",
      "_________________________\n",
      "Iteration  96\n",
      "Percent Complete  0.3950617283950617\n",
      "_________________________\n",
      "Iteration  108\n",
      "Percent Complete  0.4444444444444444\n",
      "_________________________\n",
      "Iteration  120\n",
      "Percent Complete  0.49382716049382713\n",
      "_________________________\n",
      "Iteration  132\n",
      "Percent Complete  0.5432098765432098\n",
      "_________________________\n",
      "Iteration  144\n",
      "Percent Complete  0.5925925925925926\n",
      "_________________________\n",
      "Iteration  156\n",
      "Percent Complete  0.6419753086419753\n",
      "_________________________\n",
      "Iteration  168\n",
      "Percent Complete  0.691358024691358\n",
      "_________________________\n",
      "Iteration  180\n",
      "Percent Complete  0.7407407407407407\n",
      "_________________________\n",
      "Iteration  192\n",
      "Percent Complete  0.7901234567901234\n",
      "_________________________\n",
      "Iteration  204\n",
      "Percent Complete  0.8395061728395061\n",
      "_________________________\n",
      "Iteration  216\n",
      "Percent Complete  0.8888888888888888\n",
      "_________________________\n",
      "Iteration  228\n",
      "Percent Complete  0.9382716049382716\n",
      "_________________________\n",
      "Iteration  240\n",
      "Percent Complete  0.9876543209876543\n"
     ]
    }
   ],
   "source": [
    "mvo_results = evaluate_model(rets, forecasts, wrds_svm, return_premium, MVO2, T, N, cols, 1/6)\n",
    "with open(\"gdrive/My Drive/Colab Notebooks/SVM MVO/DATA/Card05__oot_results__turnover1by6.pkl\", 'wb') as fp:\n",
    "  pkl.dump(mvo_results, fp);"
   ]
  },
  {
   "cell_type": "code",
   "execution_count": null,
   "metadata": {
    "id": "ivgHiNhFt0sf"
   },
   "outputs": [],
   "source": [
    "mvo_results = evaluate_model(rets, forecasts, wrds_svm, return_premium, MVO2, T, N, cols, 1.25/6)\n",
    "with open(\"gdrive/My Drive/Colab Notebooks/SVM MVO/DATA/Card05__oot_results__turnover1_25by6.pkl\", 'wb') as fp:\n",
    "  pkl.dump(mvo_results, fp);"
   ]
  },
  {
   "cell_type": "code",
   "execution_count": null,
   "metadata": {
    "id": "WhGKIdAWwyXF"
   },
   "outputs": [],
   "source": []
  }
 ],
 "metadata": {
  "colab": {
   "authorship_tag": "ABX9TyNLHzUCXYV8NuOP0wprCxWF",
   "background_execution": "on",
   "collapsed_sections": [],
   "mount_file_id": "1hDdRLz3mUB0Ldphf50Bl9ZWw8qHh1iP5",
   "provenance": []
  },
  "kernelspec": {
   "display_name": "Python 3 (ipykernel)",
   "language": "python",
   "name": "python3"
  },
  "language_info": {
   "codemirror_mode": {
    "name": "ipython",
    "version": 3
   },
   "file_extension": ".py",
   "mimetype": "text/x-python",
   "name": "python",
   "nbconvert_exporter": "python",
   "pygments_lexer": "ipython3",
   "version": "3.10.6"
  }
 },
 "nbformat": 4,
 "nbformat_minor": 4
}
