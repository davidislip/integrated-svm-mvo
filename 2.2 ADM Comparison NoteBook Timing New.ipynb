{
 "cells": [
  {
   "cell_type": "markdown",
   "metadata": {
    "id": "MqN_y29M6YR8"
   },
   "source": [
    "# Integration of SVM and MVO \n",
    "\n",
    "This notebook performs a comparison of the integrated MVO-SVM min variance portfolios obtained via the exact MIP solve vs the ADM methods.\n",
    "\n",
    "The notebook is intended to run on google Colab.\n"
   ]
  },
  {
   "cell_type": "markdown",
   "metadata": {
    "id": "w4mC7QWYiTHZ"
   },
   "source": []
  },
  {
   "cell_type": "code",
   "execution_count": 2,
   "metadata": {
    "colab": {
     "base_uri": "https://localhost:8080/"
    },
    "executionInfo": {
     "elapsed": 43204,
     "status": "ok",
     "timestamp": 1641404623940,
     "user": {
      "displayName": "Ryan Islip",
      "photoUrl": "https://lh3.googleusercontent.com/a-/AOh14GilWm_VaaGzVK5IBoUx-rWGsFz3XH3h1cea39928g=s64",
      "userId": "09447671168486293026"
     },
     "user_tz": 300
    },
    "id": "l3fEvFDq6PgZ",
    "outputId": "d8a894e7-4a4e-4059-8bc8-f79af11141a2"
   },
   "outputs": [
    {
     "name": "stdout",
     "output_type": "stream",
     "text": [
      "Set parameter Username\n",
      "Academic license - for non-commercial use only - expires 2024-04-04\n"
     ]
    }
   ],
   "source": [
    "#!sudo python -m pip install gurobipy==10.0.0 uncomment this to use Gurobi 10\n",
    "#!sudo python -m pip install gurobipy==9.1.2 #Gurobi 9 was used to generate results in the paper\n",
    "import gurobipy as gp\n",
    "from gurobipy import GRB\n",
    "#from google.colab import drive\n",
    "import math\n",
    "import time\n",
    "#drive.mount('/content/gdrive')\n",
    "#pth = '/content/gdrive/My Drive/Colab Notebooks/SVM MVO/'\n",
    "pth = '/'\n",
    "import sys\n",
    "sys.path.append(pth + 'python/')\n",
    "\n",
    "# uncomment this if running locally\n",
    "from python.packages import *\n",
    "from python.svm_mvo import *\n",
    "# %run /content/gdrive/My\\ Drive/Colab\\ Notebooks/SVM\\ MVO/python/packages.py\n",
    "# %run /content/gdrive/My\\ Drive/Colab\\ Notebooks/SVM\\ MVO/python/svm_mvo.py\n",
    "\n",
    "%matplotlib inline\n",
    "\n",
    "## Import Forecasts\n",
    "forecasts = pd.read_pickle(pth +'cache/Forecasts.pkl')\n",
    "## Import Returns\n",
    "rets = pd.read_pickle(pth + 'cache/RETS.pkl')\n",
    "## Import feature vectors\n",
    "wrds_svm = pd.read_pickle(pth + 'cache/WRDS_ASOF.pkl')\n",
    "## Import Monthly Prices\n",
    "prices = pd.read_pickle(pth + 'cache/PRICES.pkl')"
   ]
  },
  {
   "cell_type": "markdown",
   "source": [
    "## License for Gurobi in Colab\n",
    "\n",
    "The following code used to set up the Gurobi License on a Colab instance. At the time that the code was initially written, the ability to use a license was alternating between using Gurobi's web licensing service and the standard license file install. The following code attempts to use Gurobi's web license service, but if that fails will resort to using the standard licensing procedure.\n",
    "\n",
    "The CSV file should contain the fields given from the Gurobi web license manage. If web licensing does not work it should contain the local license key and it will use grbgetkey to license gurobi on colab machine.\n",
    "\n",
    "Unfortunately, local licensing will not work at the moment because Gurobi requires an active connection to a University network and I am unaware of a way to VPN on the colab machine.\n",
    "\n",
    "December 2022 Update -- as of gurobi 10 the WLS service should work."
   ],
   "metadata": {
    "collapsed": false
   }
  },
  {
   "cell_type": "code",
   "execution_count": 3,
   "metadata": {
    "colab": {
     "base_uri": "https://localhost:8080/"
    },
    "executionInfo": {
     "elapsed": 5677,
     "status": "ok",
     "timestamp": 1641420113983,
     "user": {
      "displayName": "Ryan Islip",
      "photoUrl": "https://lh3.googleusercontent.com/a-/AOh14GilWm_VaaGzVK5IBoUx-rWGsFz3XH3h1cea39928g=s64",
      "userId": "09447671168486293026"
     },
     "user_tz": 300
    },
    "id": "knc5ipCyNDrK",
    "outputId": "9e7bcd15-100b-4415-fb1b-214b0ed58d32"
   },
   "outputs": [],
   "source": [
    "# #read in licence info\n",
    "# gurobi_licence = pd.read_csv(pth +'cache/gurobi.csv')\n",
    "# print(\"Required info for Gurobi:\", gurobi_licence.columns)\n",
    "# try:\n",
    "#   #web license try to access it via uoft\n",
    "#   print(\"Input WLS Access ID\")\n",
    "#   accessid = input()\n",
    "#   print(\"Input WLS License ID\")\n",
    "#   licenseid = input()\n",
    "#   print(\"Input WLS Secret Key\")\n",
    "#   secret_key = input()\n",
    "#   #web license try to access it via uoft\n",
    "#   e = gp.Env(empty=True)\n",
    "#   #e.setParam('OutputFlag', 0)\n",
    "#   e.setParam('WLSACCESSID', accessid)\n",
    "#   e.setParam('LICENSEID', int(licenseid))\n",
    "#   e.setParam('WLSSECRET', secret_key)\n",
    "#   e.start()\n",
    "# except:\n",
    "#   !chmod 755 /content/gdrive/My\\ Drive/Colab\\ Notebooks/SVM\\ MVO/gurobi/grbgetkey\n",
    "#   !/content/gdrive/My\\ Drive/Colab\\ Notebooks/SVM\\ MVO/gurobi/grbgetkey {gurobi_licence.LOCAL[0]}\n",
    "#   e = gp.Env(empty=True)\n",
    "#   #chmod 755 grbgetkey\n",
    "#   e.start()\n"
   ]
  },
  {
   "cell_type": "code",
   "execution_count": 4,
   "metadata": {
    "colab": {
     "base_uri": "https://localhost:8080/"
    },
    "executionInfo": {
     "elapsed": 252,
     "status": "ok",
     "timestamp": 1641420116119,
     "user": {
      "displayName": "Ryan Islip",
      "photoUrl": "https://lh3.googleusercontent.com/a-/AOh14GilWm_VaaGzVK5IBoUx-rWGsFz3XH3h1cea39928g=s64",
      "userId": "09447671168486293026"
     },
     "user_tz": 300
    },
    "id": "sDjXG6hcczXm",
    "outputId": "cb8d3458-c584-4eb1-c664-dc402118f45c"
   },
   "outputs": [
    {
     "name": "stderr",
     "output_type": "stream",
     "text": [
      "'df' is not recognized as an internal or external command,\n",
      "operable program or batch file.\n"
     ]
    }
   ],
   "source": [
    "!df -h"
   ]
  },
  {
   "cell_type": "code",
   "execution_count": 5,
   "metadata": {
    "colab": {
     "base_uri": "https://localhost:8080/"
    },
    "executionInfo": {
     "elapsed": 134,
     "status": "ok",
     "timestamp": 1641420116583,
     "user": {
      "displayName": "Ryan Islip",
      "photoUrl": "https://lh3.googleusercontent.com/a-/AOh14GilWm_VaaGzVK5IBoUx-rWGsFz3XH3h1cea39928g=s64",
      "userId": "09447671168486293026"
     },
     "user_tz": 300
    },
    "id": "WHaYEyQwdCjQ",
    "outputId": "d57753cd-4a95-4d84-d326-aee928c99034"
   },
   "outputs": [
    {
     "name": "stderr",
     "output_type": "stream",
     "text": [
      "'cat' is not recognized as an internal or external command,\n",
      "operable program or batch file.\n"
     ]
    }
   ],
   "source": [
    "!cat /proc/cpuinfo"
   ]
  },
  {
   "cell_type": "code",
   "execution_count": 6,
   "metadata": {
    "colab": {
     "base_uri": "https://localhost:8080/"
    },
    "executionInfo": {
     "elapsed": 147,
     "status": "ok",
     "timestamp": 1641420117060,
     "user": {
      "displayName": "Ryan Islip",
      "photoUrl": "https://lh3.googleusercontent.com/a-/AOh14GilWm_VaaGzVK5IBoUx-rWGsFz3XH3h1cea39928g=s64",
      "userId": "09447671168486293026"
     },
     "user_tz": 300
    },
    "id": "3XpRrcNIdKtA",
    "outputId": "3dd8351f-26c5-4b2a-b35c-066f73835ce5"
   },
   "outputs": [
    {
     "name": "stderr",
     "output_type": "stream",
     "text": [
      "'cat' is not recognized as an internal or external command,\n",
      "operable program or batch file.\n"
     ]
    }
   ],
   "source": [
    "!cat /proc/meminfo"
   ]
  },
  {
   "cell_type": "code",
   "execution_count": 53,
   "metadata": {
    "colab": {
     "base_uri": "https://localhost:8080/"
    },
    "executionInfo": {
     "elapsed": 111,
     "status": "ok",
     "timestamp": 1641424659721,
     "user": {
      "displayName": "Ryan Islip",
      "photoUrl": "https://lh3.googleusercontent.com/a-/AOh14GilWm_VaaGzVK5IBoUx-rWGsFz3XH3h1cea39928g=s64",
      "userId": "09447671168486293026"
     },
     "user_tz": 300
    },
    "id": "nYBpVMDbM5Pi",
    "outputId": "92e418df-96ff-4dcd-c9f5-6650dcbce9a0"
   },
   "outputs": [
    {
     "name": "stdout",
     "output_type": "stream",
     "text": [
      "valid tickers: ['AAPL', 'ABC', 'ABMD', 'ABT', 'ADBE', 'ADI', 'ADM', 'ADP', 'ADSK', 'AEE', 'AEP', 'AES', 'AJG', 'AKAM', 'ALB', 'ALK', 'AMAT', 'AMD', 'AME', 'AMGN', 'AMT', 'AMZN', 'ANSS', 'AON', 'AOS', 'APA', 'APD', 'APH', 'ATO', 'AVY', 'AZO', 'BA', 'BAX', 'BBY', 'BDX', 'BKNG', 'BLL', 'BMY', 'BSX', 'BWA', 'CAG', 'CAH', 'CAT', 'CCI', 'CCL', 'CDNS', 'CERN', 'CHD', 'CHRW', 'CI', 'CL', 'CLX', 'CMCSA', 'CMI', 'CMS', 'CNP', 'COO', 'COP', 'COST', 'CPB', 'CPRT', 'CSCO', 'CSX', 'CTAS', 'CTSH', 'CTXS', 'CVS', 'CVX', 'D', 'DD', 'DGX', 'DHR', 'DIS', 'DISH', 'DLTR', 'DOV', 'DRI', 'DTE', 'DUK', 'DVA', 'DVN', 'DXC', 'EA', 'EBAY', 'ECL', 'ED', 'EFX', 'EIX', 'EL', 'EMN', 'EMR', 'EOG', 'ES', 'ETN', 'ETR', 'EVRG', 'EXC', 'EXPD', 'F', 'FAST', 'FCX', 'FDX', 'FE', 'FFIV', 'FISV', 'FLS', 'FMC', 'GD', 'GIS', 'GLW', 'GPC', 'GPS', 'GWW', 'HAL', 'HAS', 'HD', 'HES', 'HFC', 'HOG', 'HOLX', 'HON', 'HP', 'HPQ', 'HRB', 'HRL', 'HSIC', 'HSY', 'HUM', 'IBM', 'IDXX', 'IEX', 'IFF', 'INCY', 'INTC', 'INTU', 'IP', 'IPG', 'IRM', 'IT', 'ITW', 'IVZ', 'J', 'JBHT', 'JCI', 'JKHY', 'JNJ', 'JNPR', 'JWN', 'K', 'KLAC', 'KMB', 'KMX', 'KO', 'KR', 'KSS', 'KSU', 'LEG', 'LH', 'LHX', 'LIN', 'LLY', 'LMT', 'LNT', 'LOW', 'LRCX', 'LUV', 'M', 'MAR', 'MAS', 'MCD', 'MCHP', 'MCK', 'MCO', 'MDT', 'MGM', 'MHK', 'MKC', 'MLM', 'MMC', 'MMM', 'MO', 'MRK', 'MRO', 'MSFT', 'MSI', 'MTD', 'MU', 'MXIM', 'NEE', 'NEM', 'NI', 'NKE', 'NLOK', 'NOC', 'NOV', 'NSC', 'NTAP', 'NUE', 'NVDA', 'NWL', 'OMC', 'ORCL', 'ORLY', 'OXY', 'PAYX', 'PEG', 'PEP', 'PFE', 'PG', 'PH', 'PKI', 'PNR', 'PNW', 'PPG', 'PPL', 'PRGO', 'PVH', 'PWR', 'PXD', 'QCOM', 'RCL', 'REGN', 'RHI', 'RL', 'RMD', 'ROK', 'ROL', 'ROP', 'ROST', 'RSG', 'RTX', 'SBAC', 'SBUX', 'SEE', 'SHW', 'SJM', 'SLB', 'SNA', 'SNPS', 'SO', 'SPGI', 'SRE', 'STE', 'STZ', 'SWK', 'SWKS', 'SYK', 'SYY', 'T', 'TAP', 'TFX', 'TGT', 'TJX', 'TMO', 'TSCO', 'TSN', 'TT', 'TXN', 'TXT', 'UHS', 'UNH', 'UNP', 'URI', 'VFC', 'VLO', 'VMC', 'VRSN', 'VRTX', 'VZ', 'WAB', 'WAT', 'WBA', 'WDC', 'WEC', 'WHR', 'WM', 'WMB', 'WMT', 'WY', 'XEL', 'XLNX', 'XOM', 'XRAY', 'XRX', 'YUM', 'ZBRA']\n"
     ]
    }
   ],
   "source": [
    "#convenient function\n",
    "mth = rets.index[25]\n",
    "mth\n",
    "\n",
    "sign = lambda a: int((a>0)) - int((a<0))\n",
    "\n",
    "#preprocessing \n",
    "cov_, mean_ = forecasts[mth]\n",
    "N = len(mean_)\n",
    "cov = cov_[:N,:N]\n",
    "mean = mean_[:N,:]\n",
    "tics = list(rets.columns[:N])\n",
    "print(\"valid tickers:\", tics)\n",
    "#get the wharton research data for the valid tickers for the month\n",
    "wrds_tics = wrds_svm[wrds_svm.index.get_level_values('tic').isin(tics)].xs(mth, level=\"MonthStart\")\n",
    "#restrict the wharton research data to the columns of interest\n",
    "Y = wrds_tics.loc[:,\"ROC1\":\"Momentum\"] # Y matrix in formulation\n",
    "\n",
    "Y_ =  (Y - Y.mean(axis=0))/(Y.std(axis=0))\n",
    "Y_ = Y_.iloc[:,:]\n",
    "cols = ['LEV1', 'GRW1', 'Momentum']\n",
    "Y_ = Y_[cols]\n",
    "AssetLim = math.floor(N*0.8)\n",
    "\n",
    "ret_constr = -1\n",
    "\n",
    "average_y = (Y_.pow(2).sum(axis = 1)).pow(0.5).mean()\n",
    "global_epsilon = 0.1*np.sqrt(cov.mean())*average_y\n",
    "soft_margin = cov.mean()/global_epsilon\n",
    "\n",
    "#global_epsilon\n",
    "soft_margin = 0.5\n",
    "global_epsilon = 0.01"
   ]
  },
  {
   "cell_type": "markdown",
   "metadata": {
    "id": "KkuQOko4eqM0"
   },
   "source": [
    "### ADM method with individual updates on the penalty parameters and Random Restarts"
   ]
  },
  {
   "cell_type": "markdown",
   "metadata": {
    "id": "K7you9bPfMGK"
   },
   "source": [
    "### Mean Variance and SVM Joint Using Alternating Directions Method Class Definition with a scalar penalty  parameter"
   ]
  },
  {
   "cell_type": "code",
   "execution_count": 54,
   "outputs": [],
   "source": [
    "\n",
    "class SVM_MVO_ADM:\n",
    "    # '''this class models the integrated SVM MVO problem using the ADM solution method'''\n",
    "\n",
    "    def __init__(self, MVO_, SVM_, IterLim=20, ParamLim=10):\n",
    "        self.MVO_ = MVO_\n",
    "        self.SVM_ = SVM_\n",
    "        self.IterLim = IterLim\n",
    "        self.ParamLim = ParamLim\n",
    "        self.x = None\n",
    "        self.z = None\n",
    "        self.w = None\n",
    "        self.b = None\n",
    "        self.xi_svm = None\n",
    "        self.xi_mvo = None\n",
    "        self.track_change = False\n",
    "        self.change_threshold = 1\n",
    "    @property\n",
    "    def describe(self):\n",
    "        desc = \"SVM MVO with Alternating Direction Method\"\n",
    "        shrt = \"SVM MVO ADM\"\n",
    "        return desc, shrt\n",
    "\n",
    "    @property\n",
    "    def portfolio_risk(self):\n",
    "        return self.MVO_.x @ self.MVO_.cov @ self.MVO_.x\n",
    "\n",
    "    @property\n",
    "    def port_exptd_ret(self):\n",
    "        return self.MVO_.mean_ret[:, 0] @ self.MVO_.x\n",
    "\n",
    "    @property\n",
    "    def soft_penalty(self):\n",
    "        n, m = self.SVM_.exogenous.shape\n",
    "        return self.SVM_.soft_penalty\n",
    "\n",
    "    @property\n",
    "    def soft_penalty_mvo(self):\n",
    "\n",
    "        return self.MVO_.soft_penalty\n",
    "\n",
    "    @property\n",
    "    def svm_margin(self):\n",
    "        return (1 / 2) * (self.SVM_.w @ self.SVM_.w)\n",
    "\n",
    "    @property\n",
    "    def tics(self):\n",
    "        return self.MVO_.tics\n",
    "\n",
    "    @property\n",
    "    def objective_svm(self):\n",
    "        objective = self.portfolio_risk.getValue() + self.svm_margin.getValue() + self.soft_penalty.getValue()\n",
    "        if type(objective) is np.float64:\n",
    "          return objective\n",
    "        else:\n",
    "          return objective[0]\n",
    "\n",
    "    @property\n",
    "    def objective_mvo(self):\n",
    "        objective = self.portfolio_risk.getValue() + self.svm_margin.getValue() + self.soft_penalty_mvo.getValue()\n",
    "        if type(objective) is np.float64:\n",
    "          return objective\n",
    "        else:\n",
    "          return objective[0]\n",
    "\n",
    "    def initialize_soln(self, set_return=True, constrs=None, svm_constrs=None, warm_starts=None, delta=0, w_prev_soln=None):\n",
    "        if svm_constrs is None:\n",
    "            svm_constrs = []\n",
    "        if constrs is None:\n",
    "            constrs = []\n",
    "        self.MVO_.soft_margin = 0  # on initiliation make sure that the oftmargin is 0\n",
    "        self.MVO_.set_model(set_return, constrs, warm_starts)  # set up the model\n",
    "        self.MVO_.optimize()  # find optimal solution\n",
    "        if self.MVO_.model.status == 4:\n",
    "            return  # return threshold must be reduced\n",
    "        self.SVM_.mvo_z = self.MVO_.z.x\n",
    "        self.SVM_.set_model(svm_constrs, delta, w_prev_soln)\n",
    "        self.SVM_.optimize()\n",
    "\n",
    "    def solve_adm(self, store_data=True, set_return=True, constrs=None, svm_constrs=None, delta=0,\n",
    "                  w_prev_soln=None):\n",
    "        if svm_constrs is None:\n",
    "            svm_constrs = []\n",
    "        if constrs is None:\n",
    "            constrs = []\n",
    "        ws = []\n",
    "        xs = []\n",
    "        zs = []\n",
    "        penalty_hist = []\n",
    "        if self.ParamLim == 1:\n",
    "            c = np.geomspace(self.SVM_.soft_margin, self.SVM_.soft_margin, self.ParamLim)\n",
    "        else:\n",
    "            c = np.geomspace(1e-5, self.SVM_.soft_margin, self.ParamLim)  # initialized to a number > 0\n",
    "        self.SVM_.soft_margin, self.MVO_.soft_margin = (c[0], c[0])\n",
    "        xi_mvo = []\n",
    "        xi_svm = []\n",
    "        objectives_svm, objectives_mvo = ([], [])\n",
    "        start = time.time()\n",
    "        end = time.time()\n",
    "        z_param_init = self.MVO_.z.x\n",
    "        x_param_init = self.MVO_.x.x\n",
    "        for k in range(self.ParamLim):\n",
    "            self.SVM_.soft_margin, self.MVO_.soft_margin = (c[k], c[k])\n",
    "            #print(self.SVM_.soft_margin)\n",
    "            i, converged = (0, False)\n",
    "\n",
    "            w_param_init = self.SVM_.w.x\n",
    "\n",
    "            while (i <= self.IterLim) and (not converged):\n",
    "                w_prev = self.SVM_.w.x\n",
    "                x_prev = self.MVO_.x.x\n",
    "                z_prev = self.MVO_.z.x\n",
    "                if store_data:\n",
    "                    ws.append(self.SVM_.w.x)\n",
    "                    xs.append(self.MVO_.x.x)\n",
    "                    zs.append(self.MVO_.z.x)\n",
    "                    xi_mvo.append(self.MVO_.xi.x)\n",
    "                    xi_svm.append(self.SVM_.xi.x)\n",
    "                    objectives_svm.append(self.objective_svm)\n",
    "                    objectives_mvo.append(self.objective_mvo)\n",
    "                    penalty_hist.append(self.SVM_.soft_margin)\n",
    "                self.MVO_.svm_b = self.SVM_.b.x\n",
    "                self.MVO_.svm_w = self.SVM_.w.x\n",
    "\n",
    "                self.MVO_.set_model(set_return, constrs, warm_starts=[x_prev, z_prev])\n",
    "                self.MVO_.optimize()\n",
    "\n",
    "                self.SVM_.mvo_z = self.MVO_.z.x\n",
    "                self.SVM_.set_model(svm_constrs, delta, w_prev_soln)\n",
    "                self.SVM_.optimize()\n",
    "                i += 1\n",
    "\n",
    "                if check_partial_min(self, w_prev):\n",
    "                    converged = True\n",
    "                    #print(\"partial min convergence\")\n",
    "                    if store_data:\n",
    "                        ws.append(self.SVM_.w.x)\n",
    "                        xs.append(self.MVO_.x.x)\n",
    "                        zs.append(self.MVO_.z.x)\n",
    "                        xi_mvo.append(self.MVO_.xi.x)\n",
    "                        xi_svm.append(self.SVM_.xi.x)\n",
    "                        objectives_svm.append(self.objective_svm)\n",
    "                        objectives_mvo.append(self.objective_mvo)\n",
    "                        penalty_hist.append(self.SVM_.soft_margin)\n",
    "                end = time.time()\n",
    "\n",
    "            if self.track_change:\n",
    "                if check_global_convergence(self, w_param_init, z_param_init, x_param_init):\n",
    "                    print(\"ADM terminated with C = \", np.mean(self.SVM_.soft_margin))\n",
    "                    break\n",
    "            else:\n",
    "                if check_global_convergence(self, w_param_init):\n",
    "                    print(\"ADM terminated with C = \", np.mean(self.SVM_.soft_margin))\n",
    "                    break\n",
    "            #mult = get_multiplier(self)\n",
    "            #self.SVM_.soft_margin, self.MVO_.soft_margin = (self.SVM_.soft_margin * mult, self.MVO_.soft_margin * mult)\n",
    "\n",
    "\n",
    "        self.x = self.MVO_.x\n",
    "        self.z = self.MVO_.z\n",
    "        self.w = self.SVM_.w\n",
    "        self.b = self.SVM_.b\n",
    "        self.xi_svm = self.SVM_.xi\n",
    "        self.xi_mvo = self.MVO_.xi\n",
    "        #self.SVM_.soft_margin, self.MVO_.soft_margin = (\n",
    "        #    c * (2 ** (self.ParamLim-1)), c * (2 ** (self.ParamLim-1)))  # reinitialize C\n",
    "        return np.array(ws), np.array(xs), np.array(zs), np.array(xi_mvo), np.array(\n",
    "            xi_svm), end - start, objectives_svm, objectives_mvo, np.array(penalty_hist)\n",
    "\n",
    "    def evaluate(self, realized_ret):\n",
    "        ret = np.dot(self.x.X, realized_ret)\n",
    "        return ret  # use this to calculate out of sample rets and var\n",
    "\n",
    "    def get_estimates(self):\n",
    "        vol_metric = np.sqrt(self.MVO_.portfolio_risk.getValue())[0]\n",
    "        expt_ret_metric = self.MVO_.port_exptd_ret.getValue()[0]\n",
    "        return [vol_metric, expt_ret_metric]  # use this for efficient frontiers\n",
    "\n",
    "    def silence_output(self):\n",
    "        self.MVO_.model.Params.LogtoConsole = 0\n",
    "        self.SVM_.model.Params.LogtoConsole = 0\n",
    "\n",
    "    def get_results(self, export_dir='', fig_size=()):\n",
    "\n",
    "        lng, shrt = self.describe\n",
    "        vol_metric = np.sqrt(self.portfolio_risk.getValue())[0]\n",
    "        expt_ret_metric = self.port_exptd_ret.getValue()[0]\n",
    "        results = pd.DataFrame(data=np.append(self.x.X, [vol_metric, expt_ret_metric]),\n",
    "                               index=list(self.tics) + ['Volatility', 'Expected Return'], columns=[lng])\n",
    "\n",
    "        if export_dir != '':\n",
    "            results.to_csv(export_dir + 'results.csv')\n",
    "\n",
    "        if fig_size != () and type(fig_size) in [list, tuple]:\n",
    "            results[:-2].plot.bar(figsize=fig_size)\n",
    "\n",
    "        return results.transpose()\n",
    "\n",
    "    def get_frontier(self, export_dir='', fig_size=(10, 8), lower_ret=None, upper_ret=None):\n",
    "\n",
    "        n, m = self.SVM_.exogenous.shape\n",
    "        f = 25\n",
    "        mean_ret = self.MVO_.mean_ret[:, 0]\n",
    "        # F is the number of portfolios to use for frontier\n",
    "        frontier = np.empty((2, f))\n",
    "        # ws will contain the w's and b values for each portfolio\n",
    "        ws = np.empty((f, m + 1))\n",
    "        # xis will contain the w's and b values for each portfolio\n",
    "        xis = np.empty((f, n))\n",
    "        # targets for returns\n",
    "        if lower_ret is None:\n",
    "            lower_ret = mean_ret.min()\n",
    "        if upper_ret is None:\n",
    "            upper_ret = mean_ret.max()\n",
    "        ret_targ = np.linspace(lower_ret, upper_ret, f)\n",
    "\n",
    "        for i in range(f):\n",
    "\n",
    "            constraints = [self.MVO_.port_exptd_ret == ret_targ[i]]\n",
    "            self.initialize_soln(set_return=False, constrs=constraints)\n",
    "            self.solve_adm(store_data=False, set_return=False, constrs=constraints)\n",
    "\n",
    "            if self.MVO_.model.status == 4:\n",
    "                break\n",
    "\n",
    "            vol_metric = np.sqrt(self.portfolio_risk.getValue())[0]\n",
    "            frontier[:, i] = np.array([vol_metric, ret_targ[i]])\n",
    "            ws[i, :] = np.concatenate([self.w.x, self.b.x])\n",
    "            xis[i, :] = self.MVO_.xi.x\n",
    "\n",
    "        if self.MVO_.model.status == 4:\n",
    "            print(\"Resolving Model to initial state (return target) then exiting\")\n",
    "            self.MVO_.model.remove(self.MVO_.ret_target)\n",
    "            self.MVO_.model.update()\n",
    "            self.MVO_.ret_target = self.MVO_.model.addConstr(self.MVO_.port_exptd_ret >= self.MVO_.ret_constr, 'target')\n",
    "            self.MVO_.model.optimize()\n",
    "            return (None, None, None)\n",
    "\n",
    "        # restore model to original state\n",
    "        self.MVO_.model.remove(self.MVO_.ret_target)\n",
    "        self.MVO_.model.update()\n",
    "        self.MVO_.ret_target = self.MVO_.model.addConstr(self.MVO_.port_exptd_ret >= self.MVO_.ret_constr, 'target')\n",
    "        self.initialize_soln()\n",
    "        self.solve_adm()\n",
    "\n",
    "        fig, ax = plt.subplots(figsize=fig_size)\n",
    "        # Plot efficient frontier\n",
    "        ax.plot(frontier[0], frontier[1], '-*', label='Efficient Frontier', color='DarkGreen')\n",
    "\n",
    "        # Format and display the final plot\n",
    "        ax.axis([frontier[0].min() * 0.7, frontier[0].max() * 1.3, mean_ret.min() * 1.2, mean_ret.max() * 1.2])\n",
    "        ax.set_xlabel('Volatility (standard deviation)')\n",
    "        ax.set_ylabel('Expected Return')\n",
    "        # ax.legend()\n",
    "        ax.grid()\n",
    "        plt.show()\n",
    "        if (export_dir != ''):\n",
    "            plt.savefig(export_dir + \"EfficientFrontier.png\")\n",
    "        return (frontier, ws, xis)\n"
   ],
   "metadata": {
    "collapsed": false
   }
  },
  {
   "cell_type": "code",
   "execution_count": 55,
   "metadata": {
    "colab": {
     "base_uri": "https://localhost:8080/"
    },
    "executionInfo": {
     "elapsed": 16788,
     "status": "ok",
     "timestamp": 1641424827209,
     "user": {
      "displayName": "Ryan Islip",
      "photoUrl": "https://lh3.googleusercontent.com/a-/AOh14GilWm_VaaGzVK5IBoUx-rWGsFz3XH3h1cea39928g=s64",
      "userId": "09447671168486293026"
     },
     "user_tz": 300
    },
    "id": "0lHbqvBLqfkO",
    "outputId": "41ee3a26-df1d-4af9-acc5-b1bd723acacd"
   },
   "outputs": [
    {
     "name": "stdout",
     "output_type": "stream",
     "text": [
      "Set parameter MIPGap to value 0.05\n",
      "Set parameter TimeLimit to value 60\n",
      "Solution time 14.557971477508545\n"
     ]
    }
   ],
   "source": [
    "MVO_ = MVO(tics, mean, cov, ret_constr, Y_, AssetLim, epsilon = global_epsilon)\n",
    "SVM_ = SVM(tics, Y_ , soft_margin, epsilon = global_epsilon)\n",
    "SVM_MVO_Fast = SVM_MVO_ADM(MVO_, SVM_, IterLim = 10, ParamLim = 6)\n",
    "SVM_MVO_Fast.MVO_.model.params.MIPGap = 0.05\n",
    "SVM_MVO_Fast.SVM_.model.params.timelimit = 60\n",
    "SVM_MVO_Fast.MVO_.model.params.OutputFlag = 0\n",
    "SVM_MVO_Fast.SVM_.model.params.OutputFlag = 0\n",
    "start = time.time()\n",
    "SVM_MVO_Fast.initialize_soln()\n",
    "ws , xs, zs , xi_mvo, xi_svm, dt, objs_svm, objs_mvo, penalty_hist = SVM_MVO_Fast.solve_adm()\n",
    "end = time.time()\n",
    "print(\"Solution time\", end - start)"
   ]
  },
  {
   "cell_type": "code",
   "execution_count": 56,
   "outputs": [
    {
     "data": {
      "text/plain": "array([0.00355629])"
     },
     "execution_count": 56,
     "metadata": {},
     "output_type": "execute_result"
    }
   ],
   "source": [
    "SVM_MVO_Fast.svm_margin.getValue() + SVM_MVO_Fast.portfolio_risk.getValue() + SVM_MVO_Fast.soft_penalty.getValue()"
   ],
   "metadata": {
    "collapsed": false
   }
  },
  {
   "cell_type": "code",
   "execution_count": 57,
   "outputs": [
    {
     "name": "stdout",
     "output_type": "stream",
     "text": [
      "Set parameter MIPGap to value 0.05\n",
      "Set parameter TimeLimit to value 60\n",
      "Solution time 2.671647548675537\n"
     ]
    }
   ],
   "source": [
    "MVO_ = MVO(tics, mean, cov, ret_constr, Y_, AssetLim, epsilon = global_epsilon)\n",
    "SVM_ = SVM(tics, Y_ , soft_margin,epsilon = global_epsilon)\n",
    "ACS = SVM_MVO_ADM(MVO_, SVM_, IterLim = 10, ParamLim = 1)\n",
    "ACS.MVO_.model.params.MIPGap = 0.05\n",
    "ACS.SVM_.model.params.timelimit = 60\n",
    "ACS.MVO_.model.params.OutputFlag = 0\n",
    "ACS.SVM_.model.params.OutputFlag = 0\n",
    "start = time.time()\n",
    "ACS.initialize_soln()\n",
    "ws , xs, zs , xi_mvo, xi_svm, dt, objs_svm, objs_mvo, penalty_hist =ACS.solve_adm()\n",
    "end = time.time()\n",
    "print(\"Solution time\", end - start)"
   ],
   "metadata": {
    "collapsed": false
   }
  },
  {
   "cell_type": "code",
   "execution_count": 58,
   "outputs": [
    {
     "data": {
      "text/plain": "array([0.00652832])"
     },
     "execution_count": 58,
     "metadata": {},
     "output_type": "execute_result"
    }
   ],
   "source": [
    "ACS.svm_margin.getValue() + ACS.portfolio_risk.getValue() + ACS.soft_penalty.getValue()"
   ],
   "metadata": {
    "collapsed": false
   }
  },
  {
   "cell_type": "code",
   "execution_count": 59,
   "outputs": [
    {
     "data": {
      "text/plain": "array([0.00652832])"
     },
     "execution_count": 59,
     "metadata": {},
     "output_type": "execute_result"
    }
   ],
   "source": [
    "ACS.svm_margin.getValue() + ACS.portfolio_risk.getValue() + ACS.soft_penalty.getValue()"
   ],
   "metadata": {
    "collapsed": false
   }
  },
  {
   "cell_type": "markdown",
   "source": [
    "## Exact MIP Solution"
   ],
   "metadata": {
    "collapsed": false
   }
  },
  {
   "cell_type": "code",
   "execution_count": 51,
   "metadata": {
    "id": "pYWso3OSHxIy"
   },
   "outputs": [],
   "source": [
    "#SVM with slack \n",
    "SVM_MVO_Slck = SVMMVO(tics, mean, cov, ret_constr, soft_margin, Y_, AssetLim, \\\n",
    "                      svm_choice = (True, True), print_var_frntr = False, indicator = False, epsilon = global_epsilon)"
   ]
  },
  {
   "cell_type": "code",
   "execution_count": 52,
   "metadata": {
    "colab": {
     "base_uri": "https://localhost:8080/"
    },
    "executionInfo": {
     "elapsed": 95254,
     "status": "ok",
     "timestamp": 1641424922577,
     "user": {
      "displayName": "Ryan Islip",
      "photoUrl": "https://lh3.googleusercontent.com/a-/AOh14GilWm_VaaGzVK5IBoUx-rWGsFz3XH3h1cea39928g=s64",
      "userId": "09447671168486293026"
     },
     "user_tz": 300
    },
    "id": "TS8ZFw_SYBkx",
    "outputId": "fd887545-fc36-4d39-9956-1a5b766e250a"
   },
   "outputs": [
    {
     "name": "stdout",
     "output_type": "stream",
     "text": [
      "Discarded solution information including additional information\n"
     ]
    },
    {
     "data": {
      "text/plain": "100.02317643165588"
     },
     "execution_count": 52,
     "metadata": {},
     "output_type": "execute_result"
    }
   ],
   "source": [
    "SVM_MVO_Slck.model.reset(clearall = 1)\n",
    "SVM_MVO_Slck.set_model()\n",
    "SVM_MVO_Slck.model.params.OutputFlag = 0\n",
    "SVM_MVO_Slck.model.params.timelimit = 100\n",
    "SVM_MVO_Slck.model.params.MIPGap = 0.05\n",
    "SVM_MVO_Slck.optimize()"
   ]
  },
  {
   "cell_type": "code",
   "execution_count": 60,
   "outputs": [
    {
     "data": {
      "text/plain": "0.3338624185100719"
     },
     "execution_count": 60,
     "metadata": {},
     "output_type": "execute_result"
    }
   ],
   "source": [
    "SVM_MVO_Slck.model.MIPGap"
   ],
   "metadata": {
    "collapsed": false
   }
  },
  {
   "cell_type": "markdown",
   "metadata": {
    "id": "-Vrd8OkRhfNN"
   },
   "source": [
    "## Comparison between Exact and ADM method"
   ]
  },
  {
   "cell_type": "code",
   "execution_count": 61,
   "metadata": {
    "id": "FuWtrdxriCGQ"
   },
   "outputs": [],
   "source": [
    "return_premium = -1 #(Min variance portfolio)\n",
    "T = len(rets.index)"
   ]
  },
  {
   "cell_type": "code",
   "execution_count": 62,
   "metadata": {
    "id": "gk0UKZc2eZqE"
   },
   "outputs": [],
   "source": [
    "def evaluate_exact_model(rets, forecasts, wrds_svm, return_premium, model_instance, T, N, cols, link):\n",
    "\n",
    "  portfolio_weights = np.zeros([T,N])\n",
    "  xi = np.zeros([T,N])\n",
    "  z = np.zeros([T,N])\n",
    "\n",
    "  oot_returns = np.zeros(T)\n",
    "  risks = np.zeros(T)\n",
    "  svm_margins = np.zeros(T)\n",
    "  svm_penalties = np.zeros(T)\n",
    "\n",
    "  market = np.zeros(T)\n",
    "  gaps = np.zeros(T)\n",
    "  M = len(cols)\n",
    "  wis = np.zeros([T,M])\n",
    "  bias = np.zeros(T)\n",
    "\n",
    "  times = np.zeros(T)\n",
    "  i = 0 #index for dates\n",
    "\n",
    "\n",
    "  for prd in rets.index.to_list()[:T]:\n",
    "    ret_ = rets.loc[prd][:N]\n",
    "    cov_, mean_ = forecasts[prd]\n",
    "    cov = cov_[:N,:N]\n",
    "    mean = mean_[:N,:]\n",
    "    tics = list(rets.columns[:N])\n",
    "    return_premium_temp = return_premium\n",
    "    #get the wharton research data for the valid tickers for the month\n",
    "    wrds_tics = wrds_svm[wrds_svm.index.get_level_values('tic').isin(tics)].xs(prd, level=\"MonthStart\")\n",
    "    #restrict the wharton research data to the columns of interest\n",
    "    #modifying WRDS dataset here if required\n",
    "    Y = wrds_tics.loc[:,cols] # Y matrix in formulation\n",
    "    Y_ =  (Y - Y.mean(axis=0))/(Y.std(axis=0))\n",
    "    if return_premium == -1:\n",
    "      ret_constr = -1\n",
    "    else:\n",
    "      ret_constr = mean.mean()*(1 + sign(mean.mean())*return_premium)\n",
    "    model_instance.tics = tics\n",
    "    model_instance.ret_constr = ret_constr\n",
    "    model_instance.mean_ret = mean\n",
    "    model_instance.cov = cov\n",
    "    model_instance.exogenous = Y_\n",
    "\n",
    "    model_instance.model.reset(clearall = 1)\n",
    "    model_instance.set_model()\n",
    "\n",
    "\n",
    "    model_instance.model.Params.LogToConsole = 0\n",
    "    model_instance.model.setParam('TimeLimit', 100)\n",
    "    start = time.time()\n",
    "    model_instance.optimize()\n",
    "    end = time.time()\n",
    "    dt = end - start\n",
    "    print(dt)\n",
    "\n",
    "    oot_returns[i] = model_instance.evaluate(ret_)\n",
    "    market[i] = ret_.mean()\n",
    "    gaps[i] = model_instance.model.MIPGap\n",
    "    try:\n",
    "      risks[i] = model_instance.portfolio_risk.getValue()[0]\n",
    "      svm_margins[i] = model_instance.svm_margin.getValue()[0]\n",
    "      svm_penalties[i] = model_instance.soft_penalty.getValue()[0]\n",
    "    except:\n",
    "      risks[i] = model_instance.portfolio_risk.getValue()\n",
    "      svm_margins[i] = model_instance.svm_margin.getValue()\n",
    "      svm_penalties[i] = model_instance.soft_penalty.getValue()\n",
    "\n",
    "    portfolio_weights[i, :] = model_instance.x.x\n",
    "    xi[i,:] = model_instance.xi.x\n",
    "    z[i,:] = model_instance.z.x\n",
    "    times[i] = dt\n",
    "\n",
    "    if model_instance.svm_constr:\n",
    "      wis[i,:] = model_instance.w.x\n",
    "      bias[i] = model_instance.b.x\n",
    "    if i + 1 >= T:\n",
    "      break\n",
    "    if i%12 == 0:\n",
    "      print(\"_\"*25)\n",
    "      print(\"Iteration \", i)\n",
    "      print(\"Percent Complete \", i/T)\n",
    "      objective_information = pd.DataFrame([oot_returns, market, risks, svm_margins, svm_penalties,times, gaps]\n",
    "                                        , columns = rets.index[:T],\n",
    "                                        index = [\"Return\", \"Market\", \"Risk\",\n",
    "                                                    \"Margin\", \"Infeasibility\", \"Run-Time\", \"Gaps\"])\n",
    "      #eligible_weights = pd.DataFrame()\n",
    "      portfolio_weights_pd = pd.DataFrame(portfolio_weights, index = rets.index[:T], columns = model_instance.tics)\n",
    "      xi_pd = pd.DataFrame(xi, index = rets.index[:T], columns = model_instance.tics)\n",
    "      z_pd = pd.DataFrame(z, index = rets.index[:T], columns = model_instance.tics)\n",
    "\n",
    "      svm_weights = pd.DataFrame(wis, index = rets.index[:T], columns = cols)\n",
    "      svm_weights['bias'] = bias\n",
    "\n",
    "      svm_results = (portfolio_weights_pd, objective_information.T, svm_weights, z_pd, xi_pd)\n",
    "      with open(link, 'wb') as fp:\n",
    "        pkl.dump(svm_results, fp);\n",
    "    i = i+1\n",
    "  objective_information = pd.DataFrame([oot_returns, market, risks, svm_margins, svm_penalties,times, gaps]\n",
    "                                    , columns = rets.index[:T],\n",
    "                                    index = [\"Return\", \"Market\", \"Risk\",\n",
    "                                                \"Margin\", \"Infeasibility\", \"Run-Time\", \"Gaps\"])\n",
    "  #eligible_weights = pd.DataFrame()\n",
    "  portfolio_weights_pd = pd.DataFrame(portfolio_weights, index = rets.index[:T], columns = model_instance.tics)\n",
    "  xi_pd = pd.DataFrame(xi, index = rets.index[:T], columns = model_instance.tics)\n",
    "  z_pd = pd.DataFrame(z, index = rets.index[:T], columns = model_instance.tics)\n",
    "\n",
    "  svm_weights = pd.DataFrame(wis, index = rets.index[:T], columns = cols)\n",
    "  svm_weights['bias'] = bias\n",
    "\n",
    "  svm_results = (portfolio_weights_pd, objective_information.T, svm_weights, z_pd, xi_pd)\n",
    "\n",
    "  with open(link, 'wb') as fp:\n",
    "    pkl.dump(svm_results, fp);\n",
    "  return (portfolio_weights_pd, objective_information.T, svm_weights, z_pd, xi_pd)\n"
   ]
  },
  {
   "cell_type": "code",
   "execution_count": 63,
   "metadata": {
    "colab": {
     "base_uri": "https://localhost:8080/"
    },
    "id": "uot-zH0Pjg5L",
    "executionInfo": {
     "status": "ok",
     "timestamp": 1640915405670,
     "user_tz": 300,
     "elapsed": 79953,
     "user": {
      "displayName": "Ryan Islip",
      "photoUrl": "https://lh3.googleusercontent.com/a-/AOh14GilWm_VaaGzVK5IBoUx-rWGsFz3XH3h1cea39928g=s64",
      "userId": "09447671168486293026"
     }
    },
    "outputId": "8db9de07-dfcf-47f8-bc2a-eb4d0fe26bf0"
   },
   "outputs": [
    {
     "name": "stdout",
     "output_type": "stream",
     "text": [
      "2.1539816856384277\n",
      "_________________________\n",
      "Iteration  0\n",
      "Percent Complete  0.0\n"
     ]
    }
   ],
   "source": [
    "link = pth +'cache/Experiments/svm_exact_2023.pkl'\n",
    "svm_results = evaluate_exact_model(rets, forecasts, wrds_svm, return_premium, SVM_MVO_Slck, T, N, cols, link)"
   ]
  },
  {
   "cell_type": "code",
   "execution_count": 65,
   "metadata": {
    "id": "UOR7QY0woVcC"
   },
   "outputs": [],
   "source": [
    "def evaluate_adm(rets, forecasts, wrds_svm, return_premium, model_instance, T,\n",
    "                 N, cols, link):\n",
    "\n",
    "  portfolio_weights = np.zeros([T,N])\n",
    "  xi = np.zeros([T,N])\n",
    "  z = np.zeros([T,N])\n",
    "  oot_returns = np.zeros(T)\n",
    "  risks = np.zeros(T)\n",
    "  svm_margins = np.zeros(T)\n",
    "  svm_penalties = np.zeros(T)\n",
    "\n",
    "  market = np.zeros(T)\n",
    "  M = len(cols)\n",
    "  wis = np.zeros([T,M])\n",
    "  bias = np.zeros(T)\n",
    "\n",
    "  times = np.zeros(T)\n",
    "  i = 0 #index for dates\n",
    "  w_mabs = 0 #initialize\n",
    "\n",
    "  for prd in rets.index.to_list()[:T]:\n",
    "    ret_ = rets.loc[prd][:N]\n",
    "    cov_, mean_ = forecasts[prd]\n",
    "    cov = cov_[:N,:N]\n",
    "    mean = mean_[:N,:]\n",
    "    tics = list(rets.columns[:N])\n",
    "    return_premium_temp = return_premium\n",
    "    #get the wharton research data for the valid tickers for the month\n",
    "    wrds_tics = wrds_svm[wrds_svm.index.get_level_values('tic').isin(tics)].xs(prd, level=\"MonthStart\")\n",
    "    #restrict the wharton research data to the columns of interest\n",
    "    #modifying WRDS dataset here if required\n",
    "    Y = wrds_tics.loc[:,cols] # Y matrix in formulation\n",
    "    Y_ =  (Y - Y.mean(axis=0))/(Y.std(axis=0))\n",
    "    if return_premium == -1:\n",
    "      ret_constr = -1\n",
    "    else:\n",
    "      ret_constr = mean.mean()*(1 + sign(mean.mean())*return_premium)\n",
    "    model_instance.MVO_.tics = tics\n",
    "    model_instance.SVM_.tics = tics\n",
    "    model_instance.MVO_.ret_constr = ret_constr\n",
    "    model_instance.MVO_.mean_ret = mean\n",
    "    model_instance.MVO_.cov = cov\n",
    "    model_instance.MVO_.exogenous = Y_\n",
    "    model_instance.SVM_.exogenous = Y_\n",
    "\n",
    "    model_instance.SVM_.model.reset(clearall = 1)\n",
    "    model_instance.MVO_.model.reset(clearall = 1)\n",
    "\n",
    "    start = time.time()\n",
    "    model_instance.initialize_soln()\n",
    "\n",
    "\n",
    "    model_instance.silence_output()\n",
    "    model_instance.solve_adm(store_data=False)\n",
    "    end = time.time()\n",
    "    dt = end-start\n",
    "    print(dt)\n",
    "\n",
    "    oot_returns[i] = model_instance.evaluate(ret_)\n",
    "    market[i] = ret_.mean()\n",
    "    portfolio_weights[i, :] = model_instance.x.x\n",
    "    xi[i,:] = model_instance.SVM_.xi.x\n",
    "    z[i,:] = model_instance.z.x\n",
    "    try:\n",
    "      risks[i] = model_instance.portfolio_risk.getValue()[0]\n",
    "      svm_margins[i] = model_instance.svm_margin.getValue()[0]\n",
    "      svm_penalties[i] = model_instance.soft_penalty.getValue()[0]\n",
    "    except:\n",
    "      risks[i] = model_instance.portfolio_risk.getValue()\n",
    "      svm_margins[i] = model_instance.svm_margin.getValue()\n",
    "      svm_penalties[i] = model_instance.soft_penalty.getValue()\n",
    "    portfolio_weights[i, :] = model_instance.x.x\n",
    "    times[i] = dt\n",
    "    wis[i,:] = model_instance.w.x\n",
    "    bias[i] = model_instance.b.x\n",
    "\n",
    "    if i + 1 >= T:\n",
    "      break\n",
    "\n",
    "    if i%12 == 0:\n",
    "      print(\"_\"*25)\n",
    "      print(\"Iteration \", i)\n",
    "      print(\"Percent Complete \", i/T)\n",
    "      objective_information = pd.DataFrame([oot_returns, market, risks, svm_margins, svm_penalties,times]\n",
    "                                       , columns = rets.index[:T],\n",
    "                                       index = [\"Return\", \"Market\", \"Risk\",\n",
    "                                                  \"Margin\", \"Infeasibility\", \"Run-Time\"])\n",
    "      #eligible_weights = pd.DataFrame()\n",
    "      portfolio_weights_pd = pd.DataFrame(portfolio_weights, index = rets.index[:T], columns = model_instance.tics)\n",
    "      xi_pd = pd.DataFrame(xi, index = rets.index[:T], columns = model_instance.tics)\n",
    "      z_pd = pd.DataFrame(z, index = rets.index[:T], columns = model_instance.tics)\n",
    "\n",
    "      svm_weights = pd.DataFrame(wis, index = rets.index[:T], columns = cols)\n",
    "      svm_weights['bias'] = bias\n",
    "      adm_results = (portfolio_weights, objective_information.T, svm_weights, z_pd, xi_pd)\n",
    "      with open(link, 'wb') as fp:\n",
    "        pkl.dump(adm_results, fp);\n",
    "    i = i+1\n",
    "  objective_information = pd.DataFrame([oot_returns, market, risks, svm_margins, svm_penalties,times]\n",
    "                                  , columns = rets.index[:T],\n",
    "                                  index = [\"Return\", \"Market\", \"Risk\",\n",
    "                                              \"Margin\", \"Infeasibility\", \"Run-Time\"])\n",
    "  #eligible_weights = pd.DataFrame()\n",
    "  portfolio_weights_pd = pd.DataFrame(portfolio_weights, index = rets.index[:T], columns = model_instance.tics)\n",
    "  xi_pd = pd.DataFrame(xi, index = rets.index[:T], columns = model_instance.tics)\n",
    "  z_pd = pd.DataFrame(z, index = rets.index[:T], columns = model_instance.tics)\n",
    "\n",
    "  svm_weights = pd.DataFrame(wis, index = rets.index[:T], columns = cols)\n",
    "  svm_weights['bias'] = bias\n",
    "  adm_results = (portfolio_weights, objective_information.T, svm_weights, z_pd, xi_pd)\n",
    "  with open(link, 'wb') as fp:\n",
    "    pkl.dump(adm_results, fp);\n",
    "  return (portfolio_weights_pd, objective_information.T, svm_weights, z_pd, xi_pd)"
   ]
  },
  {
   "cell_type": "code",
   "execution_count": 66,
   "metadata": {
    "id": "4WlrGNR4uoII",
    "colab": {
     "base_uri": "https://localhost:8080/"
    },
    "outputId": "d0fe7072-5489-4771-e69e-88fb73f1a545"
   },
   "outputs": [
    {
     "name": "stdout",
     "output_type": "stream",
     "text": [
      "21.158535957336426\n",
      "_________________________\n",
      "Iteration  0\n",
      "Percent Complete  0.0\n",
      "13.086507558822632\n"
     ]
    }
   ],
   "source": [
    "link = pth +'cache/Experiments/svm_padm_2023.pkl'\n",
    "padm_results = evaluate_adm(rets, forecasts, wrds_svm, return_premium, SVM_MVO_Fast,\n",
    "                           T, N, cols, link)"
   ]
  },
  {
   "cell_type": "code",
   "execution_count": 67,
   "outputs": [
    {
     "name": "stdout",
     "output_type": "stream",
     "text": [
      "6.352819204330444\n",
      "_________________________\n",
      "Iteration  0\n",
      "Percent Complete  0.0\n",
      "3.8343751430511475\n"
     ]
    }
   ],
   "source": [
    "link = pth +'cache/Experiments/svm_padm_2023.pkl'\n",
    "adm_results = evaluate_adm(rets, forecasts, wrds_svm, return_premium, ACS,\n",
    "                           T, N, cols, link)"
   ],
   "metadata": {
    "collapsed": false
   }
  },
  {
   "cell_type": "code",
   "execution_count": null,
   "outputs": [],
   "source": [],
   "metadata": {
    "collapsed": false
   }
  }
 ],
 "metadata": {
  "colab": {
   "background_execution": "on",
   "collapsed_sections": [],
   "name": "ADM Comparison NoteBook Timing.ipynb",
   "provenance": [],
   "mount_file_id": "1hDdRLz3mUB0Ldphf50Bl9ZWw8qHh1iP5",
   "authorship_tag": "ABX9TyNA3xwB7SHJoVJiUcJxVn4N"
  },
  "kernelspec": {
   "display_name": "Python 3",
   "name": "python3"
  },
  "language_info": {
   "name": "python"
  }
 },
 "nbformat": 4,
 "nbformat_minor": 0
}
