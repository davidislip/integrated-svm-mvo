{
 "cells": [
  {
   "cell_type": "markdown",
   "metadata": {
    "id": "MqN_y29M6YR8"
   },
   "source": [
    "### Integration of SVM and MVO \n",
    "3 factor, 3 turnover, premium of 10% experiments\n",
    "\n",
    "This notebook only contains exact solves"
   ]
  },
  {
   "cell_type": "code",
   "execution_count": 1,
   "metadata": {
    "colab": {
     "base_uri": "https://localhost:8080/"
    },
    "executionInfo": {
     "elapsed": 117735,
     "status": "ok",
     "timestamp": 1665772772163,
     "user": {
      "displayName": "Ryan Islip",
      "userId": "09447671168486293026"
     },
     "user_tz": 240
    },
    "id": "l3fEvFDq6PgZ",
    "outputId": "cb2fa87c-22f8-40e6-bafa-2d10354be140"
   },
   "outputs": [
    {
     "name": "stdout",
     "output_type": "stream",
     "text": [
      "Set parameter Username\n",
      "Academic license - for non-commercial use only - expires 2023-08-09\n"
     ]
    }
   ],
   "source": [
    "import gurobipy as gp\n",
    "from gurobipy import GRB\n",
    "pth = ''\n",
    "import sys\n",
    "import math \n",
    "import time\n",
    "\n",
    "from python.packages import *\n",
    "from python.svm_mvo import *\n",
    "from python.analysis_tools import *\n",
    "from itertools import product\n",
    "import os\n",
    "\n",
    "%matplotlib inline\n",
    "## Import Forecasts\n",
    "forecasts = pd.read_pickle(pth +'cache/Forecasts.pkl')\n",
    "## Import Returns\n",
    "rets = pd.read_pickle(pth + 'cache/RETS.pkl')\n",
    "## Import feature vectors\n",
    "wrds_svm = pd.read_pickle(pth + 'cache/WRDS_ASOF.pkl')\n",
    "## Import monthly prices\n",
    "prices = pd.read_pickle(pth + 'cache/PRICES.pkl')"
   ]
  },
  {
   "cell_type": "code",
   "execution_count": 2,
   "outputs": [
    {
     "data": {
      "text/plain": "Timestamp('2000-07-01 00:00:00')"
     },
     "execution_count": 2,
     "metadata": {},
     "output_type": "execute_result"
    }
   ],
   "source": [
    "mth = rets.index[0]\n",
    "mth"
   ],
   "metadata": {
    "collapsed": false
   }
  },
  {
   "cell_type": "code",
   "execution_count": 3,
   "outputs": [
    {
     "name": "stdout",
     "output_type": "stream",
     "text": [
      "valid tickers: ['AAPL', 'ABC', 'ABMD', 'ABT', 'ADBE', 'ADI', 'ADM', 'ADP', 'ADSK', 'AEE', 'AEP', 'AES', 'AJG', 'AKAM', 'ALB', 'ALK', 'AMAT', 'AMD', 'AME', 'AMGN', 'AMT', 'AMZN', 'ANSS', 'AON', 'AOS', 'APA', 'APD', 'APH', 'ATO', 'AVY', 'AZO', 'BA', 'BAX', 'BBY', 'BDX', 'BKNG', 'BLL', 'BMY', 'BSX', 'BWA', 'CAG', 'CAH', 'CAT', 'CCI', 'CCL', 'CDNS', 'CERN', 'CHD', 'CHRW', 'CI', 'CL', 'CLX', 'CMCSA', 'CMI', 'CMS', 'CNP', 'COO', 'COP', 'COST', 'CPB', 'CPRT', 'CSCO', 'CSX', 'CTAS', 'CTSH', 'CTXS', 'CVS', 'CVX', 'D', 'DD', 'DGX', 'DHR', 'DIS', 'DISH', 'DLTR', 'DOV', 'DRI', 'DTE', 'DUK', 'DVA', 'DVN', 'DXC', 'EA', 'EBAY', 'ECL', 'ED', 'EFX', 'EIX', 'EL', 'EMN', 'EMR', 'EOG', 'ES', 'ETN', 'ETR', 'EVRG', 'EXC', 'EXPD', 'F', 'FAST', 'FCX', 'FDX', 'FE', 'FFIV', 'FISV', 'FLS', 'FMC', 'GD', 'GIS', 'GLW', 'GPC', 'GPS', 'GWW', 'HAL', 'HAS', 'HD', 'HES', 'HFC', 'HOG', 'HOLX', 'HON', 'HP', 'HPQ', 'HRB', 'HRL', 'HSIC', 'HSY', 'HUM', 'IBM', 'IDXX', 'IEX', 'IFF', 'INCY', 'INTC', 'INTU', 'IP', 'IPG', 'IRM', 'IT', 'ITW', 'IVZ', 'J', 'JBHT', 'JCI', 'JKHY', 'JNJ', 'JNPR', 'JWN', 'K', 'KLAC', 'KMB', 'KMX', 'KO', 'KR', 'KSS', 'KSU', 'LEG', 'LH', 'LHX', 'LIN', 'LLY', 'LMT', 'LNT', 'LOW', 'LRCX', 'LUV', 'M', 'MAR', 'MAS', 'MCD', 'MCHP', 'MCK', 'MCO', 'MDT', 'MGM', 'MHK', 'MKC', 'MLM', 'MMC', 'MMM', 'MO', 'MRK', 'MRO', 'MSFT', 'MSI', 'MTD', 'MU', 'MXIM', 'NEE', 'NEM', 'NI', 'NKE', 'NLOK', 'NOC', 'NOV', 'NSC', 'NTAP', 'NUE', 'NVDA', 'NWL', 'OMC', 'ORCL', 'ORLY', 'OXY', 'PAYX', 'PEG', 'PEP', 'PFE', 'PG', 'PH', 'PKI', 'PNR', 'PNW', 'PPG', 'PPL', 'PRGO', 'PVH', 'PWR', 'PXD', 'QCOM', 'RCL', 'REGN', 'RHI', 'RL', 'RMD', 'ROK', 'ROL', 'ROP', 'ROST', 'RSG', 'RTX', 'SBAC', 'SBUX', 'SEE', 'SHW', 'SJM', 'SLB', 'SNA', 'SNPS', 'SO', 'SPGI', 'SRE', 'STE', 'STZ', 'SWK', 'SWKS', 'SYK', 'SYY', 'T', 'TAP', 'TFX', 'TGT', 'TJX', 'TMO', 'TSCO', 'TSN', 'TT', 'TXN', 'TXT', 'UHS', 'UNH', 'UNP', 'URI', 'VFC', 'VLO', 'VMC', 'VRSN', 'VRTX', 'VZ', 'WAB', 'WAT', 'WBA', 'WDC', 'WEC', 'WHR', 'WM', 'WMB', 'WMT', 'WY', 'XEL', 'XLNX', 'XOM', 'XRAY', 'XRX', 'YUM', 'ZBRA']\n"
     ]
    }
   ],
   "source": [
    "#convenient function\n",
    "sign = lambda a: int((a>0)) - int((a<0))\n",
    "#preprocessing\n",
    "cov_, mean_ = forecasts[mth]\n",
    "N = len(mean_)\n",
    "cov = cov_[:N,:N]\n",
    "mean = mean_[:N,:]\n",
    "tics = list(rets.columns[:N])\n",
    "print(\"valid tickers:\", tics)\n",
    "\n",
    "#get the wharton research data for the valid tickers for the month\n",
    "wrds_tics = wrds_svm[wrds_svm.index.get_level_values('tic').isin(tics)].xs(mth, level=\"MonthStart\")\n",
    "cols =  ['INV3', 'PRO6', 'INV1']\n",
    "Y = wrds_tics.loc[:,cols] # Y matrix in formulation\n",
    "\n",
    "def padm_data_treatment(Y):\n",
    "    # Y['Momentum'] = wrds_tics.Momentum\n",
    "    #restrict the wharton research data to the columns of interest\n",
    "    Y_ =  (Y - Y.mean(axis=0))/(Y.std(axis=0)) #scale the features\n",
    "    return Y_\n",
    "\n",
    "Y = padm_data_treatment(Y)\n",
    "\n",
    "ret_constr = 0.01 #no return constraint\n",
    "soft_margin = 1 #large preference for separation feasibility\n",
    "\n",
    "name = \"no_neg\"\n",
    "ratio = 0.7 #% of assets\n",
    "card_desc = \"Card07\"\n",
    "\n",
    "turnover_descs = [\"0_75\", \"1\", \"1_25\"]\n",
    "turnovers = [0.75/6, 1.00/6, 1.25/6] #divide by 6!\n",
    "AssetLim = math.floor(N*ratio)\n",
    "epsilon = 1e-3 #epsilon hyper-parameter\n",
    "non_negativity_setting = True #set the hyperplane to have a normal in the non-negative orthant\n",
    "ratios = [0.1, 0.3, 0.5, 0.7, 0.9]\n",
    "            #SVM Heavy to not heavy\n",
    "epsilons = [1e-2, 1e-3] # is no SVM consideration\n",
    "epsilons_desc = {1e-2:\"eps negative 2\", 1e-3:\"eps negative 3\", 1e-4:\"eps negative 4\", 1e-5:\"eps negative 5\"}\n",
    "card_desc_list = {0.1:\"Card01\", 0.3:\"Card03\", 0.5:\"Card05\", 0.7:\"Card07\", 0.9:\"Card09\"}\n",
    "\n",
    "dpi_setting = 150"
   ],
   "metadata": {
    "collapsed": false
   }
  },
  {
   "cell_type": "code",
   "execution_count": null,
   "metadata": {
    "id": "_wCkTgWbCJW7",
    "pycharm": {
     "is_executing": true
    }
   },
   "outputs": [
    {
     "name": "stdout",
     "output_type": "stream",
     "text": [
      "Set parameter MIPGap to value 0.05\n",
      "Set parameter TimeLimit to value 10\n",
      "Set parameter TimeLimit to value 60\n",
      "\n",
      "Initialization successful\n",
      "\n",
      "\n",
      "\n"
     ]
    }
   ],
   "source": [
    "MVO_ = MVO(tics, mean, cov, ret_constr, Y, AssetLim, epsilon=epsilon)\n",
    "SVM_ = SVM(tics, Y , soft_margin*np.ones_like(mean), non_neg = non_negativity_setting, epsilon=epsilon)\n",
    "SVM_MVO_Fast = SVM_MVO_ADM(MVO_, SVM_, IterLim = 5, ParamLim = 5)\n",
    "SVM_MVO_Fast.MVO_.model.params.MIPGap = 0.05\n",
    "SVM_MVO_Fast.MVO_.model.params.timelimit = 10\n",
    "SVM_MVO_Fast.SVM_.model.params.timelimit = 60\n",
    "SVM_MVO_Fast.MVO_.model.params.OutputFlag = 0\n",
    "SVM_MVO_Fast.SVM_.model.params.OutputFlag = 0\n",
    "start = time.time()\n",
    "SVM_MVO_Fast.silence_output()\n",
    "SVM_MVO_Fast.initialize_soln(delta = 0.1, w_prev_soln= np.zeros(Y.shape[1]))\n",
    "print(\"Initialization successful\")\n",
    "ws , xs, zs , xi_mvo, xi_svm, dt, objs_svm, objs_mvo, penalty_hist = SVM_MVO_Fast.solve_adm(delta = 0.1, w_prev_soln= np.zeros(Y.shape[1]))\n",
    "end = time.time()\n",
    "print(\"Solution time\", end - start)"
   ]
  },
  {
   "cell_type": "code",
   "execution_count": null,
   "outputs": [],
   "source": [
    "MVO2 = SVMMVO(tics, mean, cov, ret_constr, soft_margin, Y, AssetLim,\\\n",
    "             svm_choice = (False, False), print_var_frntr= False, cardinality = True) #define an instance of the class\n",
    "MVO2.set_model() #set up the model\n",
    "MVO2.optimize() #find optimal solution\n",
    "MVO2.model.params.outputflag = 0"
   ],
   "metadata": {
    "collapsed": false,
    "pycharm": {
     "is_executing": true
    }
   }
  },
  {
   "cell_type": "code",
   "execution_count": null,
   "outputs": [],
   "source": [
    "SVM_MVO_Fast.w.x"
   ],
   "metadata": {
    "collapsed": false,
    "pycharm": {
     "is_executing": true
    }
   }
  },
  {
   "cell_type": "code",
   "execution_count": null,
   "outputs": [],
   "source": [
    "plt.plot(MVO2.x.x)\n",
    "plt.plot(SVM_MVO_Fast.x.x)"
   ],
   "metadata": {
    "collapsed": false,
    "pycharm": {
     "is_executing": true
    }
   }
  },
  {
   "cell_type": "code",
   "execution_count": null,
   "outputs": [],
   "source": [
    "plt.plot(ws)\n",
    "plt.legend(cols)"
   ],
   "metadata": {
    "collapsed": false,
    "pycharm": {
     "is_executing": true
    }
   }
  },
  {
   "cell_type": "code",
   "execution_count": null,
   "outputs": [],
   "source": [
    "# plt.plot(SVM_MVO_Slck.w.x, label = 'Slack')\n",
    "plt.plot(SVM_MVO_Fast.w.x, label= 'ADM')\n",
    "plt.legend();\n",
    "\n",
    "plt.figure()\n",
    "#plt.plot(SVM_MVO_Slck.xi.x, label = 'Slack')\n",
    "plt.plot(SVM_MVO_Fast.xi_mvo.x, label= 'ADM')\n",
    "plt.legend();"
   ],
   "metadata": {
    "collapsed": false,
    "pycharm": {
     "is_executing": true
    }
   }
  },
  {
   "cell_type": "code",
   "execution_count": null,
   "metadata": {
    "id": "GWQrF1xPT-8F",
    "pycharm": {
     "is_executing": true
    }
   },
   "outputs": [],
   "source": [
    "return_premium = 0.1 #similiar to Costa and Kwon \n",
    "#Limit = 0.75/6 #1/6 because Costa and Kwon use 1 for 6 month period. \n",
    "T = len(rets.index)"
   ]
  },
  {
   "cell_type": "code",
   "execution_count": null,
   "outputs": [],
   "source": [
    "\"\".join(map(str, cols))"
   ],
   "metadata": {
    "collapsed": false,
    "pycharm": {
     "is_executing": true
    }
   }
  },
  {
   "cell_type": "code",
   "execution_count": null,
   "metadata": {
    "colab": {
     "base_uri": "https://localhost:8080/"
    },
    "executionInfo": {
     "elapsed": 57325,
     "status": "ok",
     "timestamp": 1653867865102,
     "user": {
      "displayName": "Ryan Islip",
      "userId": "09447671168486293026"
     },
     "user_tz": 240
    },
    "id": "CkMsa5WE1HaA",
    "outputId": "e82d5495-bb6c-41ff-9fa7-7f83be0ce490",
    "pycharm": {
     "is_executing": true
    }
   },
   "outputs": [],
   "source": [
    "for ratio, epsilon in product(ratios, epsilons):\n",
    "    AssetLim = math.floor(N*ratio)\n",
    "\n",
    "    SVM_MVO_Fast.MVO_.AssetLim = AssetLim\n",
    "    SVM_MVO_Fast.MVO_.epsilon = epsilon\n",
    "    SVM_MVO_Fast.SVM_.epsilon = epsilon\n",
    "    card_desc = card_desc_list[ratio]\n",
    "    print(\"processing asset limit \", AssetLim)\n",
    "\n",
    "    isExist = os.path.exists(\"cache/Local Experiments/\"+epsilons_desc[epsilon])\n",
    "    if not isExist:\n",
    "        os.makedirs(\"cache/Local Experiments/\"+epsilons_desc[epsilon])\n",
    "        print(\"The new directory is created!\")\n",
    "    for i in range(len(turnovers)):\n",
    "        turnover = turnovers[i]\n",
    "        turnover_desc = turnover_descs[i]\n",
    "        adm_results = evaluate_adm(rets, forecasts, wrds_svm, return_premium, SVM_MVO_Fast, T, N, cols,\n",
    "                 turnover, lr=None, data_treatment=padm_data_treatment)\n",
    "        col_string = \"\".join(map(str, cols))\n",
    "        out_pth = \"cache/Local Experiments/\"+epsilons_desc[epsilon] + \"/\" + \"padm\" +card_desc + \"_\" +col_string + \"_\" +turnover_desc + name + \".pkl\"\n",
    "        with open(out_pth, 'wb') as fp:\n",
    "          pkl.dump(adm_results, fp)\n",
    "#end here for now - 1:32 AM 2022 - 10 22"
   ]
  },
  {
   "cell_type": "code",
   "execution_count": null,
   "outputs": [],
   "source": [
    "plt.plot(adm_results[3])"
   ],
   "metadata": {
    "collapsed": false,
    "pycharm": {
     "is_executing": true
    }
   }
  },
  {
   "cell_type": "code",
   "execution_count": 19,
   "outputs": [
    {
     "name": "stdout",
     "output_type": "stream",
     "text": [
      "Gurobi Optimizer version 9.5.2 build v9.5.2rc0 (win64)\n",
      "Thread count: 4 physical cores, 8 logical processors, using up to 8 threads\n",
      "Optimize a model with 290 rows, 858 columns and 1716 nonzeros\n",
      "Model fingerprint: 0xb57f3f66\n",
      "Model has 41041 quadratic objective terms\n",
      "Model has 286 general constraints\n",
      "Variable types: 572 continuous, 286 integer (286 binary)\n",
      "Coefficient statistics:\n",
      "  Matrix range     [2e-04, 1e+00]\n",
      "  Objective range  [0e+00, 0e+00]\n",
      "  QObjective range [6e-07, 6e-01]\n",
      "  Bounds range     [1e+00, 1e+00]\n",
      "  RHS range        [1e-02, 2e+02]\n",
      "  GenCon rhs range [1e-05, 1e-05]\n",
      "  GenCon coe range [1e+00, 1e+00]\n",
      "Presolve added 285 rows and 0 columns\n",
      "Presolve removed 0 rows and 286 columns\n",
      "Presolve time: 0.02s\n",
      "Presolved: 575 rows, 572 columns, 2002 nonzeros\n",
      "Presolved model has 41041 quadratic objective terms\n",
      "Variable types: 286 continuous, 286 integer (286 binary)\n",
      "Found heuristic solution: objective 0.0108426\n",
      "\n",
      "Root relaxation: objective 6.862430e-04, 187 iterations, 0.02 seconds (0.01 work units)\n",
      "\n",
      "    Nodes    |    Current Node    |     Objective Bounds      |     Work\n",
      " Expl Unexpl |  Obj  Depth IntInf | Incumbent    BestBd   Gap | It/Node Time\n",
      "\n",
      "     0     0    0.00069    0   50    0.01084    0.00069  93.7%     -    0s\n",
      "H    0     0                       0.0006862    0.00069  0.00%     -    0s\n",
      "     0     0    0.00069    0   50    0.00069    0.00069  0.00%     -    0s\n",
      "\n",
      "Explored 1 nodes (187 simplex iterations) in 0.11 seconds (0.02 work units)\n",
      "Thread count was 8 (of 8 available processors)\n",
      "\n",
      "Solution count 2: 0.000686243 0.0108426 \n",
      "\n",
      "Optimal solution found (tolerance 1.00e-04)\n",
      "Best objective 6.862429851915e-04, best bound 6.862429851915e-04, gap 0.0000%\n",
      "Warning: constraint name \"z force x[0]\" has a space\n",
      "Warning: general constraint name \"indicator constraint\" has a space\n"
     ]
    },
    {
     "data": {
      "text/plain": "<Figure size 1000x800 with 1 Axes>",
      "image/png": "[encoded data removed]"
     },
     "metadata": {},
     "output_type": "display_data"
    }
   ],
   "source": [
    "MVO2 = SVMMVO(tics, mean, cov, ret_constr, soft_margin, Y, AssetLim,\\\n",
    "             svm_choice = (False, False), print_var_frntr= False, cardinality = True) #define an instance of the class\n",
    "MVO2.set_model() #set up the model\n",
    "MVO2.optimize() #find optimal solution\n",
    "MVO2.model.params.outputflag = 0\n",
    "mv_ef = MVO2.get_frontier()"
   ],
   "metadata": {
    "collapsed": false
   }
  },
  {
   "cell_type": "code",
   "execution_count": null,
   "outputs": [],
   "source": [],
   "metadata": {
    "collapsed": false
   }
  }
 ],
 "metadata": {
  "colab": {
   "authorship_tag": "ABX9TyNLHzUCXYV8NuOP0wprCxWF",
   "background_execution": "on",
   "collapsed_sections": [],
   "mount_file_id": "1hDdRLz3mUB0Ldphf50Bl9ZWw8qHh1iP5",
   "provenance": []
  },
  "kernelspec": {
   "display_name": "Python 3 (ipykernel)",
   "language": "python",
   "name": "python3"
  },
  "language_info": {
   "codemirror_mode": {
    "name": "ipython",
    "version": 3
   },
   "file_extension": ".py",
   "mimetype": "text/x-python",
   "name": "python",
   "nbconvert_exporter": "python",
   "pygments_lexer": "ipython3",
   "version": "3.10.6"
  }
 },
 "nbformat": 4,
 "nbformat_minor": 4
}
